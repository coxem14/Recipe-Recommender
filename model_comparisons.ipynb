{
 "cells": [
  {
   "cell_type": "code",
   "execution_count": 1,
   "metadata": {},
   "outputs": [],
   "source": [
    "import pickle\n",
    "import pandas as pd\n",
    "import numpy as np\n",
    "from sklearn.metrics.pairwise import cosine_distances\n",
    "import joblib\n",
    "from sklearn.feature_extraction.text import CountVectorizer\n",
    "from sklearn.model_selection import train_test_split\n",
    "import matplotlib.pyplot as plt"
   ]
  },
  {
   "cell_type": "code",
   "execution_count": 2,
   "metadata": {},
   "outputs": [],
   "source": [
    "with open('./flask_app/250k_new_df_pickle_4.pkl', 'rb') as f:\n",
    "    df = pickle.load(f)"
   ]
  },
  {
   "cell_type": "code",
   "execution_count": 3,
   "metadata": {},
   "outputs": [
    {
     "data": {
      "text/html": [
       "<div>\n",
       "<style scoped>\n",
       "    .dataframe tbody tr th:only-of-type {\n",
       "        vertical-align: middle;\n",
       "    }\n",
       "\n",
       "    .dataframe tbody tr th {\n",
       "        vertical-align: top;\n",
       "    }\n",
       "\n",
       "    .dataframe thead th {\n",
       "        text-align: right;\n",
       "    }\n",
       "</style>\n",
       "<table border=\"1\" class=\"dataframe\">\n",
       "  <thead>\n",
       "    <tr style=\"text-align: right;\">\n",
       "      <th></th>\n",
       "      <th>Unnamed: 0</th>\n",
       "      <th>title</th>\n",
       "      <th>NER</th>\n",
       "      <th>site</th>\n",
       "      <th>urls</th>\n",
       "      <th>bag_of_words</th>\n",
       "      <th>cleaned_bow</th>\n",
       "    </tr>\n",
       "  </thead>\n",
       "  <tbody>\n",
       "    <tr>\n",
       "      <th>566922</th>\n",
       "      <td>566922</td>\n",
       "      <td>Condensed Tomato Soup</td>\n",
       "      <td>[tomatoes, chicken broth, heavy cream]</td>\n",
       "      <td>www.cookbooks.com</td>\n",
       "      <td>http://www.cookbooks.com/Recipe-Details.aspx?i...</td>\n",
       "      <td>Condensed Tomato Soup 1 large can of crushed t...</td>\n",
       "      <td>condens tomato soup 1 larg crush tomato 4 chic...</td>\n",
       "    </tr>\n",
       "    <tr>\n",
       "      <th>240073</th>\n",
       "      <td>240073</td>\n",
       "      <td>Vegetable Clam Chowder(Low-Fat)</td>\n",
       "      <td>[clams, bay leaves, oregano, onion, low-fat ch...</td>\n",
       "      <td>www.cookbooks.com</td>\n",
       "      <td>http://www.cookbooks.com/Recipe-Details.aspx?i...</td>\n",
       "      <td>Vegetable Clam Chowder(Low-Fat)   2 cans clams...</td>\n",
       "      <td>veget clam chowder low-fat 2 can clam 2 bay le...</td>\n",
       "    </tr>\n",
       "    <tr>\n",
       "      <th>599686</th>\n",
       "      <td>599686</td>\n",
       "      <td>Party Potatoes</td>\n",
       "      <td>[white potatoes, salt, sour cream, Cheddar che...</td>\n",
       "      <td>www.cookbooks.com</td>\n",
       "      <td>http://www.cookbooks.com/Recipe-Details.aspx?i...</td>\n",
       "      <td>Party Potatoes 4 to 5 large white potatoes, bo...</td>\n",
       "      <td>parti potato 4 5 larg white potato boil jacket...</td>\n",
       "    </tr>\n",
       "    <tr>\n",
       "      <th>122349</th>\n",
       "      <td>122349</td>\n",
       "      <td>Dirty Rice</td>\n",
       "      <td>[ground chuck, rice, onion soup, cream of chic...</td>\n",
       "      <td>www.cookbooks.com</td>\n",
       "      <td>http://www.cookbooks.com/Recipe-Details.aspx?i...</td>\n",
       "      <td>Dirty Rice 1 lb. ground chuck 1 c. uncooked ri...</td>\n",
       "      <td>dirti rice 1 ground chuck 1 uncook rice 1 onio...</td>\n",
       "    </tr>\n",
       "    <tr>\n",
       "      <th>782954</th>\n",
       "      <td>782954</td>\n",
       "      <td>\"Herman\" Starter</td>\n",
       "      <td>[flour, sugar, yeast, salt, warm water]</td>\n",
       "      <td>www.cookbooks.com</td>\n",
       "      <td>http://www.cookbooks.com/Recipe-Details.aspx?i...</td>\n",
       "      <td>\"Herman\" Starter 2 c. flour 3 Tbsp. sugar 1 en...</td>\n",
       "      <td>`` herman '' starter 2 flour 3 sugar 1 envelop...</td>\n",
       "    </tr>\n",
       "  </tbody>\n",
       "</table>\n",
       "</div>"
      ],
      "text/plain": [
       "        Unnamed: 0                              title  \\\n",
       "566922      566922              Condensed Tomato Soup   \n",
       "240073      240073  Vegetable Clam Chowder(Low-Fat)     \n",
       "599686      599686                     Party Potatoes   \n",
       "122349      122349                         Dirty Rice   \n",
       "782954      782954                   \"Herman\" Starter   \n",
       "\n",
       "                                                      NER               site  \\\n",
       "566922             [tomatoes, chicken broth, heavy cream]  www.cookbooks.com   \n",
       "240073  [clams, bay leaves, oregano, onion, low-fat ch...  www.cookbooks.com   \n",
       "599686  [white potatoes, salt, sour cream, Cheddar che...  www.cookbooks.com   \n",
       "122349  [ground chuck, rice, onion soup, cream of chic...  www.cookbooks.com   \n",
       "782954            [flour, sugar, yeast, salt, warm water]  www.cookbooks.com   \n",
       "\n",
       "                                                     urls  \\\n",
       "566922  http://www.cookbooks.com/Recipe-Details.aspx?i...   \n",
       "240073  http://www.cookbooks.com/Recipe-Details.aspx?i...   \n",
       "599686  http://www.cookbooks.com/Recipe-Details.aspx?i...   \n",
       "122349  http://www.cookbooks.com/Recipe-Details.aspx?i...   \n",
       "782954  http://www.cookbooks.com/Recipe-Details.aspx?i...   \n",
       "\n",
       "                                             bag_of_words  \\\n",
       "566922  Condensed Tomato Soup 1 large can of crushed t...   \n",
       "240073  Vegetable Clam Chowder(Low-Fat)   2 cans clams...   \n",
       "599686  Party Potatoes 4 to 5 large white potatoes, bo...   \n",
       "122349  Dirty Rice 1 lb. ground chuck 1 c. uncooked ri...   \n",
       "782954  \"Herman\" Starter 2 c. flour 3 Tbsp. sugar 1 en...   \n",
       "\n",
       "                                              cleaned_bow  \n",
       "566922  condens tomato soup 1 larg crush tomato 4 chic...  \n",
       "240073  veget clam chowder low-fat 2 can clam 2 bay le...  \n",
       "599686  parti potato 4 5 larg white potato boil jacket...  \n",
       "122349  dirti rice 1 ground chuck 1 uncook rice 1 onio...  \n",
       "782954  `` herman '' starter 2 flour 3 sugar 1 envelop...  "
      ]
     },
     "execution_count": 3,
     "metadata": {},
     "output_type": "execute_result"
    }
   ],
   "source": [
    "df.head()"
   ]
  },
  {
   "cell_type": "code",
   "execution_count": 4,
   "metadata": {},
   "outputs": [
    {
     "data": {
      "text/plain": [
       "array(['www.cookbooks.com', 'www.myrecipes.com', 'www.food.com',\n",
       "       'www.allrecipes.com', 'www.epicurious.com', 'www.tasteofhome.com',\n",
       "       'www.yummly.com', 'tastykitchen.com', 'recipes-plus.com',\n",
       "       'food52.com', 'www.seriouseats.com'], dtype=object)"
      ]
     },
     "execution_count": 4,
     "metadata": {},
     "output_type": "execute_result"
    }
   ],
   "source": [
    "df['site'].unique()"
   ]
  },
  {
   "cell_type": "code",
   "execution_count": 5,
   "metadata": {},
   "outputs": [],
   "source": [
    "def get_counts(df, column):\n",
    "    column_df = pd.DataFrame(df[column])\n",
    "    column_counts = column_df[column].explode().value_counts()\n",
    "    column_counts_df = column_counts.to_frame('counts').reset_index()\n",
    "    column_counts_df = column_counts_df.rename(columns = {'index': column})\n",
    "    \n",
    "    return column_counts_df"
   ]
  },
  {
   "cell_type": "code",
   "execution_count": 6,
   "metadata": {},
   "outputs": [
    {
     "data": {
      "text/html": [
       "<div>\n",
       "<style scoped>\n",
       "    .dataframe tbody tr th:only-of-type {\n",
       "        vertical-align: middle;\n",
       "    }\n",
       "\n",
       "    .dataframe tbody tr th {\n",
       "        vertical-align: top;\n",
       "    }\n",
       "\n",
       "    .dataframe thead th {\n",
       "        text-align: right;\n",
       "    }\n",
       "</style>\n",
       "<table border=\"1\" class=\"dataframe\">\n",
       "  <thead>\n",
       "    <tr style=\"text-align: right;\">\n",
       "      <th></th>\n",
       "      <th>site</th>\n",
       "      <th>counts</th>\n",
       "    </tr>\n",
       "  </thead>\n",
       "  <tbody>\n",
       "    <tr>\n",
       "      <th>0</th>\n",
       "      <td>www.cookbooks.com</td>\n",
       "      <td>136380</td>\n",
       "    </tr>\n",
       "    <tr>\n",
       "      <th>1</th>\n",
       "      <td>www.food.com</td>\n",
       "      <td>44210</td>\n",
       "    </tr>\n",
       "    <tr>\n",
       "      <th>2</th>\n",
       "      <td>www.epicurious.com</td>\n",
       "      <td>14363</td>\n",
       "    </tr>\n",
       "    <tr>\n",
       "      <th>3</th>\n",
       "      <td>www.myrecipes.com</td>\n",
       "      <td>9869</td>\n",
       "    </tr>\n",
       "    <tr>\n",
       "      <th>4</th>\n",
       "      <td>www.allrecipes.com</td>\n",
       "      <td>9342</td>\n",
       "    </tr>\n",
       "    <tr>\n",
       "      <th>5</th>\n",
       "      <td>www.yummly.com</td>\n",
       "      <td>7906</td>\n",
       "    </tr>\n",
       "    <tr>\n",
       "      <th>6</th>\n",
       "      <td>www.tasteofhome.com</td>\n",
       "      <td>7850</td>\n",
       "    </tr>\n",
       "    <tr>\n",
       "      <th>7</th>\n",
       "      <td>tastykitchen.com</td>\n",
       "      <td>7656</td>\n",
       "    </tr>\n",
       "    <tr>\n",
       "      <th>8</th>\n",
       "      <td>food52.com</td>\n",
       "      <td>7379</td>\n",
       "    </tr>\n",
       "    <tr>\n",
       "      <th>9</th>\n",
       "      <td>recipes-plus.com</td>\n",
       "      <td>3123</td>\n",
       "    </tr>\n",
       "    <tr>\n",
       "      <th>10</th>\n",
       "      <td>www.seriouseats.com</td>\n",
       "      <td>1922</td>\n",
       "    </tr>\n",
       "  </tbody>\n",
       "</table>\n",
       "</div>"
      ],
      "text/plain": [
       "                   site  counts\n",
       "0     www.cookbooks.com  136380\n",
       "1          www.food.com   44210\n",
       "2    www.epicurious.com   14363\n",
       "3     www.myrecipes.com    9869\n",
       "4    www.allrecipes.com    9342\n",
       "5        www.yummly.com    7906\n",
       "6   www.tasteofhome.com    7850\n",
       "7      tastykitchen.com    7656\n",
       "8            food52.com    7379\n",
       "9      recipes-plus.com    3123\n",
       "10  www.seriouseats.com    1922"
      ]
     },
     "execution_count": 6,
     "metadata": {},
     "output_type": "execute_result"
    }
   ],
   "source": [
    "website_counts = get_counts(df, 'site')\n",
    "website_counts"
   ]
  },
  {
   "cell_type": "code",
   "execution_count": 7,
   "metadata": {},
   "outputs": [],
   "source": [
    "def counts_horizontal_bar(df, x_column, y_column, x_min, x_max, x_inc, ax):\n",
    "    x_data = df[x_column]\n",
    "    y_data = df[y_column]\n",
    "    y = np.arange(len(y_data))\n",
    "    x = np.linspace(x_min, x_max, (x_max-x_min)//x_inc + 1, dtype='int')\n",
    "    \n",
    "    ax.barh(y_data, x_data)\n",
    "    ax.invert_yaxis()\n",
    "    ax.set_yticks(y)\n",
    "    ax.set_xticks(x)\n",
    "    ax.set_xticklabels(x, fontsize = 18, rotation = 45)\n",
    "    ax.set_yticklabels(y_data, fontsize = 18)\n",
    "    ax.xaxis.grid(True)\n",
    "    fig.tight_layout()"
   ]
  },
  {
   "cell_type": "code",
   "execution_count": 8,
   "metadata": {},
   "outputs": [
    {
     "data": {
      "image/png": "[encoded data removed]",
      "text/plain": [
       "<Figure size 1296x720 with 1 Axes>"
      ]
     },
     "metadata": {
      "needs_background": "light"
     },
     "output_type": "display_data"
    }
   ],
   "source": [
    "fig, ax = plt.subplots(figsize=(18,10))\n",
    "ax.set_xlabel('Recipe Count', fontsize = 24)\n",
    "ax.set_title('Counts of Recipes by Website', fontsize = 24)\n",
    "\n",
    "counts_horizontal_bar(website_counts, 'counts', 'site', 0, 140000, 20000, ax)"
   ]
  },
  {
   "cell_type": "code",
   "execution_count": 9,
   "metadata": {},
   "outputs": [
    {
     "name": "stdout",
     "output_type": "stream",
     "text": [
      "<class 'pandas.core.frame.DataFrame'>\n",
      "Int64Index: 250000 entries, 566922 to 445003\n",
      "Data columns (total 7 columns):\n",
      " #   Column        Non-Null Count   Dtype \n",
      "---  ------        --------------   ----- \n",
      " 0   Unnamed: 0    250000 non-null  int64 \n",
      " 1   title         250000 non-null  object\n",
      " 2   NER           250000 non-null  object\n",
      " 3   site          250000 non-null  object\n",
      " 4   urls          250000 non-null  object\n",
      " 5   bag_of_words  250000 non-null  object\n",
      " 6   cleaned_bow   250000 non-null  object\n",
      "dtypes: int64(1), object(6)\n",
      "memory usage: 15.3+ MB\n"
     ]
    }
   ],
   "source": [
    "df.info()"
   ]
  },
  {
   "cell_type": "code",
   "execution_count": 11,
   "metadata": {},
   "outputs": [],
   "source": [
    "df_subset_train, df_subset_test = train_test_split(df, stratify=df['site'], test_size=0.25)"
   ]
  },
  {
   "cell_type": "code",
   "execution_count": 12,
   "metadata": {},
   "outputs": [],
   "source": [
    "docs_train = df_subset_train['cleaned_bow']\n",
    "docs_test = df_subset_test['cleaned_bow']\n",
    "docs_full = df['cleaned_bow']"
   ]
  },
  {
   "cell_type": "code",
   "execution_count": 13,
   "metadata": {},
   "outputs": [],
   "source": [
    "lda_model_1 = joblib.load('./models/lda_model.joblib')\n",
    "lda_model_2 = joblib.load('./models/lda_model_1_tid.joblib')\n",
    "lda_model_3 = joblib.load('./models/lda_model_2_tdn.joblib')\n",
    "lda_model_4 = joblib.load('./models/lda_model_2_tid.joblib')\n",
    "lda_model_5 = joblib.load('./models/lda_model_3_tid.joblib')\n",
    "lda_model_6 = joblib.load('./models/lda_model_4_tid.joblib')\n",
    "lda_model_7 = joblib.load('./models/lda_model_5_tid.joblib')\n",
    "lda_model_8 = joblib.load('./models/lda_model_6_tid_pickle4.joblib')\n",
    "lda_model_9 = joblib.load('./models/lda_model_full_tid_pickle4.joblib')"
   ]
  },
  {
   "cell_type": "code",
   "execution_count": 14,
   "metadata": {},
   "outputs": [],
   "source": [
    "models = [lda_model_1, lda_model_2, lda_model_3, lda_model_4, lda_model_5, lda_model_6, lda_model_7, lda_model_8, lda_model_9]"
   ]
  },
  {
   "cell_type": "code",
   "execution_count": 15,
   "metadata": {},
   "outputs": [
    {
     "name": "stdout",
     "output_type": "stream",
     "text": [
      "Model: 1\n",
      "\n",
      "Parameters:{'batch_size': 128, 'doc_topic_prior': None, 'evaluate_every': -1, 'learning_decay': 0.7, 'learning_method': 'online', 'learning_offset': 10.0, 'max_doc_update_iter': 100, 'max_iter': 10, 'mean_change_tol': 0.001, 'n_components': 30, 'n_jobs': -1, 'perp_tol': 0.1, 'random_state': None, 'topic_word_prior': None, 'total_samples': 1000000.0, 'verbose': 0}\n",
      "\n",
      "Model: 2\n",
      "\n",
      "Parameters:{'batch_size': 128, 'doc_topic_prior': None, 'evaluate_every': -1, 'learning_decay': 0.7, 'learning_method': 'online', 'learning_offset': 10.0, 'max_doc_update_iter': 100, 'max_iter': 10, 'mean_change_tol': 0.001, 'n_components': 30, 'n_jobs': -1, 'perp_tol': 0.1, 'random_state': None, 'topic_word_prior': None, 'total_samples': 1000000.0, 'verbose': 0}\n",
      "\n",
      "Model: 3\n",
      "\n",
      "Parameters:{'batch_size': 128, 'doc_topic_prior': None, 'evaluate_every': -1, 'learning_decay': 0.7, 'learning_method': 'online', 'learning_offset': 10.0, 'max_doc_update_iter': 100, 'max_iter': 10, 'mean_change_tol': 0.001, 'n_components': 30, 'n_jobs': -1, 'perp_tol': 0.1, 'random_state': None, 'topic_word_prior': None, 'total_samples': 1000000.0, 'verbose': 0}\n",
      "\n",
      "Model: 4\n",
      "\n",
      "Parameters:{'batch_size': 128, 'doc_topic_prior': None, 'evaluate_every': -1, 'learning_decay': 0.7, 'learning_method': 'online', 'learning_offset': 10.0, 'max_doc_update_iter': 100, 'max_iter': 10, 'mean_change_tol': 0.001, 'n_components': 30, 'n_jobs': -1, 'perp_tol': 0.1, 'random_state': None, 'topic_word_prior': None, 'total_samples': 1000000.0, 'verbose': 0}\n",
      "\n",
      "Model: 5\n",
      "\n",
      "Parameters:{'batch_size': 128, 'doc_topic_prior': None, 'evaluate_every': -1, 'learning_decay': 0.7, 'learning_method': 'online', 'learning_offset': 10.0, 'max_doc_update_iter': 100, 'max_iter': 10, 'mean_change_tol': 0.001, 'n_components': 100, 'n_jobs': -1, 'perp_tol': 0.1, 'random_state': None, 'topic_word_prior': None, 'total_samples': 1000000.0, 'verbose': 0}\n",
      "\n",
      "Model: 6\n",
      "\n",
      "Parameters:{'batch_size': 32, 'doc_topic_prior': None, 'evaluate_every': -1, 'learning_decay': 0.7, 'learning_method': 'online', 'learning_offset': 20, 'max_doc_update_iter': 100, 'max_iter': 10, 'mean_change_tol': 0.001, 'n_components': 100, 'n_jobs': -1, 'perp_tol': 0.1, 'random_state': None, 'topic_word_prior': None, 'total_samples': 1000000.0, 'verbose': 0}\n",
      "\n",
      "Model: 7\n",
      "\n",
      "Parameters:{'batch_size': 32, 'doc_topic_prior': 0.9, 'evaluate_every': -1, 'learning_decay': 0.7, 'learning_method': 'online', 'learning_offset': 20, 'max_doc_update_iter': 100, 'max_iter': 10, 'mean_change_tol': 0.001, 'n_components': 100, 'n_jobs': -1, 'perp_tol': 0.1, 'random_state': None, 'topic_word_prior': 0.9, 'total_samples': 1000000.0, 'verbose': 0}\n",
      "\n",
      "Model: 8\n",
      "\n",
      "Parameters:{'batch_size': 32, 'doc_topic_prior': 0.9, 'evaluate_every': -1, 'learning_decay': 0.7, 'learning_method': 'online', 'learning_offset': 50, 'max_doc_update_iter': 100, 'max_iter': 10, 'mean_change_tol': 0.001, 'n_components': 100, 'n_jobs': -1, 'perp_tol': 0.1, 'random_state': None, 'topic_word_prior': 0.9, 'total_samples': 1000000.0, 'verbose': 0}\n",
      "\n",
      "Model: 9\n",
      "\n",
      "Parameters:{'batch_size': 32, 'doc_topic_prior': 0.9, 'evaluate_every': -1, 'learning_decay': 0.7, 'learning_method': 'online', 'learning_offset': 50, 'max_doc_update_iter': 100, 'max_iter': 10, 'mean_change_tol': 0.001, 'n_components': 100, 'n_jobs': -1, 'perp_tol': 0.1, 'random_state': None, 'topic_word_prior': 0.9, 'total_samples': 1000000.0, 'verbose': 0}\n",
      "\n"
     ]
    }
   ],
   "source": [
    "i = 0\n",
    "for model in models:\n",
    "    i += 1\n",
    "    print(f'Model: {i}\\n\\nParameters:{model.get_params()}\\n')"
   ]
  },
  {
   "cell_type": "markdown",
   "metadata": {},
   "source": [
    "models 1 - 4 are the same: n_components =30, everything else default"
   ]
  },
  {
   "cell_type": "markdown",
   "metadata": {},
   "source": [
    "model 5 changed n_components to 100, everything else default"
   ]
  },
  {
   "cell_type": "markdown",
   "metadata": {},
   "source": [
    "model 6 changed batch size to 32, learning offset 20, everything else the same"
   ]
  },
  {
   "cell_type": "markdown",
   "metadata": {},
   "source": [
    "model 7 doc_topic_prior 0.9 topic_word_prior 0.9, everything else the same"
   ]
  },
  {
   "cell_type": "markdown",
   "metadata": {},
   "source": [
    "model 8 learning offset to 50"
   ]
  },
  {
   "cell_type": "code",
   "execution_count": 16,
   "metadata": {},
   "outputs": [],
   "source": [
    "unique_models = [lda_model_1, lda_model_5, lda_model_6, lda_model_7, lda_model_8]"
   ]
  },
  {
   "cell_type": "code",
   "execution_count": 17,
   "metadata": {},
   "outputs": [],
   "source": [
    "vec_1 = joblib.load('./models/vec.joblib')\n",
    "vec_2 = joblib.load('./models/vec_1_tid.joblib')\n",
    "vec_3 = joblib.load('./models/vec_2_tdn.joblib')\n",
    "vec_4 = joblib.load('./models/vec_2_tid.joblib')\n",
    "vec_5 = joblib.load('./models/vec_3_tid.joblib')\n",
    "vec_6 = joblib.load('./models/vec_4_tid.joblib')\n",
    "vec_7 = joblib.load('./models/vec_5_tid.joblib')\n",
    "vec_8 = joblib.load('./models/vec_6_tid.joblib')\n",
    "vec_9 = joblib.load('./models/vec_6_tid_pickle4.joblib')"
   ]
  },
  {
   "cell_type": "code",
   "execution_count": 18,
   "metadata": {},
   "outputs": [],
   "source": [
    "vecs = [vec_1, vec_2, vec_3, vec_4, vec_5, vec_6, vec_7, vec_8, vec_9]"
   ]
  },
  {
   "cell_type": "code",
   "execution_count": 19,
   "metadata": {},
   "outputs": [
    {
     "name": "stdout",
     "output_type": "stream",
     "text": [
      "Vectorizer: 1\n",
      "\n",
      "Parameters:{'analyzer': 'word', 'binary': False, 'decode_error': 'strict', 'dtype': <class 'numpy.int64'>, 'encoding': 'utf-8', 'input': 'content', 'lowercase': True, 'max_df': 0.85, 'max_features': 1000, 'min_df': 2, 'ngram_range': (1, 2), 'preprocessor': None, 'stop_words': None, 'strip_accents': None, 'token_pattern': '(?u)\\\\b\\\\w\\\\w+\\\\b', 'tokenizer': None, 'vocabulary': None}\n",
      "\n",
      "Vectorizer: 2\n",
      "\n",
      "Parameters:{'analyzer': 'word', 'binary': False, 'decode_error': 'strict', 'dtype': <class 'numpy.int64'>, 'encoding': 'utf-8', 'input': 'content', 'lowercase': True, 'max_df': 0.85, 'max_features': 1000, 'min_df': 2, 'ngram_range': (1, 2), 'preprocessor': None, 'stop_words': None, 'strip_accents': None, 'token_pattern': '(?u)\\\\b\\\\w\\\\w+\\\\b', 'tokenizer': None, 'vocabulary': None}\n",
      "\n",
      "Vectorizer: 3\n",
      "\n",
      "Parameters:{'analyzer': 'word', 'binary': False, 'decode_error': 'strict', 'dtype': <class 'numpy.int64'>, 'encoding': 'utf-8', 'input': 'content', 'lowercase': True, 'max_df': 0.85, 'max_features': 1000, 'min_df': 2, 'ngram_range': (1, 3), 'preprocessor': None, 'stop_words': None, 'strip_accents': None, 'token_pattern': '(?u)\\\\b\\\\w\\\\w+\\\\b', 'tokenizer': None, 'vocabulary': None}\n",
      "\n",
      "Vectorizer: 4\n",
      "\n",
      "Parameters:{'analyzer': 'word', 'binary': False, 'decode_error': 'strict', 'dtype': <class 'numpy.int64'>, 'encoding': 'utf-8', 'input': 'content', 'lowercase': True, 'max_df': 0.85, 'max_features': 1000, 'min_df': 2, 'ngram_range': (1, 3), 'preprocessor': None, 'stop_words': None, 'strip_accents': None, 'token_pattern': '(?u)\\\\b\\\\w\\\\w+\\\\b', 'tokenizer': None, 'vocabulary': None}\n",
      "\n",
      "Vectorizer: 5\n",
      "\n",
      "Parameters:{'analyzer': 'word', 'binary': False, 'decode_error': 'strict', 'dtype': <class 'numpy.int64'>, 'encoding': 'utf-8', 'input': 'content', 'lowercase': True, 'max_df': 0.85, 'max_features': 1000, 'min_df': 2, 'ngram_range': (1, 3), 'preprocessor': None, 'stop_words': None, 'strip_accents': None, 'token_pattern': '(?u)\\\\b\\\\w\\\\w+\\\\b', 'tokenizer': None, 'vocabulary': None}\n",
      "\n",
      "Vectorizer: 6\n",
      "\n",
      "Parameters:{'analyzer': 'word', 'binary': False, 'decode_error': 'strict', 'dtype': <class 'numpy.int64'>, 'encoding': 'utf-8', 'input': 'content', 'lowercase': True, 'max_df': 0.85, 'max_features': 1000, 'min_df': 2, 'ngram_range': (1, 3), 'preprocessor': None, 'stop_words': None, 'strip_accents': None, 'token_pattern': '(?u)\\\\b\\\\w\\\\w+\\\\b', 'tokenizer': None, 'vocabulary': None}\n",
      "\n",
      "Vectorizer: 7\n",
      "\n",
      "Parameters:{'analyzer': 'word', 'binary': False, 'decode_error': 'strict', 'dtype': <class 'numpy.int64'>, 'encoding': 'utf-8', 'input': 'content', 'lowercase': True, 'max_df': 0.85, 'max_features': 500, 'min_df': 2, 'ngram_range': (1, 2), 'preprocessor': None, 'stop_words': None, 'strip_accents': None, 'token_pattern': '(?u)\\\\b\\\\w\\\\w+\\\\b', 'tokenizer': None, 'vocabulary': None}\n",
      "\n",
      "Vectorizer: 8\n",
      "\n",
      "Parameters:{'analyzer': 'word', 'binary': False, 'decode_error': 'strict', 'dtype': <class 'numpy.int64'>, 'encoding': 'utf-8', 'input': 'content', 'lowercase': True, 'max_df': 0.85, 'max_features': 500, 'min_df': 2, 'ngram_range': (1, 2), 'preprocessor': None, 'stop_words': None, 'strip_accents': None, 'token_pattern': '(?u)\\\\b\\\\w\\\\w+\\\\b', 'tokenizer': None, 'vocabulary': None}\n",
      "\n",
      "Vectorizer: 9\n",
      "\n",
      "Parameters:{'analyzer': 'word', 'binary': False, 'decode_error': 'strict', 'dtype': <class 'numpy.int64'>, 'encoding': 'utf-8', 'input': 'content', 'lowercase': True, 'max_df': 0.85, 'max_features': 500, 'min_df': 2, 'ngram_range': (1, 2), 'preprocessor': None, 'stop_words': None, 'strip_accents': None, 'token_pattern': '(?u)\\\\b\\\\w\\\\w+\\\\b', 'tokenizer': None, 'vocabulary': None}\n",
      "\n"
     ]
    }
   ],
   "source": [
    "i = 0\n",
    "for vec in vecs:\n",
    "    i += 1\n",
    "    print(f'Vectorizer: {i}\\n\\nParameters:{vec.get_params()}\\n')"
   ]
  },
  {
   "cell_type": "markdown",
   "metadata": {},
   "source": [
    "Vectorizer 1 and 2: max_df=0.85, min_df=2, max_features=1000, n_gram_range=(1,2)"
   ]
  },
  {
   "cell_type": "markdown",
   "metadata": {},
   "source": [
    "Vectorizer 3, 4, 5, 6: n_gram_range=(1,3)"
   ]
  },
  {
   "cell_type": "markdown",
   "metadata": {},
   "source": [
    "Vectorizer 7, 8, 9: max_features = 500, n_gram_range = (1,2)"
   ]
  },
  {
   "cell_type": "code",
   "execution_count": 20,
   "metadata": {},
   "outputs": [],
   "source": [
    "vec_10 = CountVectorizer(max_df=0.85, \n",
    "                      min_df=10,\n",
    "                      ngram_range=(1,3),\n",
    "                      max_features=1000)"
   ]
  },
  {
   "cell_type": "markdown",
   "metadata": {},
   "source": [
    "Vectorizer 10: min_df=10, ngram_range=(1,3), max_features=1000"
   ]
  },
  {
   "cell_type": "code",
   "execution_count": 21,
   "metadata": {},
   "outputs": [],
   "source": [
    "vec_11 = CountVectorizer(max_df=0.85, \n",
    "                      min_df=10,\n",
    "                      ngram_range=(1,3),\n",
    "                      max_features=500)"
   ]
  },
  {
   "cell_type": "code",
   "execution_count": 22,
   "metadata": {},
   "outputs": [],
   "source": [
    "vecs.append(vec_10)\n",
    "vecs.append(vec_11)"
   ]
  },
  {
   "cell_type": "code",
   "execution_count": 23,
   "metadata": {},
   "outputs": [
    {
     "data": {
      "text/plain": [
       "[CountVectorizer(max_df=0.85, max_features=1000, min_df=2, ngram_range=(1, 2)),\n",
       " CountVectorizer(max_df=0.85, max_features=1000, min_df=2, ngram_range=(1, 3)),\n",
       " CountVectorizer(max_df=0.85, max_features=500, min_df=2, ngram_range=(1, 2)),\n",
       " CountVectorizer(max_df=0.85, max_features=1000, min_df=10, ngram_range=(1, 3)),\n",
       " CountVectorizer(max_df=0.85, max_features=500, min_df=10, ngram_range=(1, 3))]"
      ]
     },
     "execution_count": 23,
     "metadata": {},
     "output_type": "execute_result"
    }
   ],
   "source": [
    "unique_vecs = [vecs[0], vecs[2], vecs[6], vecs[9], vecs[10]]\n",
    "unique_vecs"
   ]
  },
  {
   "cell_type": "code",
   "execution_count": 24,
   "metadata": {},
   "outputs": [],
   "source": [
    "vec_1, vec_2, vec_3, vec_4, vec_5 = unique_vecs"
   ]
  },
  {
   "cell_type": "code",
   "execution_count": 25,
   "metadata": {},
   "outputs": [],
   "source": [
    "tf_vec1 = vec_1.fit_transform(docs_train)\n",
    "tf_vec2 = vec_2.fit_transform(docs_train)\n",
    "tf_vec3 = vec_3.fit_transform(docs_train)\n",
    "tf_vec4 = vec_4.fit_transform(docs_train)\n",
    "tf_vec5 = vec_5.fit_transform(docs_train)"
   ]
  },
  {
   "cell_type": "code",
   "execution_count": 26,
   "metadata": {},
   "outputs": [],
   "source": [
    "tf_vec1_test = vec_1.fit_transform(docs_test)\n",
    "tf_vec2_test = vec_2.fit_transform(docs_test)\n",
    "tf_vec3_test = vec_3.fit_transform(docs_test)\n",
    "tf_vec4_test = vec_4.fit_transform(docs_test)\n",
    "tf_vec5_test = vec_5.fit_transform(docs_test)"
   ]
  },
  {
   "cell_type": "code",
   "execution_count": 64,
   "metadata": {},
   "outputs": [],
   "source": [
    "tf_full_3 = vec_3.fit_transform(docs_full)\n",
    "tf_full_4 = vec_4.fit_transform(docs_full)\n",
    "tf_full_5 = vec_5.fit_transform(docs_full)"
   ]
  },
  {
   "cell_type": "markdown",
   "metadata": {},
   "source": [
    "## 30 components, different vectors"
   ]
  },
  {
   "cell_type": "code",
   "execution_count": 27,
   "metadata": {},
   "outputs": [],
   "source": [
    "scores = []\n",
    "perplexity = []"
   ]
  },
  {
   "cell_type": "code",
   "execution_count": 28,
   "metadata": {},
   "outputs": [],
   "source": [
    "lda_model_1.fit(tf_vec1)\n",
    "lda_1_1_score = lda_model_1.score(tf_vec1_test)\n",
    "lda_1_1_perplexity = lda_model_1.perplexity(tf_vec1_test)\n",
    "scores.append(lda_1_1_score)\n",
    "perplexity.append(lda_1_1_perplexity)"
   ]
  },
  {
   "cell_type": "code",
   "execution_count": 29,
   "metadata": {},
   "outputs": [],
   "source": [
    "lda_model_1.fit(tf_vec2)\n",
    "lda_1_2_score = lda_model_1.score(tf_vec2_test)\n",
    "lda_1_2_perplexity = lda_model_1.perplexity(tf_vec2_test)\n",
    "scores.append(lda_1_2_score)\n",
    "perplexity.append(lda_1_2_perplexity)"
   ]
  },
  {
   "cell_type": "code",
   "execution_count": 30,
   "metadata": {},
   "outputs": [],
   "source": [
    "lda_model_1.fit(tf_vec3)\n",
    "lda_1_3_score = lda_model_1.score(tf_vec3_test)\n",
    "lda_1_3_perplexity = lda_model_1.perplexity(tf_vec3_test)\n",
    "scores.append(lda_1_3_score)\n",
    "perplexity.append(lda_1_3_perplexity)"
   ]
  },
  {
   "cell_type": "code",
   "execution_count": 31,
   "metadata": {},
   "outputs": [],
   "source": [
    "probs_1_3 = lda_model_1.transform(tf_full_3)"
   ]
  },
  {
   "cell_type": "code",
   "execution_count": 32,
   "metadata": {},
   "outputs": [],
   "source": [
    "lda_model_1.fit(tf_vec4)\n",
    "lda_1_4_score = lda_model_1.score(tf_vec4_test)\n",
    "lda_1_4_perplexity = lda_model_1.perplexity(tf_vec4_test)\n",
    "scores.append(lda_1_4_score)\n",
    "perplexity.append(lda_1_4_perplexity)"
   ]
  },
  {
   "cell_type": "code",
   "execution_count": 33,
   "metadata": {},
   "outputs": [],
   "source": [
    "probs_1_4 = lda_model_1.transform(tf_full_4)"
   ]
  },
  {
   "cell_type": "code",
   "execution_count": 34,
   "metadata": {},
   "outputs": [],
   "source": [
    "lda_model_1.fit(tf_vec5)\n",
    "lda_1_5_score = lda_model_1.score(tf_vec5_test)\n",
    "lda_1_5_perplexity = lda_model_1.perplexity(tf_vec5_test)\n",
    "scores.append(lda_1_5_score)\n",
    "perplexity.append(lda_1_5_perplexity)"
   ]
  },
  {
   "cell_type": "code",
   "execution_count": 35,
   "metadata": {},
   "outputs": [],
   "source": [
    "probs_1_5 = lda_model_1.transform(tf_full_5)"
   ]
  },
  {
   "cell_type": "code",
   "execution_count": 36,
   "metadata": {},
   "outputs": [
    {
     "data": {
      "text/plain": [
       "[-11719437.055167522,\n",
       " -11732851.78508237,\n",
       " -9155206.162445333,\n",
       " -11762222.658326842,\n",
       " -9157895.911005896]"
      ]
     },
     "execution_count": 36,
     "metadata": {},
     "output_type": "execute_result"
    }
   ],
   "source": [
    "scores"
   ]
  },
  {
   "cell_type": "code",
   "execution_count": 37,
   "metadata": {},
   "outputs": [
    {
     "data": {
      "text/plain": [
       "[374.0823695634788,\n",
       " 365.2129162997278,\n",
       " 239.35102615072194,\n",
       " 370.64739818326944,\n",
       " 238.0173623434201]"
      ]
     },
     "execution_count": 37,
     "metadata": {},
     "output_type": "execute_result"
    }
   ],
   "source": [
    "perplexity"
   ]
  },
  {
   "cell_type": "code",
   "execution_count": 38,
   "metadata": {},
   "outputs": [],
   "source": [
    "def closest_recipes(keyword, idx_arr, recipes, probs, n_docs=10):\n",
    "    recipe_idx = recipes[recipes.str.contains(keyword, case=False, regex=False)].index[0]\n",
    "    keyword_idx = int(np.where(idx_arr == recipe_idx)[0])\n",
    "    sims = cosine_distances(probs[keyword_idx].reshape(1, -1), probs).argsort()[0]\n",
    "    print(f'Top {n_docs} recipes most closely related to {keyword} (reference recipe: {recipes.loc[recipes.index[keyword_idx]]})')\n",
    "    return np.array(recipes)[sims[1:n_docs+1]]"
   ]
  },
  {
   "cell_type": "code",
   "execution_count": 93,
   "metadata": {},
   "outputs": [],
   "source": [
    "recipes = df['title']"
   ]
  },
  {
   "cell_type": "code",
   "execution_count": 94,
   "metadata": {},
   "outputs": [],
   "source": [
    "idx_arr = np.array(recipes.index)"
   ]
  },
  {
   "cell_type": "code",
   "execution_count": 95,
   "metadata": {},
   "outputs": [
    {
     "name": "stdout",
     "output_type": "stream",
     "text": [
      "Top 10 recipes most closely related to soup (reference recipe: Fresh Tomato Soup)\n"
     ]
    },
    {
     "data": {
      "text/plain": [
       "array(['Rinkum Ditty', 'Seafood Pasta', '\"Primavera Salad\"(Spring)  ',\n",
       "       'Wacky Mac Pasta Salad', 'Tangy (Not Sweet) Tartar Sauce',\n",
       "       'Fire-Roasted Tomato Minestrone', 'Picadillo', 'Macaroni Salad',\n",
       "       'Italian Tomato Salad', 'Italian Cheese Omelet'], dtype=object)"
      ]
     },
     "execution_count": 95,
     "metadata": {},
     "output_type": "execute_result"
    }
   ],
   "source": [
    "recipe_recs_1_3 = closest_recipes('soup', idx_arr, recipes, probs_1_3)\n",
    "recipe_recs_1_3"
   ]
  },
  {
   "cell_type": "code",
   "execution_count": 96,
   "metadata": {},
   "outputs": [
    {
     "name": "stdout",
     "output_type": "stream",
     "text": [
      "Top 10 recipes most closely related to soup (reference recipe: Fresh Tomato Soup)\n"
     ]
    },
    {
     "data": {
      "text/plain": [
       "array(['Vegetable Bean Soup', 'Quick Minestrone Beef Soup',\n",
       "       'Mexican Corn Chowder',\n",
       "       \"Marilyn'S Peppers Stuffed With Tofu & Rice\",\n",
       "       'Italian Beef And Rice Skillet',\n",
       "       'Green Chile-White Bean Chicken Stew', 'Sams Run-Out Shrimp ',\n",
       "       'Creole Vegetable-And-Braised Beef Stew', 'Quinoa With Mushrooms',\n",
       "       'Quick Vegetable Soup'], dtype=object)"
      ]
     },
     "execution_count": 96,
     "metadata": {},
     "output_type": "execute_result"
    }
   ],
   "source": [
    "recipe_recs_1_4 = closest_recipes('soup', idx_arr, recipes, probs_1_4)\n",
    "recipe_recs_1_4"
   ]
  },
  {
   "cell_type": "code",
   "execution_count": 97,
   "metadata": {},
   "outputs": [
    {
     "name": "stdout",
     "output_type": "stream",
     "text": [
      "Top 10 recipes most closely related to soup (reference recipe: Fresh Tomato Soup)\n"
     ]
    },
    {
     "data": {
      "text/plain": [
       "array(['Tartar Sauce', 'Broccoli Salad', 'Herb Seasoned Popcorn',\n",
       "       'Caesar Salad ', 'Vegetable Lasagna', 'Cheese Soup',\n",
       "       'Rinkum Ditty', 'Cauliflower Salad', 'Shrimp Ring',\n",
       "       '24 Hour Salad'], dtype=object)"
      ]
     },
     "execution_count": 97,
     "metadata": {},
     "output_type": "execute_result"
    }
   ],
   "source": [
    "recipe_recs_1_5 = closest_recipes('soup', idx_arr, recipes, probs_1_5)\n",
    "recipe_recs_1_5"
   ]
  },
  {
   "cell_type": "markdown",
   "metadata": {},
   "source": [
    "model 1 vector 4 seems best"
   ]
  },
  {
   "cell_type": "markdown",
   "metadata": {},
   "source": [
    "## 100 components, different vectors"
   ]
  },
  {
   "cell_type": "code",
   "execution_count": 44,
   "metadata": {},
   "outputs": [],
   "source": [
    "lda_model_5.fit(tf_vec1)\n",
    "lda_5_1_score = lda_model_5.score(tf_vec1_test)\n",
    "lda_5_1_perplexity = lda_model_5.perplexity(tf_vec1_test)\n",
    "scores.append(lda_5_1_score)\n",
    "perplexity.append(lda_5_1_perplexity)"
   ]
  },
  {
   "cell_type": "code",
   "execution_count": 45,
   "metadata": {},
   "outputs": [],
   "source": [
    "lda_model_5.fit(tf_vec2)\n",
    "lda_5_2_score = lda_model_5.score(tf_vec2_test)\n",
    "lda_5_2_perplexity = lda_model_5.perplexity(tf_vec2_test)\n",
    "scores.append(lda_5_2_score)\n",
    "perplexity.append(lda_5_2_perplexity)"
   ]
  },
  {
   "cell_type": "code",
   "execution_count": 46,
   "metadata": {},
   "outputs": [],
   "source": [
    "lda_model_5.fit(tf_vec3)\n",
    "lda_5_3_score = lda_model_5.score(tf_vec3_test)\n",
    "lda_5_3_perplexity = lda_model_5.perplexity(tf_vec3_test)\n",
    "scores.append(lda_5_3_score)\n",
    "perplexity.append(lda_5_3_perplexity)"
   ]
  },
  {
   "cell_type": "code",
   "execution_count": 47,
   "metadata": {},
   "outputs": [],
   "source": [
    "probs_5_3 = lda_model_5.transform(tf_full_3)"
   ]
  },
  {
   "cell_type": "code",
   "execution_count": 48,
   "metadata": {},
   "outputs": [],
   "source": [
    "lda_model_5.fit(tf_vec4)\n",
    "lda_5_4_score = lda_model_5.score(tf_vec4_test)\n",
    "lda_5_4_perplexity = lda_model_5.perplexity(tf_vec4_test)\n",
    "scores.append(lda_5_4_score)\n",
    "perplexity.append(lda_5_4_perplexity)"
   ]
  },
  {
   "cell_type": "code",
   "execution_count": 49,
   "metadata": {},
   "outputs": [],
   "source": [
    "probs_5_4 = lda_model_5.transform(tf_full_4)"
   ]
  },
  {
   "cell_type": "code",
   "execution_count": 50,
   "metadata": {},
   "outputs": [],
   "source": [
    "lda_model_5.fit(tf_vec5)\n",
    "lda_5_5_score = lda_model_5.score(tf_vec5_test)\n",
    "lda_5_5_perplexity = lda_model_5.perplexity(tf_vec5_test)\n",
    "scores.append(lda_5_5_score)\n",
    "perplexity.append(lda_5_5_perplexity)"
   ]
  },
  {
   "cell_type": "code",
   "execution_count": 51,
   "metadata": {},
   "outputs": [],
   "source": [
    "probs_5_5 = lda_model_5.transform(tf_full_5)"
   ]
  },
  {
   "cell_type": "code",
   "execution_count": 52,
   "metadata": {},
   "outputs": [
    {
     "data": {
      "text/plain": [
       "[-11719437.055167522,\n",
       " -11732851.78508237,\n",
       " -9155206.162445333,\n",
       " -11762222.658326842,\n",
       " -9157895.911005896,\n",
       " -11878836.08878937,\n",
       " -11907119.449451476,\n",
       " -9358480.788125725,\n",
       " -11920146.931449585,\n",
       " -9334805.62327758]"
      ]
     },
     "execution_count": 52,
     "metadata": {},
     "output_type": "execute_result"
    }
   ],
   "source": [
    "scores"
   ]
  },
  {
   "cell_type": "code",
   "execution_count": 53,
   "metadata": {},
   "outputs": [
    {
     "data": {
      "text/plain": [
       "[374.0823695634788,\n",
       " 365.2129162997278,\n",
       " 239.35102615072194,\n",
       " 370.64739818326944,\n",
       " 238.0173623434201,\n",
       " 405.4738213036529,\n",
       " 398.66447974203066,\n",
       " 270.3070829296621,\n",
       " 401.28492594884045,\n",
       " 264.55703193191516]"
      ]
     },
     "execution_count": 53,
     "metadata": {},
     "output_type": "execute_result"
    }
   ],
   "source": [
    "perplexity"
   ]
  },
  {
   "cell_type": "code",
   "execution_count": 98,
   "metadata": {},
   "outputs": [
    {
     "name": "stdout",
     "output_type": "stream",
     "text": [
      "Top 10 recipes most closely related to vegetarian (reference recipe: Sweet And Spicy Vegetarian Stuffing)\n"
     ]
    },
    {
     "data": {
      "text/plain": [
       "array(['Texas-Style Baked Beans', 'Stuffed Portobello Mushrooms',\n",
       "       'Grilled Marinated Vegetables', 'Chicken Tamale Casserole',\n",
       "       'Charred Vegetable Salad', 'Paella With Cauliflower Rice',\n",
       "       'Baked Chicken  With Cream Cheese Vegetable Topping',\n",
       "       'Garlic And Bell Pepper Farfalle', 'Sweet Pepper-Onion Relish',\n",
       "       'Marrakesh Vegetable Curry'], dtype=object)"
      ]
     },
     "execution_count": 98,
     "metadata": {},
     "output_type": "execute_result"
    }
   ],
   "source": [
    "recipe_recs_5_3 = closest_recipes('vegetarian', idx_arr, recipes, probs_5_3)\n",
    "recipe_recs_5_3"
   ]
  },
  {
   "cell_type": "code",
   "execution_count": 99,
   "metadata": {},
   "outputs": [
    {
     "name": "stdout",
     "output_type": "stream",
     "text": [
      "Top 10 recipes most closely related to vegetarian (reference recipe: Sweet And Spicy Vegetarian Stuffing)\n"
     ]
    },
    {
     "data": {
      "text/plain": [
       "array(['Roasted Carrot And Leek Soup', 'Roasted Tomato Curry Soup',\n",
       "       'Sweet Pepper-Onion Relish',\n",
       "       'Roasted Pork Tenderloin With Cajun Cornbread Stuffing',\n",
       "       'Spicy Stuffed Bell Peppers', 'Oven-Roasted Mediterranean Salmon',\n",
       "       'Roasted Butternut Squash', 'Cherokee Joe’S Cornbread Soup',\n",
       "       'Mango Salsa Salmon', 'Baked Mexican Quinoa Casserole'],\n",
       "      dtype=object)"
      ]
     },
     "execution_count": 99,
     "metadata": {},
     "output_type": "execute_result"
    }
   ],
   "source": [
    "recipe_recs_5_4 = closest_recipes('vegetarian', idx_arr, recipes, probs_5_4)\n",
    "recipe_recs_5_4"
   ]
  },
  {
   "cell_type": "code",
   "execution_count": 100,
   "metadata": {},
   "outputs": [
    {
     "name": "stdout",
     "output_type": "stream",
     "text": [
      "Top 10 recipes most closely related to vegetarian (reference recipe: Sweet And Spicy Vegetarian Stuffing)\n"
     ]
    },
    {
     "data": {
      "text/plain": [
       "array(['Sweet Pepper-Onion Relish', 'Vegetable Soup',\n",
       "       'Spanish Lima Beans', 'Soup Nazi Gazpacho', 'Rajasthani Bhindi',\n",
       "       'Grilled Chicken With A Peach And Green Chili Sauce',\n",
       "       'Apple Chipotle Salsa (Southwest)', 'Fergese E Tiranes Me Piperka',\n",
       "       'White Chili', 'Sweet Relishgroves, Texas  '], dtype=object)"
      ]
     },
     "execution_count": 100,
     "metadata": {},
     "output_type": "execute_result"
    }
   ],
   "source": [
    "recipe_recs_5_5 = closest_recipes('vegetarian', idx_arr, recipes, probs_5_5)\n",
    "recipe_recs_5_5"
   ]
  },
  {
   "cell_type": "markdown",
   "metadata": {},
   "source": [
    "difficult to tell if any of these perform better than the others. The scores suggest vector 5 with model 5. Vector 4 seems to capture more of the stuffing"
   ]
  },
  {
   "cell_type": "markdown",
   "metadata": {},
   "source": [
    "## Batch size 32, learning offset 20"
   ]
  },
  {
   "cell_type": "code",
   "execution_count": 57,
   "metadata": {},
   "outputs": [],
   "source": [
    "lda_model_6.fit(tf_vec3)\n",
    "lda_6_3_score = lda_model_6.score(tf_vec3_test)\n",
    "lda_6_3_perplexity = lda_model_6.perplexity(tf_vec3_test)\n",
    "scores.append(lda_6_3_score)\n",
    "perplexity.append(lda_6_3_perplexity)"
   ]
  },
  {
   "cell_type": "code",
   "execution_count": 58,
   "metadata": {},
   "outputs": [],
   "source": [
    "probs_6_3 = lda_model_6.transform(tf_full_3)"
   ]
  },
  {
   "cell_type": "code",
   "execution_count": 59,
   "metadata": {},
   "outputs": [],
   "source": [
    "lda_model_6.fit(tf_vec4)\n",
    "lda_6_4_score = lda_model_6.score(tf_vec4_test)\n",
    "lda_6_4_perplexity = lda_model_6.perplexity(tf_vec4_test)\n",
    "scores.append(lda_6_4_score)\n",
    "perplexity.append(lda_6_4_perplexity)"
   ]
  },
  {
   "cell_type": "code",
   "execution_count": 60,
   "metadata": {},
   "outputs": [],
   "source": [
    "probs_6_4 = lda_model_6.transform(tf_full_4)"
   ]
  },
  {
   "cell_type": "code",
   "execution_count": 61,
   "metadata": {},
   "outputs": [],
   "source": [
    "lda_model_6.fit(tf_vec5)\n",
    "lda_6_5_score = lda_model_6.score(tf_vec5_test)\n",
    "lda_6_5_perplexity = lda_model_6.perplexity(tf_vec5_test)\n",
    "scores.append(lda_6_5_score)\n",
    "perplexity.append(lda_6_5_perplexity)"
   ]
  },
  {
   "cell_type": "code",
   "execution_count": 62,
   "metadata": {},
   "outputs": [],
   "source": [
    "probs_6_5 = lda_model_6.transform(tf_full_5)"
   ]
  },
  {
   "cell_type": "code",
   "execution_count": 63,
   "metadata": {},
   "outputs": [
    {
     "data": {
      "text/plain": [
       "[-11719437.055167522,\n",
       " -11732851.78508237,\n",
       " -9155206.162445333,\n",
       " -11762222.658326842,\n",
       " -9157895.911005896,\n",
       " -11878836.08878937,\n",
       " -11907119.449451476,\n",
       " -9358480.788125725,\n",
       " -11920146.931449585,\n",
       " -9334805.62327758,\n",
       " -9468376.261883723,\n",
       " -12129779.876655715,\n",
       " -9482664.39350789]"
      ]
     },
     "execution_count": 63,
     "metadata": {},
     "output_type": "execute_result"
    }
   ],
   "source": [
    "scores"
   ]
  },
  {
   "cell_type": "code",
   "execution_count": 64,
   "metadata": {},
   "outputs": [
    {
     "data": {
      "text/plain": [
       "[374.0823695634788,\n",
       " 365.2129162997278,\n",
       " 239.35102615072194,\n",
       " 370.64739818326944,\n",
       " 238.0173623434201,\n",
       " 405.4738213036529,\n",
       " 398.66447974203066,\n",
       " 270.3070829296621,\n",
       " 401.28492594884045,\n",
       " 264.55703193191516,\n",
       " 288.6784897032886,\n",
       " 445.90086258881644,\n",
       " 288.99533636836776]"
      ]
     },
     "execution_count": 64,
     "metadata": {},
     "output_type": "execute_result"
    }
   ],
   "source": [
    "perplexity"
   ]
  },
  {
   "cell_type": "code",
   "execution_count": 101,
   "metadata": {},
   "outputs": [
    {
     "name": "stdout",
     "output_type": "stream",
     "text": [
      "Top 10 recipes most closely related to peanut (reference recipe: Chocolate Peanut Butter Pieces)\n"
     ]
    },
    {
     "data": {
      "text/plain": [
       "array(['Reese Bars', 'Peanut Butter Pom Poms',\n",
       "       'Chocolate Peanut Butter Smoothie',\n",
       "       'Microwave Peanut Butter Rocky Road',\n",
       "       'Five Minute Peanut Butter Fudge', 'Peanut Butter Candy',\n",
       "       \"Mrs. Claus'S Dream Bars\", 'Sweet Marie Bars 1963',\n",
       "       'Easy Peanut Butter Bars', 'Odd Bagel Sandwiches'], dtype=object)"
      ]
     },
     "execution_count": 101,
     "metadata": {},
     "output_type": "execute_result"
    }
   ],
   "source": [
    "recipe_recs_6_3 = closest_recipes('peanut', idx_arr, recipes, probs_6_3)\n",
    "recipe_recs_6_3"
   ]
  },
  {
   "cell_type": "code",
   "execution_count": 102,
   "metadata": {},
   "outputs": [
    {
     "name": "stdout",
     "output_type": "stream",
     "text": [
      "Top 10 recipes most closely related to peanut (reference recipe: Chocolate Peanut Butter Pieces)\n"
     ]
    },
    {
     "data": {
      "text/plain": [
       "array(['Peanut Blossoms', 'Peanut Butter And Marshmallow Chocolate Eggs',\n",
       "       'Buckeye Balls', '3 Musketeers Bars', \"Mom'S Chocolate Candy\",\n",
       "       'Nanie’S Chocolate Peanut Butter Boiled Cookies',\n",
       "       'Fannie Mae Fudge',\n",
       "       'Florentine Italian Milk Chocolate Filled Cookies',\n",
       "       'Christmas Flower Chocolates',\n",
       "       'Triple Chocolate Covered Macadamia Nuts'], dtype=object)"
      ]
     },
     "execution_count": 102,
     "metadata": {},
     "output_type": "execute_result"
    }
   ],
   "source": [
    "recipe_recs_6_4 = closest_recipes('peanut', idx_arr, recipes, probs_6_4)\n",
    "recipe_recs_6_4"
   ]
  },
  {
   "cell_type": "code",
   "execution_count": 103,
   "metadata": {},
   "outputs": [
    {
     "name": "stdout",
     "output_type": "stream",
     "text": [
      "Top 10 recipes most closely related to peanut (reference recipe: Chocolate Peanut Butter Pieces)\n"
     ]
    },
    {
     "data": {
      "text/plain": [
       "array(['Easy Peanut Butter Bars', 'Chocolate Peanut Butter Balls',\n",
       "       'Chocolate Peanut Butter Frogs', 'Noodle Candy',\n",
       "       'Halloween Spider Web Munch',\n",
       "       'Peanut Butter And Marshmallow Chocolate Eggs',\n",
       "       'Fried Peanut Butter And Jelly Sandwich',\n",
       "       'Funfetti ® Peanut Butter And Chocolate Cookies',\n",
       "       'Peanut Butter Fudge', \"Almost S'Mores\"], dtype=object)"
      ]
     },
     "execution_count": 103,
     "metadata": {},
     "output_type": "execute_result"
    }
   ],
   "source": [
    "recipe_recs_6_5 = closest_recipes('peanut', idx_arr, recipes, probs_6_5)\n",
    "recipe_recs_6_5"
   ]
  },
  {
   "cell_type": "markdown",
   "metadata": {},
   "source": [
    "all perform ok - probably vectors 3 and 4 are better overall"
   ]
  },
  {
   "cell_type": "markdown",
   "metadata": {},
   "source": [
    "## Doc_topic_prior=0.9, Topic_word_prior=0.9"
   ]
  },
  {
   "cell_type": "code",
   "execution_count": 68,
   "metadata": {},
   "outputs": [],
   "source": [
    "lda_model_7.fit(tf_vec3)\n",
    "lda_7_3_score = lda_model_7.score(tf_vec3_test)\n",
    "lda_7_3_perplexity = lda_model_7.perplexity(tf_vec3_test)\n",
    "scores.append(lda_7_3_score)\n",
    "perplexity.append(lda_7_3_perplexity)"
   ]
  },
  {
   "cell_type": "code",
   "execution_count": 69,
   "metadata": {},
   "outputs": [],
   "source": [
    "probs_7_3 = lda_model_7.transform(tf_full_3)"
   ]
  },
  {
   "cell_type": "code",
   "execution_count": 70,
   "metadata": {},
   "outputs": [],
   "source": [
    "lda_model_7.fit(tf_vec4)\n",
    "lda_7_4_score = lda_model_7.score(tf_vec4_test)\n",
    "lda_7_4_perplexity = lda_model_7.perplexity(tf_vec4_test)\n",
    "scores.append(lda_7_4_score)\n",
    "perplexity.append(lda_7_4_perplexity)"
   ]
  },
  {
   "cell_type": "code",
   "execution_count": 71,
   "metadata": {},
   "outputs": [],
   "source": [
    "probs_7_4 = lda_model_7.transform(tf_full_4)"
   ]
  },
  {
   "cell_type": "code",
   "execution_count": 72,
   "metadata": {},
   "outputs": [],
   "source": [
    "lda_model_7.fit(tf_vec5)\n",
    "lda_7_5_score = lda_model_7.score(tf_vec5_test)\n",
    "lda_7_5_perplexity = lda_model_7.perplexity(tf_vec5_test)\n",
    "scores.append(lda_7_5_score)\n",
    "perplexity.append(lda_7_5_perplexity)"
   ]
  },
  {
   "cell_type": "code",
   "execution_count": 73,
   "metadata": {},
   "outputs": [],
   "source": [
    "probs_7_5 = lda_model_7.transform(tf_full_5)"
   ]
  },
  {
   "cell_type": "code",
   "execution_count": 74,
   "metadata": {},
   "outputs": [
    {
     "data": {
      "text/plain": [
       "[-11719437.055167522,\n",
       " -11732851.78508237,\n",
       " -9155206.162445333,\n",
       " -11762222.658326842,\n",
       " -9157895.911005896,\n",
       " -11878836.08878937,\n",
       " -11907119.449451476,\n",
       " -9358480.788125725,\n",
       " -11920146.931449585,\n",
       " -9334805.62327758,\n",
       " -9468376.261883723,\n",
       " -12129779.876655715,\n",
       " -9482664.39350789,\n",
       " -9520611.293640764,\n",
       " -12297352.086749805,\n",
       " -9530297.217776764]"
      ]
     },
     "execution_count": 74,
     "metadata": {},
     "output_type": "execute_result"
    }
   ],
   "source": [
    "scores"
   ]
  },
  {
   "cell_type": "code",
   "execution_count": 75,
   "metadata": {},
   "outputs": [
    {
     "data": {
      "text/plain": [
       "[374.0823695634788,\n",
       " 365.2129162997278,\n",
       " 239.35102615072194,\n",
       " 370.64739818326944,\n",
       " 238.0173623434201,\n",
       " 405.4738213036529,\n",
       " 398.66447974203066,\n",
       " 270.3070829296621,\n",
       " 401.28492594884045,\n",
       " 264.55703193191516,\n",
       " 288.6784897032886,\n",
       " 445.90086258881644,\n",
       " 288.99533636836776,\n",
       " 297.8434207612726,\n",
       " 485.10682761536526,\n",
       " 297.33925755677205]"
      ]
     },
     "execution_count": 75,
     "metadata": {},
     "output_type": "execute_result"
    }
   ],
   "source": [
    "perplexity"
   ]
  },
  {
   "cell_type": "code",
   "execution_count": 113,
   "metadata": {},
   "outputs": [
    {
     "name": "stdout",
     "output_type": "stream",
     "text": [
      "Top 10 recipes most closely related to fried chicken (reference recipe: Fried Chicken)\n"
     ]
    },
    {
     "data": {
      "text/plain": [
       "array(['Southern-Fried Chicken', 'Pear Relish', 'Barbecued Beef Patties',\n",
       "       'The Clergy Special', 'Good Batter', 'Chicken And Rice',\n",
       "       'Oven-Fried Chicken', 'Taco Shells', 'Crunchy Onion Chicken ',\n",
       "       'Grape Jello'], dtype=object)"
      ]
     },
     "execution_count": 113,
     "metadata": {},
     "output_type": "execute_result"
    }
   ],
   "source": [
    "recipe_recs_7_3 = closest_recipes('fried chicken', idx_arr, recipes, probs_7_3)\n",
    "recipe_recs_7_3"
   ]
  },
  {
   "cell_type": "code",
   "execution_count": 114,
   "metadata": {},
   "outputs": [
    {
     "name": "stdout",
     "output_type": "stream",
     "text": [
      "Top 10 recipes most closely related to fried chicken (reference recipe: Fried Chicken)\n"
     ]
    },
    {
     "data": {
      "text/plain": [
       "array([\"Marmalade Chicken From 'Eat: The Little Book Of Fast Food'\",\n",
       "       'Sausage', 'Sawmill Gravy', 'Crisp Barbecue Chicken',\n",
       "       'Squash Puppies', 'Delicious Fried Chicken', 'Chicken Nuggets',\n",
       "       'Pepper Biscuits', 'Party Wieners', 'Barbecued Beef Patties'],\n",
       "      dtype=object)"
      ]
     },
     "execution_count": 114,
     "metadata": {},
     "output_type": "execute_result"
    }
   ],
   "source": [
    "recipe_recs_7_4 = closest_recipes('fried chicken', idx_arr, recipes, probs_7_4)\n",
    "recipe_recs_7_4"
   ]
  },
  {
   "cell_type": "code",
   "execution_count": 115,
   "metadata": {},
   "outputs": [
    {
     "name": "stdout",
     "output_type": "stream",
     "text": [
      "Top 10 recipes most closely related to fried chicken (reference recipe: Fried Chicken)\n"
     ]
    },
    {
     "data": {
      "text/plain": [
       "array(['Barbecued Beef Patties', 'Southern-Fried Chicken', 'Good Batter',\n",
       "       'Chicken And Rice', 'Oven-Fried Chicken',\n",
       "       'Delicious Fried Chicken', 'Chicken And Dumplings',\n",
       "       'Mud Butte Jerkey', 'Recipe For Love', 'Taco Shells'], dtype=object)"
      ]
     },
     "execution_count": 115,
     "metadata": {},
     "output_type": "execute_result"
    }
   ],
   "source": [
    "recipe_recs_7_5 = closest_recipes('fried chicken', idx_arr, recipes, probs_7_5)\n",
    "recipe_recs_7_5"
   ]
  },
  {
   "cell_type": "markdown",
   "metadata": {},
   "source": [
    "difficult to tell with this one"
   ]
  },
  {
   "cell_type": "markdown",
   "metadata": {},
   "source": [
    "## Learning offset to 50"
   ]
  },
  {
   "cell_type": "code",
   "execution_count": 79,
   "metadata": {},
   "outputs": [],
   "source": [
    "lda_model_8.fit(tf_vec3)\n",
    "lda_8_3_score = lda_model_8.score(tf_vec3_test)\n",
    "lda_8_3_perplexity = lda_model_8.perplexity(tf_vec3_test)\n",
    "scores.append(lda_8_3_score)\n",
    "perplexity.append(lda_8_3_perplexity)"
   ]
  },
  {
   "cell_type": "code",
   "execution_count": 80,
   "metadata": {},
   "outputs": [],
   "source": [
    "probs_8_3 = lda_model_8.transform(tf_full_3)"
   ]
  },
  {
   "cell_type": "code",
   "execution_count": 81,
   "metadata": {},
   "outputs": [],
   "source": [
    "lda_model_8.fit(tf_vec4)\n",
    "lda_8_4_score = lda_model_8.score(tf_vec4_test)\n",
    "lda_8_4_perplexity = lda_model_8.perplexity(tf_vec4_test)\n",
    "scores.append(lda_8_4_score)\n",
    "perplexity.append(lda_8_4_perplexity)"
   ]
  },
  {
   "cell_type": "code",
   "execution_count": 82,
   "metadata": {},
   "outputs": [],
   "source": [
    "probs_8_4 = lda_model_8.transform(tf_full_4)"
   ]
  },
  {
   "cell_type": "code",
   "execution_count": 83,
   "metadata": {},
   "outputs": [],
   "source": [
    "lda_model_8.fit(tf_vec5)\n",
    "lda_8_5_score = lda_model_8.score(tf_vec5_test)\n",
    "lda_8_5_perplexity = lda_model_8.perplexity(tf_vec5_test)\n",
    "scores.append(lda_8_5_score)\n",
    "perplexity.append(lda_8_5_perplexity)"
   ]
  },
  {
   "cell_type": "code",
   "execution_count": 84,
   "metadata": {},
   "outputs": [],
   "source": [
    "probs_8_5 = lda_model_8.transform(tf_full_5)"
   ]
  },
  {
   "cell_type": "code",
   "execution_count": 107,
   "metadata": {},
   "outputs": [
    {
     "name": "stdout",
     "output_type": "stream",
     "text": [
      "Top 10 recipes most closely related to chicken noodle soup (reference recipe: Chicken Noodle Soup)\n"
     ]
    },
    {
     "data": {
      "text/plain": [
       "array(['Cheddar Chowder', 'Homemade Soup', 'Braised Cucumbers',\n",
       "       'Minestrone Soup(Hamburg Soup)  ', 'Lay-A-Bed-Stew',\n",
       "       'Crock-Pot Special', \"Aunt Cathy'S Pea Soup \",\n",
       "       'Braised Root Vegetables(Carrots, Celery, Parsnips Or Turnips)  ',\n",
       "       'Hotch-Potch', 'Cream Of Celery Soup'], dtype=object)"
      ]
     },
     "execution_count": 107,
     "metadata": {},
     "output_type": "execute_result"
    }
   ],
   "source": [
    "recipe_recs_8_3 = closest_recipes('chicken noodle soup', idx_arr, recipes, probs_8_3)\n",
    "recipe_recs_8_3"
   ]
  },
  {
   "cell_type": "code",
   "execution_count": 108,
   "metadata": {},
   "outputs": [
    {
     "name": "stdout",
     "output_type": "stream",
     "text": [
      "Top 10 recipes most closely related to chicken noodle soup (reference recipe: Chicken Noodle Soup)\n"
     ]
    },
    {
     "data": {
      "text/plain": [
       "array(['Barbecue Deer', 'Homemade Soup', 'Chicken Cobbler',\n",
       "       'Minestrone Soup(Hamburg Soup)  ',\n",
       "       'Ground Turkey Loose Meat Sandwich (Or Burger)', 'Chicken Ravioli',\n",
       "       'Cornbread Dressing', 'Turkey Gumbo Soup', 'Rich Potato Soup',\n",
       "       'Favorite Potato Soup'], dtype=object)"
      ]
     },
     "execution_count": 108,
     "metadata": {},
     "output_type": "execute_result"
    }
   ],
   "source": [
    "recipe_recs_8_4 = closest_recipes('chicken noodle soup', idx_arr, recipes, probs_8_4)\n",
    "recipe_recs_8_4"
   ]
  },
  {
   "cell_type": "code",
   "execution_count": 109,
   "metadata": {},
   "outputs": [
    {
     "name": "stdout",
     "output_type": "stream",
     "text": [
      "Top 10 recipes most closely related to chicken noodle soup (reference recipe: Chicken Noodle Soup)\n"
     ]
    },
    {
     "data": {
      "text/plain": [
       "array(['Homemade Soup', 'Cornbread Dressing', 'Chili', 'Hamburger Soup',\n",
       "       'Sams Run-Out Shrimp ', 'Barbecue Deer', 'Unflappable Chicken',\n",
       "       '\"Miracle\" Chicken \\'N Noodles', 'Braised Cucumbers', 'Beef Stew'],\n",
       "      dtype=object)"
      ]
     },
     "execution_count": 109,
     "metadata": {},
     "output_type": "execute_result"
    }
   ],
   "source": [
    "recipe_recs_8_5 = closest_recipes('chicken noodle soup', idx_arr, recipes, probs_8_5)\n",
    "recipe_recs_8_5"
   ]
  },
  {
   "cell_type": "code",
   "execution_count": 88,
   "metadata": {},
   "outputs": [
    {
     "data": {
      "text/plain": [
       "[-11719437.055167522,\n",
       " -11732851.78508237,\n",
       " -9155206.162445333,\n",
       " -11762222.658326842,\n",
       " -9157895.911005896,\n",
       " -11878836.08878937,\n",
       " -11907119.449451476,\n",
       " -9358480.788125725,\n",
       " -11920146.931449585,\n",
       " -9334805.62327758,\n",
       " -9468376.261883723,\n",
       " -12129779.876655715,\n",
       " -9482664.39350789,\n",
       " -9520611.293640764,\n",
       " -12297352.086749805,\n",
       " -9530297.217776764,\n",
       " -9529055.997257028,\n",
       " -12316548.749487031,\n",
       " -9531554.728533626]"
      ]
     },
     "execution_count": 88,
     "metadata": {},
     "output_type": "execute_result"
    }
   ],
   "source": [
    "scores"
   ]
  },
  {
   "cell_type": "code",
   "execution_count": 89,
   "metadata": {},
   "outputs": [
    {
     "data": {
      "text/plain": [
       "[374.0823695634788,\n",
       " 365.2129162997278,\n",
       " 239.35102615072194,\n",
       " 370.64739818326944,\n",
       " 238.0173623434201,\n",
       " 405.4738213036529,\n",
       " 398.66447974203066,\n",
       " 270.3070829296621,\n",
       " 401.28492594884045,\n",
       " 264.55703193191516,\n",
       " 288.6784897032886,\n",
       " 445.90086258881644,\n",
       " 288.99533636836776,\n",
       " 297.8434207612726,\n",
       " 485.10682761536526,\n",
       " 297.33925755677205,\n",
       " 299.35217510549813,\n",
       " 489.8127521119739,\n",
       " 297.5627715923554]"
      ]
     },
     "execution_count": 89,
     "metadata": {},
     "output_type": "execute_result"
    }
   ],
   "source": [
    "perplexity"
   ]
  },
  {
   "cell_type": "code",
   "execution_count": 90,
   "metadata": {},
   "outputs": [],
   "source": [
    "ldas = ['lda_1_1', 'lda_1_2', 'lda_1_3', 'lda_1_4', 'lda_1_5', \n",
    "        'lda_5_1', 'lda_5_2', 'lda_5_3', 'lda_5_4', 'lda_5_5',\n",
    "        'lda_6_3', 'lda_6_4', 'lda_6_5',\n",
    "        'lda_7_3', 'lda_7_4', 'lda_7_5',\n",
    "        'lda_8_3', 'lda_8_4', 'lda_8_5']"
   ]
  },
  {
   "cell_type": "code",
   "execution_count": 111,
   "metadata": {},
   "outputs": [
    {
     "data": {
      "image/png": "[encoded data removed]",
      "text/plain": [
       "<Figure size 864x576 with 1 Axes>"
      ]
     },
     "metadata": {
      "needs_background": "light"
     },
     "output_type": "display_data"
    }
   ],
   "source": [
    "fig, ax = plt.subplots(figsize=(12, 8))\n",
    "ax.plot(ldas, scores, linestyle='-', marker='o')\n",
    "ax.set_xlabel('Models and Vectors', fontsize = 24)\n",
    "ax.set_ylabel('Approx Log-Likelihood', fontsize=24)\n",
    "ax.tick_params(axis='x', labelsize = 18, rotation=45)\n",
    "ax.tick_params(axis='y', labelsize=18)\n",
    "ax.set_title('LDA Log-Likelihood Scores', fontsize = 24);"
   ]
  },
  {
   "cell_type": "code",
   "execution_count": 112,
   "metadata": {},
   "outputs": [
    {
     "data": {
      "image/png": "[encoded data removed]",
      "text/plain": [
       "<Figure size 864x576 with 1 Axes>"
      ]
     },
     "metadata": {
      "needs_background": "light"
     },
     "output_type": "display_data"
    }
   ],
   "source": [
    "fig, ax = plt.subplots(figsize=(12, 8))\n",
    "ax.plot(ldas, perplexity, linestyle='-', marker='o')\n",
    "ax.set_xlabel('Models and Vectors', fontsize = 24)\n",
    "ax.set_ylabel('Perplexity', fontsize=24)\n",
    "ax.tick_params(axis='x', labelsize = 18, rotation=45)\n",
    "ax.tick_params(axis='y', labelsize=18)\n",
    "ax.set_title('LDA Perplexities', fontsize = 24);"
   ]
  },
  {
   "cell_type": "code",
   "execution_count": null,
   "metadata": {},
   "outputs": [],
   "source": []
  }
 ],
 "metadata": {
  "kernelspec": {
   "display_name": "Python 3",
   "language": "python",
   "name": "python3"
  },
  "language_info": {
   "codemirror_mode": {
    "name": "ipython",
    "version": 3
   },
   "file_extension": ".py",
   "mimetype": "text/x-python",
   "name": "python",
   "nbconvert_exporter": "python",
   "pygments_lexer": "ipython3",
   "version": "3.8.6"
  }
 },
 "nbformat": 4,
 "nbformat_minor": 4
}
