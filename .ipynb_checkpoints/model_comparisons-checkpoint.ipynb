{
 "cells": [
  {
   "cell_type": "code",
   "execution_count": 129,
   "metadata": {},
   "outputs": [],
   "source": [
    "import pickle\n",
    "import pandas as pd\n",
    "import numpy as np\n",
    "from sklearn.metrics.pairwise import cosine_distances\n",
    "import joblib\n",
    "from sklearn.feature_extraction.text import CountVectorizer\n",
    "from sklearn.model_selection import train_test_split\n",
    "import matplotlib.pyplot as plt"
   ]
  },
  {
   "cell_type": "code",
   "execution_count": 2,
   "metadata": {},
   "outputs": [],
   "source": [
    "with open('./dataframes/full_data_clean_df_pickle4.pkl', 'rb') as f:\n",
    "    df = pickle.load(f)"
   ]
  },
  {
   "cell_type": "code",
   "execution_count": 3,
   "metadata": {},
   "outputs": [
    {
     "data": {
      "text/html": [
       "<div>\n",
       "<style scoped>\n",
       "    .dataframe tbody tr th:only-of-type {\n",
       "        vertical-align: middle;\n",
       "    }\n",
       "\n",
       "    .dataframe tbody tr th {\n",
       "        vertical-align: top;\n",
       "    }\n",
       "\n",
       "    .dataframe thead th {\n",
       "        text-align: right;\n",
       "    }\n",
       "</style>\n",
       "<table border=\"1\" class=\"dataframe\">\n",
       "  <thead>\n",
       "    <tr style=\"text-align: right;\">\n",
       "      <th></th>\n",
       "      <th>Unnamed: 0</th>\n",
       "      <th>title</th>\n",
       "      <th>NER</th>\n",
       "      <th>site</th>\n",
       "      <th>urls</th>\n",
       "      <th>bag_of_words</th>\n",
       "      <th>cleaned_bow</th>\n",
       "    </tr>\n",
       "  </thead>\n",
       "  <tbody>\n",
       "    <tr>\n",
       "      <th>0</th>\n",
       "      <td>0</td>\n",
       "      <td>No-Bake Nut Cookies</td>\n",
       "      <td>[brown sugar, milk, vanilla, nuts, butter, bit...</td>\n",
       "      <td>www.cookbooks.com</td>\n",
       "      <td>http://www.cookbooks.com/Recipe-Details.aspx?i...</td>\n",
       "      <td>No-Bake Nut Cookies 1 c. firmly packed brown s...</td>\n",
       "      <td>no-bak nut cooki 1 firmli pack brown sugar 1/2...</td>\n",
       "    </tr>\n",
       "    <tr>\n",
       "      <th>1</th>\n",
       "      <td>1</td>\n",
       "      <td>Jewell Ball'S Chicken</td>\n",
       "      <td>[beef, chicken breasts, cream of mushroom soup...</td>\n",
       "      <td>www.cookbooks.com</td>\n",
       "      <td>http://www.cookbooks.com/Recipe-Details.aspx?i...</td>\n",
       "      <td>Jewell Ball'S Chicken 1 small jar chipped beef...</td>\n",
       "      <td>jewel ball 's chicken 1 small jar chip beef cu...</td>\n",
       "    </tr>\n",
       "    <tr>\n",
       "      <th>2</th>\n",
       "      <td>2</td>\n",
       "      <td>Creamy Corn</td>\n",
       "      <td>[frozen corn, cream cheese, butter, garlic pow...</td>\n",
       "      <td>www.cookbooks.com</td>\n",
       "      <td>http://www.cookbooks.com/Recipe-Details.aspx?i...</td>\n",
       "      <td>Creamy Corn 2 (16 oz.) pkg. frozen corn 1 (8 o...</td>\n",
       "      <td>creami corn 2 16 pkg frozen corn 1 8 pkg cream...</td>\n",
       "    </tr>\n",
       "    <tr>\n",
       "      <th>3</th>\n",
       "      <td>3</td>\n",
       "      <td>Chicken Funny</td>\n",
       "      <td>[chicken, chicken gravy, cream of mushroom sou...</td>\n",
       "      <td>www.cookbooks.com</td>\n",
       "      <td>http://www.cookbooks.com/Recipe-Details.aspx?i...</td>\n",
       "      <td>Chicken Funny 1 large whole chicken 2 (10 1/2 ...</td>\n",
       "      <td>chicken funni 1 larg whole chicken 2 10 1/2 ca...</td>\n",
       "    </tr>\n",
       "    <tr>\n",
       "      <th>4</th>\n",
       "      <td>4</td>\n",
       "      <td>Reeses Cups(Candy)</td>\n",
       "      <td>[peanut butter, graham cracker crumbs, butter,...</td>\n",
       "      <td>www.cookbooks.com</td>\n",
       "      <td>http://www.cookbooks.com/Recipe-Details.aspx?i...</td>\n",
       "      <td>Reeses Cups(Candy)   1 c. peanut butter 3/4 c....</td>\n",
       "      <td>rees cup candi 1 peanut butter 3/4 graham crac...</td>\n",
       "    </tr>\n",
       "  </tbody>\n",
       "</table>\n",
       "</div>"
      ],
      "text/plain": [
       "   Unnamed: 0                  title  \\\n",
       "0           0    No-Bake Nut Cookies   \n",
       "1           1  Jewell Ball'S Chicken   \n",
       "2           2            Creamy Corn   \n",
       "3           3          Chicken Funny   \n",
       "4           4   Reeses Cups(Candy)     \n",
       "\n",
       "                                                 NER               site  \\\n",
       "0  [brown sugar, milk, vanilla, nuts, butter, bit...  www.cookbooks.com   \n",
       "1  [beef, chicken breasts, cream of mushroom soup...  www.cookbooks.com   \n",
       "2  [frozen corn, cream cheese, butter, garlic pow...  www.cookbooks.com   \n",
       "3  [chicken, chicken gravy, cream of mushroom sou...  www.cookbooks.com   \n",
       "4  [peanut butter, graham cracker crumbs, butter,...  www.cookbooks.com   \n",
       "\n",
       "                                                urls  \\\n",
       "0  http://www.cookbooks.com/Recipe-Details.aspx?i...   \n",
       "1  http://www.cookbooks.com/Recipe-Details.aspx?i...   \n",
       "2  http://www.cookbooks.com/Recipe-Details.aspx?i...   \n",
       "3  http://www.cookbooks.com/Recipe-Details.aspx?i...   \n",
       "4  http://www.cookbooks.com/Recipe-Details.aspx?i...   \n",
       "\n",
       "                                        bag_of_words  \\\n",
       "0  No-Bake Nut Cookies 1 c. firmly packed brown s...   \n",
       "1  Jewell Ball'S Chicken 1 small jar chipped beef...   \n",
       "2  Creamy Corn 2 (16 oz.) pkg. frozen corn 1 (8 o...   \n",
       "3  Chicken Funny 1 large whole chicken 2 (10 1/2 ...   \n",
       "4  Reeses Cups(Candy)   1 c. peanut butter 3/4 c....   \n",
       "\n",
       "                                         cleaned_bow  \n",
       "0  no-bak nut cooki 1 firmli pack brown sugar 1/2...  \n",
       "1  jewel ball 's chicken 1 small jar chip beef cu...  \n",
       "2  creami corn 2 16 pkg frozen corn 1 8 pkg cream...  \n",
       "3  chicken funni 1 larg whole chicken 2 10 1/2 ca...  \n",
       "4  rees cup candi 1 peanut butter 3/4 graham crac...  "
      ]
     },
     "execution_count": 3,
     "metadata": {},
     "output_type": "execute_result"
    }
   ],
   "source": [
    "df.head()"
   ]
  },
  {
   "cell_type": "code",
   "execution_count": 111,
   "metadata": {},
   "outputs": [
    {
     "data": {
      "text/plain": [
       "array(['www.cookbooks.com', 'www.allrecipes.com', 'www.food.com',\n",
       "       'recipes-plus.com', 'www.epicurious.com', 'food52.com',\n",
       "       'www.myrecipes.com', 'www.seriouseats.com', 'www.tasteofhome.com',\n",
       "       'tastykitchen.com', 'www.yummly.com'], dtype=object)"
      ]
     },
     "execution_count": 111,
     "metadata": {},
     "output_type": "execute_result"
    }
   ],
   "source": [
    "df['site'].unique()"
   ]
  },
  {
   "cell_type": "code",
   "execution_count": 126,
   "metadata": {},
   "outputs": [],
   "source": [
    "def get_counts(df, column):\n",
    "    column_df = pd.DataFrame(df[column])\n",
    "    column_counts = column_df[column].explode().value_counts()\n",
    "    column_counts_df = column_counts.to_frame('counts').reset_index()\n",
    "    column_counts_df = column_counts_df.rename(columns = {'index': column})\n",
    "    \n",
    "    return column_counts_df"
   ]
  },
  {
   "cell_type": "code",
   "execution_count": 127,
   "metadata": {},
   "outputs": [
    {
     "data": {
      "text/html": [
       "<div>\n",
       "<style scoped>\n",
       "    .dataframe tbody tr th:only-of-type {\n",
       "        vertical-align: middle;\n",
       "    }\n",
       "\n",
       "    .dataframe tbody tr th {\n",
       "        vertical-align: top;\n",
       "    }\n",
       "\n",
       "    .dataframe thead th {\n",
       "        text-align: right;\n",
       "    }\n",
       "</style>\n",
       "<table border=\"1\" class=\"dataframe\">\n",
       "  <thead>\n",
       "    <tr style=\"text-align: right;\">\n",
       "      <th></th>\n",
       "      <th>site</th>\n",
       "      <th>counts</th>\n",
       "    </tr>\n",
       "  </thead>\n",
       "  <tbody>\n",
       "    <tr>\n",
       "      <th>0</th>\n",
       "      <td>www.cookbooks.com</td>\n",
       "      <td>896341</td>\n",
       "    </tr>\n",
       "    <tr>\n",
       "      <th>1</th>\n",
       "      <td>www.food.com</td>\n",
       "      <td>290565</td>\n",
       "    </tr>\n",
       "    <tr>\n",
       "      <th>2</th>\n",
       "      <td>www.epicurious.com</td>\n",
       "      <td>94398</td>\n",
       "    </tr>\n",
       "    <tr>\n",
       "      <th>3</th>\n",
       "      <td>www.myrecipes.com</td>\n",
       "      <td>64862</td>\n",
       "    </tr>\n",
       "    <tr>\n",
       "      <th>4</th>\n",
       "      <td>www.allrecipes.com</td>\n",
       "      <td>61398</td>\n",
       "    </tr>\n",
       "    <tr>\n",
       "      <th>5</th>\n",
       "      <td>www.yummly.com</td>\n",
       "      <td>51963</td>\n",
       "    </tr>\n",
       "    <tr>\n",
       "      <th>6</th>\n",
       "      <td>www.tasteofhome.com</td>\n",
       "      <td>51594</td>\n",
       "    </tr>\n",
       "    <tr>\n",
       "      <th>7</th>\n",
       "      <td>tastykitchen.com</td>\n",
       "      <td>50320</td>\n",
       "    </tr>\n",
       "    <tr>\n",
       "      <th>8</th>\n",
       "      <td>food52.com</td>\n",
       "      <td>48501</td>\n",
       "    </tr>\n",
       "    <tr>\n",
       "      <th>9</th>\n",
       "      <td>recipes-plus.com</td>\n",
       "      <td>20524</td>\n",
       "    </tr>\n",
       "    <tr>\n",
       "      <th>10</th>\n",
       "      <td>www.seriouseats.com</td>\n",
       "      <td>12632</td>\n",
       "    </tr>\n",
       "  </tbody>\n",
       "</table>\n",
       "</div>"
      ],
      "text/plain": [
       "                   site  counts\n",
       "0     www.cookbooks.com  896341\n",
       "1          www.food.com  290565\n",
       "2    www.epicurious.com   94398\n",
       "3     www.myrecipes.com   64862\n",
       "4    www.allrecipes.com   61398\n",
       "5        www.yummly.com   51963\n",
       "6   www.tasteofhome.com   51594\n",
       "7      tastykitchen.com   50320\n",
       "8            food52.com   48501\n",
       "9      recipes-plus.com   20524\n",
       "10  www.seriouseats.com   12632"
      ]
     },
     "execution_count": 127,
     "metadata": {},
     "output_type": "execute_result"
    }
   ],
   "source": [
    "website_counts = get_counts(df, 'site')\n",
    "website_counts"
   ]
  },
  {
   "cell_type": "code",
   "execution_count": 119,
   "metadata": {},
   "outputs": [],
   "source": [
    "def counts_horizontal_bar(df, x_column, y_column, x_min, x_max, x_inc, ax):\n",
    "    x_data = df[x_column]\n",
    "    y_data = df[y_column]\n",
    "    y = np.arange(len(y_data))\n",
    "    x = np.linspace(x_min, x_max, (x_max-x_min)//x_inc + 1, dtype='int')\n",
    "    \n",
    "    ax.barh(y_data, x_data)\n",
    "    ax.invert_yaxis()\n",
    "    ax.set_yticks(y)\n",
    "    ax.set_xticks(x)\n",
    "    ax.set_xticklabels(x, fontsize = 18, rotation = 45)\n",
    "    ax.set_yticklabels(y_data, fontsize = 18)\n",
    "    ax.xaxis.grid(True)\n",
    "    fig.tight_layout()"
   ]
  },
  {
   "cell_type": "code",
   "execution_count": 133,
   "metadata": {},
   "outputs": [
    {
     "data": {
      "image/png": "[encoded data removed]",
      "text/plain": [
       "<Figure size 1296x720 with 1 Axes>"
      ]
     },
     "metadata": {
      "needs_background": "light"
     },
     "output_type": "display_data"
    }
   ],
   "source": [
    "fig, ax = plt.subplots(figsize=(18,10))\n",
    "ax.set_xlabel('Recipe Count', fontsize = 24)\n",
    "ax.set_title('Counts of Recipes by Website', fontsize = 24)\n",
    "\n",
    "counts_horizontal_bar(website_counts, 'counts', 'site', 0, 900000, 60000, ax)"
   ]
  },
  {
   "cell_type": "code",
   "execution_count": 117,
   "metadata": {},
   "outputs": [
    {
     "name": "stdout",
     "output_type": "stream",
     "text": [
      "<class 'pandas.core.frame.DataFrame'>\n",
      "Int64Index: 1643098 entries, 0 to 1643097\n",
      "Data columns (total 7 columns):\n",
      " #   Column        Non-Null Count    Dtype \n",
      "---  ------        --------------    ----- \n",
      " 0   Unnamed: 0    1643098 non-null  int64 \n",
      " 1   title         1643098 non-null  object\n",
      " 2   NER           1643098 non-null  object\n",
      " 3   site          1643098 non-null  object\n",
      " 4   urls          1643098 non-null  object\n",
      " 5   bag_of_words  1643098 non-null  object\n",
      " 6   cleaned_bow   1643098 non-null  object\n",
      "dtypes: int64(1), object(6)\n",
      "memory usage: 100.3+ MB\n"
     ]
    }
   ],
   "source": [
    "df.info()"
   ]
  },
  {
   "cell_type": "code",
   "execution_count": 5,
   "metadata": {},
   "outputs": [],
   "source": [
    "df_subset = df.sample(frac=0.05, replace=False)"
   ]
  },
  {
   "cell_type": "code",
   "execution_count": 6,
   "metadata": {},
   "outputs": [],
   "source": [
    "docs_cleaned = df_subset['cleaned_bow']"
   ]
  },
  {
   "cell_type": "code",
   "execution_count": 7,
   "metadata": {},
   "outputs": [],
   "source": [
    "docs_train, docs_test = train_test_split(docs_cleaned)"
   ]
  },
  {
   "cell_type": "code",
   "execution_count": 8,
   "metadata": {},
   "outputs": [],
   "source": [
    "lda_model_1 = joblib.load('./models/lda_model.joblib')\n",
    "lda_model_2 = joblib.load('./models/lda_model_1_tid.joblib')\n",
    "lda_model_3 = joblib.load('./models/lda_model_2_tdn.joblib')\n",
    "lda_model_4 = joblib.load('./models/lda_model_2_tid.joblib')\n",
    "lda_model_5 = joblib.load('./models/lda_model_3_tid.joblib')\n",
    "lda_model_6 = joblib.load('./models/lda_model_4_tid.joblib')\n",
    "lda_model_7 = joblib.load('./models/lda_model_5_tid.joblib')\n",
    "lda_model_8 = joblib.load('./models/lda_model_6_tid.joblib')\n",
    "lda_model_8 = joblib.load('./models/lda_model_6_tid_pickle4.joblib')\n",
    "lda_model_9 = joblib.load('./models/lda_model_full_tid_pickle4.joblib')"
   ]
  },
  {
   "cell_type": "code",
   "execution_count": 9,
   "metadata": {},
   "outputs": [],
   "source": [
    "models = [lda_model_1, lda_model_2, lda_model_3, lda_model_4, lda_model_5, lda_model_6, lda_model_7, lda_model_8, lda_model_9]"
   ]
  },
  {
   "cell_type": "code",
   "execution_count": 10,
   "metadata": {},
   "outputs": [
    {
     "name": "stdout",
     "output_type": "stream",
     "text": [
      "Model: 1\n",
      "\n",
      "Parameters:{'batch_size': 128, 'doc_topic_prior': None, 'evaluate_every': -1, 'learning_decay': 0.7, 'learning_method': 'online', 'learning_offset': 10.0, 'max_doc_update_iter': 100, 'max_iter': 10, 'mean_change_tol': 0.001, 'n_components': 30, 'n_jobs': -1, 'perp_tol': 0.1, 'random_state': None, 'topic_word_prior': None, 'total_samples': 1000000.0, 'verbose': 0}\n",
      "\n",
      "Model: 2\n",
      "\n",
      "Parameters:{'batch_size': 128, 'doc_topic_prior': None, 'evaluate_every': -1, 'learning_decay': 0.7, 'learning_method': 'online', 'learning_offset': 10.0, 'max_doc_update_iter': 100, 'max_iter': 10, 'mean_change_tol': 0.001, 'n_components': 30, 'n_jobs': -1, 'perp_tol': 0.1, 'random_state': None, 'topic_word_prior': None, 'total_samples': 1000000.0, 'verbose': 0}\n",
      "\n",
      "Model: 3\n",
      "\n",
      "Parameters:{'batch_size': 128, 'doc_topic_prior': None, 'evaluate_every': -1, 'learning_decay': 0.7, 'learning_method': 'online', 'learning_offset': 10.0, 'max_doc_update_iter': 100, 'max_iter': 10, 'mean_change_tol': 0.001, 'n_components': 30, 'n_jobs': -1, 'perp_tol': 0.1, 'random_state': None, 'topic_word_prior': None, 'total_samples': 1000000.0, 'verbose': 0}\n",
      "\n",
      "Model: 4\n",
      "\n",
      "Parameters:{'batch_size': 128, 'doc_topic_prior': None, 'evaluate_every': -1, 'learning_decay': 0.7, 'learning_method': 'online', 'learning_offset': 10.0, 'max_doc_update_iter': 100, 'max_iter': 10, 'mean_change_tol': 0.001, 'n_components': 30, 'n_jobs': -1, 'perp_tol': 0.1, 'random_state': None, 'topic_word_prior': None, 'total_samples': 1000000.0, 'verbose': 0}\n",
      "\n",
      "Model: 5\n",
      "\n",
      "Parameters:{'batch_size': 128, 'doc_topic_prior': None, 'evaluate_every': -1, 'learning_decay': 0.7, 'learning_method': 'online', 'learning_offset': 10.0, 'max_doc_update_iter': 100, 'max_iter': 10, 'mean_change_tol': 0.001, 'n_components': 100, 'n_jobs': -1, 'perp_tol': 0.1, 'random_state': None, 'topic_word_prior': None, 'total_samples': 1000000.0, 'verbose': 0}\n",
      "\n",
      "Model: 6\n",
      "\n",
      "Parameters:{'batch_size': 32, 'doc_topic_prior': None, 'evaluate_every': -1, 'learning_decay': 0.7, 'learning_method': 'online', 'learning_offset': 20, 'max_doc_update_iter': 100, 'max_iter': 10, 'mean_change_tol': 0.001, 'n_components': 100, 'n_jobs': -1, 'perp_tol': 0.1, 'random_state': None, 'topic_word_prior': None, 'total_samples': 1000000.0, 'verbose': 0}\n",
      "\n",
      "Model: 7\n",
      "\n",
      "Parameters:{'batch_size': 32, 'doc_topic_prior': 0.9, 'evaluate_every': -1, 'learning_decay': 0.7, 'learning_method': 'online', 'learning_offset': 20, 'max_doc_update_iter': 100, 'max_iter': 10, 'mean_change_tol': 0.001, 'n_components': 100, 'n_jobs': -1, 'perp_tol': 0.1, 'random_state': None, 'topic_word_prior': 0.9, 'total_samples': 1000000.0, 'verbose': 0}\n",
      "\n",
      "Model: 8\n",
      "\n",
      "Parameters:{'batch_size': 32, 'doc_topic_prior': 0.9, 'evaluate_every': -1, 'learning_decay': 0.7, 'learning_method': 'online', 'learning_offset': 50, 'max_doc_update_iter': 100, 'max_iter': 10, 'mean_change_tol': 0.001, 'n_components': 100, 'n_jobs': -1, 'perp_tol': 0.1, 'random_state': None, 'topic_word_prior': 0.9, 'total_samples': 1000000.0, 'verbose': 0}\n",
      "\n",
      "Model: 9\n",
      "\n",
      "Parameters:{'batch_size': 32, 'doc_topic_prior': 0.9, 'evaluate_every': -1, 'learning_decay': 0.7, 'learning_method': 'online', 'learning_offset': 50, 'max_doc_update_iter': 100, 'max_iter': 10, 'mean_change_tol': 0.001, 'n_components': 100, 'n_jobs': -1, 'perp_tol': 0.1, 'random_state': None, 'topic_word_prior': 0.9, 'total_samples': 1000000.0, 'verbose': 0}\n",
      "\n"
     ]
    }
   ],
   "source": [
    "i = 0\n",
    "for model in models:\n",
    "    i += 1\n",
    "    print(f'Model: {i}\\n\\nParameters:{model.get_params()}\\n')"
   ]
  },
  {
   "cell_type": "markdown",
   "metadata": {},
   "source": [
    "models 1 - 4 are the same: n_components =30, everything else default"
   ]
  },
  {
   "cell_type": "markdown",
   "metadata": {},
   "source": [
    "model 5 changed n_components to 100, everything else default"
   ]
  },
  {
   "cell_type": "markdown",
   "metadata": {},
   "source": [
    "model 6 changed batch size to 32, learning offset 20, everything else the same"
   ]
  },
  {
   "cell_type": "markdown",
   "metadata": {},
   "source": [
    "model 7 doc_topic_prior 0.9 topic_word_prior 0.9, everything else the same"
   ]
  },
  {
   "cell_type": "markdown",
   "metadata": {},
   "source": [
    "model 8 learning offset to 50"
   ]
  },
  {
   "cell_type": "code",
   "execution_count": 11,
   "metadata": {},
   "outputs": [],
   "source": [
    "unique_models = [lda_model_1, lda_model_5, lda_model_6, lda_model_7, lda_model_8]"
   ]
  },
  {
   "cell_type": "code",
   "execution_count": 12,
   "metadata": {},
   "outputs": [],
   "source": [
    "vec_1 = joblib.load('./models/vec.joblib')\n",
    "vec_2 = joblib.load('./models/vec_1_tid.joblib')\n",
    "vec_3 = joblib.load('./models/vec_2_tdn.joblib')\n",
    "vec_4 = joblib.load('./models/vec_2_tid.joblib')\n",
    "vec_5 = joblib.load('./models/vec_3_tid.joblib')\n",
    "vec_6 = joblib.load('./models/vec_4_tid.joblib')\n",
    "vec_7 = joblib.load('./models/vec_5_tid.joblib')\n",
    "vec_8 = joblib.load('./models/vec_6_tid.joblib')\n",
    "vec_9 = joblib.load('./models/vec_6_tid_pickle4.joblib')"
   ]
  },
  {
   "cell_type": "code",
   "execution_count": 13,
   "metadata": {},
   "outputs": [],
   "source": [
    "vecs = [vec_1, vec_2, vec_3, vec_4, vec_5, vec_6, vec_7, vec_8, vec_9]"
   ]
  },
  {
   "cell_type": "code",
   "execution_count": 14,
   "metadata": {},
   "outputs": [
    {
     "name": "stdout",
     "output_type": "stream",
     "text": [
      "Vectorizer: 1\n",
      "\n",
      "Parameters:{'analyzer': 'word', 'binary': False, 'decode_error': 'strict', 'dtype': <class 'numpy.int64'>, 'encoding': 'utf-8', 'input': 'content', 'lowercase': True, 'max_df': 0.85, 'max_features': 1000, 'min_df': 2, 'ngram_range': (1, 2), 'preprocessor': None, 'stop_words': None, 'strip_accents': None, 'token_pattern': '(?u)\\\\b\\\\w\\\\w+\\\\b', 'tokenizer': None, 'vocabulary': None}\n",
      "\n",
      "Vectorizer: 2\n",
      "\n",
      "Parameters:{'analyzer': 'word', 'binary': False, 'decode_error': 'strict', 'dtype': <class 'numpy.int64'>, 'encoding': 'utf-8', 'input': 'content', 'lowercase': True, 'max_df': 0.85, 'max_features': 1000, 'min_df': 2, 'ngram_range': (1, 2), 'preprocessor': None, 'stop_words': None, 'strip_accents': None, 'token_pattern': '(?u)\\\\b\\\\w\\\\w+\\\\b', 'tokenizer': None, 'vocabulary': None}\n",
      "\n",
      "Vectorizer: 3\n",
      "\n",
      "Parameters:{'analyzer': 'word', 'binary': False, 'decode_error': 'strict', 'dtype': <class 'numpy.int64'>, 'encoding': 'utf-8', 'input': 'content', 'lowercase': True, 'max_df': 0.85, 'max_features': 1000, 'min_df': 2, 'ngram_range': (1, 3), 'preprocessor': None, 'stop_words': None, 'strip_accents': None, 'token_pattern': '(?u)\\\\b\\\\w\\\\w+\\\\b', 'tokenizer': None, 'vocabulary': None}\n",
      "\n",
      "Vectorizer: 4\n",
      "\n",
      "Parameters:{'analyzer': 'word', 'binary': False, 'decode_error': 'strict', 'dtype': <class 'numpy.int64'>, 'encoding': 'utf-8', 'input': 'content', 'lowercase': True, 'max_df': 0.85, 'max_features': 1000, 'min_df': 2, 'ngram_range': (1, 3), 'preprocessor': None, 'stop_words': None, 'strip_accents': None, 'token_pattern': '(?u)\\\\b\\\\w\\\\w+\\\\b', 'tokenizer': None, 'vocabulary': None}\n",
      "\n",
      "Vectorizer: 5\n",
      "\n",
      "Parameters:{'analyzer': 'word', 'binary': False, 'decode_error': 'strict', 'dtype': <class 'numpy.int64'>, 'encoding': 'utf-8', 'input': 'content', 'lowercase': True, 'max_df': 0.85, 'max_features': 1000, 'min_df': 2, 'ngram_range': (1, 3), 'preprocessor': None, 'stop_words': None, 'strip_accents': None, 'token_pattern': '(?u)\\\\b\\\\w\\\\w+\\\\b', 'tokenizer': None, 'vocabulary': None}\n",
      "\n",
      "Vectorizer: 6\n",
      "\n",
      "Parameters:{'analyzer': 'word', 'binary': False, 'decode_error': 'strict', 'dtype': <class 'numpy.int64'>, 'encoding': 'utf-8', 'input': 'content', 'lowercase': True, 'max_df': 0.85, 'max_features': 1000, 'min_df': 2, 'ngram_range': (1, 3), 'preprocessor': None, 'stop_words': None, 'strip_accents': None, 'token_pattern': '(?u)\\\\b\\\\w\\\\w+\\\\b', 'tokenizer': None, 'vocabulary': None}\n",
      "\n",
      "Vectorizer: 7\n",
      "\n",
      "Parameters:{'analyzer': 'word', 'binary': False, 'decode_error': 'strict', 'dtype': <class 'numpy.int64'>, 'encoding': 'utf-8', 'input': 'content', 'lowercase': True, 'max_df': 0.85, 'max_features': 500, 'min_df': 2, 'ngram_range': (1, 2), 'preprocessor': None, 'stop_words': None, 'strip_accents': None, 'token_pattern': '(?u)\\\\b\\\\w\\\\w+\\\\b', 'tokenizer': None, 'vocabulary': None}\n",
      "\n",
      "Vectorizer: 8\n",
      "\n",
      "Parameters:{'analyzer': 'word', 'binary': False, 'decode_error': 'strict', 'dtype': <class 'numpy.int64'>, 'encoding': 'utf-8', 'input': 'content', 'lowercase': True, 'max_df': 0.85, 'max_features': 500, 'min_df': 2, 'ngram_range': (1, 2), 'preprocessor': None, 'stop_words': None, 'strip_accents': None, 'token_pattern': '(?u)\\\\b\\\\w\\\\w+\\\\b', 'tokenizer': None, 'vocabulary': None}\n",
      "\n",
      "Vectorizer: 9\n",
      "\n",
      "Parameters:{'analyzer': 'word', 'binary': False, 'decode_error': 'strict', 'dtype': <class 'numpy.int64'>, 'encoding': 'utf-8', 'input': 'content', 'lowercase': True, 'max_df': 0.85, 'max_features': 500, 'min_df': 2, 'ngram_range': (1, 2), 'preprocessor': None, 'stop_words': None, 'strip_accents': None, 'token_pattern': '(?u)\\\\b\\\\w\\\\w+\\\\b', 'tokenizer': None, 'vocabulary': None}\n",
      "\n"
     ]
    }
   ],
   "source": [
    "i = 0\n",
    "for vec in vecs:\n",
    "    i += 1\n",
    "    print(f'Vectorizer: {i}\\n\\nParameters:{vec.get_params()}\\n')"
   ]
  },
  {
   "cell_type": "markdown",
   "metadata": {},
   "source": [
    "Vectorizer 1 and 2: max_df=0.85, min_df=2, max_features=1000, n_gram_range=(1,2)"
   ]
  },
  {
   "cell_type": "markdown",
   "metadata": {},
   "source": [
    "Vectorizer 3, 4, 5, 6: n_gram_range=(1,3)"
   ]
  },
  {
   "cell_type": "markdown",
   "metadata": {},
   "source": [
    "Vectorizer 7, 8, 9: max_features = 500, n_gram_range = (1,2)"
   ]
  },
  {
   "cell_type": "code",
   "execution_count": 15,
   "metadata": {},
   "outputs": [],
   "source": [
    "vec_10 = CountVectorizer(max_df=0.85, \n",
    "                      min_df=10,\n",
    "                      ngram_range=(1,3),\n",
    "                      max_features=1000)"
   ]
  },
  {
   "cell_type": "markdown",
   "metadata": {},
   "source": [
    "Vectorizer 10: min_df=10, ngram_range=(1,3), max_features=1000"
   ]
  },
  {
   "cell_type": "code",
   "execution_count": 16,
   "metadata": {},
   "outputs": [],
   "source": [
    "vec_11 = CountVectorizer(max_df=0.85, \n",
    "                      min_df=10,\n",
    "                      ngram_range=(1,3),\n",
    "                      max_features=500)"
   ]
  },
  {
   "cell_type": "code",
   "execution_count": 17,
   "metadata": {},
   "outputs": [],
   "source": [
    "vecs.append(vec_10)\n",
    "vecs.append(vec_11)"
   ]
  },
  {
   "cell_type": "code",
   "execution_count": 18,
   "metadata": {},
   "outputs": [
    {
     "data": {
      "text/plain": [
       "[CountVectorizer(max_df=0.85, max_features=1000, min_df=2, ngram_range=(1, 2)),\n",
       " CountVectorizer(max_df=0.85, max_features=1000, min_df=2, ngram_range=(1, 3)),\n",
       " CountVectorizer(max_df=0.85, max_features=500, min_df=2, ngram_range=(1, 2)),\n",
       " CountVectorizer(max_df=0.85, max_features=1000, min_df=10, ngram_range=(1, 3)),\n",
       " CountVectorizer(max_df=0.85, max_features=500, min_df=10, ngram_range=(1, 3))]"
      ]
     },
     "execution_count": 18,
     "metadata": {},
     "output_type": "execute_result"
    }
   ],
   "source": [
    "unique_vecs = [vecs[0], vecs[2], vecs[6], vecs[9], vecs[10]]\n",
    "unique_vecs"
   ]
  },
  {
   "cell_type": "code",
   "execution_count": 19,
   "metadata": {},
   "outputs": [],
   "source": [
    "vec_1, vec_2, vec_3, vec_4, vec_5 = unique_vecs"
   ]
  },
  {
   "cell_type": "code",
   "execution_count": 20,
   "metadata": {},
   "outputs": [],
   "source": [
    "tf_vec1 = vec_1.fit_transform(docs_train)\n",
    "tf_vec2 = vec_2.fit_transform(docs_train)\n",
    "tf_vec3 = vec_3.fit_transform(docs_train)\n",
    "tf_vec4 = vec_4.fit_transform(docs_train)"
   ]
  },
  {
   "cell_type": "code",
   "execution_count": 21,
   "metadata": {},
   "outputs": [],
   "source": [
    "tf_vec5 = vec_5.fit_transform(docs_train)"
   ]
  },
  {
   "cell_type": "code",
   "execution_count": 22,
   "metadata": {},
   "outputs": [],
   "source": [
    "tf_vec1_test = vec_1.fit_transform(docs_test)\n",
    "tf_vec2_test = vec_2.fit_transform(docs_test)\n",
    "tf_vec3_test = vec_3.fit_transform(docs_test)\n",
    "tf_vec4_test = vec_4.fit_transform(docs_test)\n",
    "tf_vec5_test = vec_5.fit_transform(docs_test)"
   ]
  },
  {
   "cell_type": "code",
   "execution_count": 23,
   "metadata": {},
   "outputs": [],
   "source": [
    "tf_vec_docs_3 = vec_3.fit_transform(docs_cleaned)\n",
    "tf_vec_docs_4 = vec_4.fit_transform(docs_cleaned)\n",
    "tf_vec_docs_5 = vec_5.fit_transform(docs_cleaned)"
   ]
  },
  {
   "cell_type": "markdown",
   "metadata": {},
   "source": [
    "## 30 components, different vectors"
   ]
  },
  {
   "cell_type": "code",
   "execution_count": 24,
   "metadata": {},
   "outputs": [],
   "source": [
    "scores = []\n",
    "perplexity = []"
   ]
  },
  {
   "cell_type": "code",
   "execution_count": 25,
   "metadata": {},
   "outputs": [],
   "source": [
    "lda_model_1.fit(tf_vec1)\n",
    "lda_1_1_score = lda_model_1.score(tf_vec1_test)\n",
    "lda_1_1_perplexity = lda_model_1.perplexity(tf_vec1_test)\n",
    "scores.append(lda_1_1_score)\n",
    "perplexity.append(lda_1_1_perplexity)"
   ]
  },
  {
   "cell_type": "code",
   "execution_count": 26,
   "metadata": {},
   "outputs": [],
   "source": [
    "lda_model_1.fit(tf_vec2)\n",
    "lda_1_2_score = lda_model_1.score(tf_vec2_test)\n",
    "lda_1_2_perplexity = lda_model_1.perplexity(tf_vec2_test)\n",
    "scores.append(lda_1_2_score)\n",
    "perplexity.append(lda_1_2_perplexity)"
   ]
  },
  {
   "cell_type": "code",
   "execution_count": 27,
   "metadata": {},
   "outputs": [],
   "source": [
    "lda_model_1.fit(tf_vec3)\n",
    "lda_1_3_score = lda_model_1.score(tf_vec3_test)\n",
    "lda_1_3_perplexity = lda_model_1.perplexity(tf_vec3_test)\n",
    "scores.append(lda_1_3_score)\n",
    "perplexity.append(lda_1_3_perplexity)"
   ]
  },
  {
   "cell_type": "code",
   "execution_count": 28,
   "metadata": {},
   "outputs": [],
   "source": [
    "probs_1_3 = lda_model_1.transform(tf_vec_docs_3)"
   ]
  },
  {
   "cell_type": "code",
   "execution_count": 29,
   "metadata": {},
   "outputs": [],
   "source": [
    "lda_model_1.fit(tf_vec4)\n",
    "lda_1_4_score = lda_model_1.score(tf_vec4_test)\n",
    "lda_1_4_perplexity = lda_model_1.perplexity(tf_vec4_test)\n",
    "scores.append(lda_1_4_score)\n",
    "perplexity.append(lda_1_4_perplexity)"
   ]
  },
  {
   "cell_type": "code",
   "execution_count": 30,
   "metadata": {},
   "outputs": [],
   "source": [
    "probs_1_4 = lda_model_1.transform(tf_vec_docs_4)"
   ]
  },
  {
   "cell_type": "code",
   "execution_count": 31,
   "metadata": {},
   "outputs": [],
   "source": [
    "lda_model_1.fit(tf_vec5)\n",
    "lda_1_5_score = lda_model_1.score(tf_vec5_test)\n",
    "lda_1_5_perplexity = lda_model_1.perplexity(tf_vec5_test)\n",
    "scores.append(lda_1_5_score)\n",
    "perplexity.append(lda_1_5_perplexity)"
   ]
  },
  {
   "cell_type": "code",
   "execution_count": 32,
   "metadata": {},
   "outputs": [],
   "source": [
    "probs_1_5 = lda_model_1.transform(tf_vec_docs_5)"
   ]
  },
  {
   "cell_type": "code",
   "execution_count": 33,
   "metadata": {},
   "outputs": [
    {
     "data": {
      "text/plain": [
       "[-12027135.465714172,\n",
       " -12456079.923884975,\n",
       " -9382599.52883535,\n",
       " -12402075.44755314,\n",
       " -9327974.957934933]"
      ]
     },
     "execution_count": 33,
     "metadata": {},
     "output_type": "execute_result"
    }
   ],
   "source": [
    "scores"
   ]
  },
  {
   "cell_type": "code",
   "execution_count": 34,
   "metadata": {},
   "outputs": [
    {
     "data": {
      "text/plain": [
       "[1740.4762450302935,\n",
       " 2179.9439005895233,\n",
       " 980.7957058221372,\n",
       " 2108.4882335267557,\n",
       " 932.7197356059606]"
      ]
     },
     "execution_count": 34,
     "metadata": {},
     "output_type": "execute_result"
    }
   ],
   "source": [
    "perplexity"
   ]
  },
  {
   "cell_type": "code",
   "execution_count": 92,
   "metadata": {},
   "outputs": [],
   "source": [
    "def closest_recipes(keyword, idx_arr, recipes, probs, n_docs=10):\n",
    "    recipe_idx = recipes[recipes.str.contains(keyword, case=False, regex=False)].index[0]\n",
    "    keyword_idx = int(np.where(idx_arr == recipe_idx)[0])\n",
    "    sims = cosine_distances(probs[keyword_idx].reshape(1, -1), probs).argsort()[0]\n",
    "    print(f'Top {n_docs} recipes most closely related to {keyword} (reference recipe: {recipes.loc[recipes.index[keyword_idx]]})')\n",
    "    return np.array(recipes)[sims[1:n_docs+1]]"
   ]
  },
  {
   "cell_type": "code",
   "execution_count": 36,
   "metadata": {},
   "outputs": [],
   "source": [
    "recipes = df_subset['title']"
   ]
  },
  {
   "cell_type": "code",
   "execution_count": 37,
   "metadata": {},
   "outputs": [],
   "source": [
    "idx_arr = np.array(recipes.index)"
   ]
  },
  {
   "cell_type": "code",
   "execution_count": 93,
   "metadata": {},
   "outputs": [
    {
     "name": "stdout",
     "output_type": "stream",
     "text": [
      "Top 10 recipes most closely related to soup (reference recipe: Curried Red Pepper Soup)\n"
     ]
    },
    {
     "data": {
      "text/plain": [
       "array(['Low-Fat Chili', 'Tomato Juice Supreme', 'Dixie Hominy',\n",
       "       'Vegetable Soup', 'Bell Pepper Relish', 'Louisiana Green Beans',\n",
       "       'Minestrone', \"Chasen'S Famous Chili(Esquire 1973)  \", 'Jambalaya',\n",
       "       'West Texas-Style Buffalo Chili'], dtype=object)"
      ]
     },
     "execution_count": 93,
     "metadata": {},
     "output_type": "execute_result"
    }
   ],
   "source": [
    "recipe_recs_1_3 = closest_recipes('soup', idx_arr, recipes, probs_1_3)\n",
    "recipe_recs_1_3"
   ]
  },
  {
   "cell_type": "code",
   "execution_count": 39,
   "metadata": {},
   "outputs": [
    {
     "name": "stdout",
     "output_type": "stream",
     "text": [
      "Top 10 recipes most closely related to soup (reference recipe: Curried Red Pepper Soup)\n"
     ]
    },
    {
     "data": {
      "text/plain": [
       "array(['Corn Relish', \"Richard And Suzanne'S Famous Spaghetti Sauce\",\n",
       "       'Indian Styled Feta Cheese - Ekadasi Paneer Makhani',\n",
       "       'New Orleans Shrimp', 'Coconut Curry Tofu', 'Dorito Dip',\n",
       "       'Beef Stew', 'Corn Chowder', 'Corn And Shrimp Soup',\n",
       "       'Creole Shrimp Stew With Fennel '], dtype=object)"
      ]
     },
     "execution_count": 39,
     "metadata": {},
     "output_type": "execute_result"
    }
   ],
   "source": [
    "recipe_recs_1_4 = closest_recipes('soup', idx_arr, recipes, probs_1_4)\n",
    "recipe_recs_1_4"
   ]
  },
  {
   "cell_type": "code",
   "execution_count": 40,
   "metadata": {},
   "outputs": [
    {
     "name": "stdout",
     "output_type": "stream",
     "text": [
      "Top 10 recipes most closely related to soup (reference recipe: Curried Red Pepper Soup)\n"
     ]
    },
    {
     "data": {
      "text/plain": [
       "array(['Beef Stew: Cooked In A Red Ale Sauce (Served With: Beetroot Mash Potato)',\n",
       "       'Rhode Island Dynamites', 'Pasta Primavera',\n",
       "       'Honey Curry Sweet Potato Soup',\n",
       "       'Skillet-Popped Lentils With Parsley', \"Anthony'S Home Fries\",\n",
       "       'Warm SautéEd Lettuce Salad',\n",
       "       'Slow Cooker Bolognese Sauce With Pappardelle',\n",
       "       'Mahi-Mahi With Fresh Cilantro Chutney ', 'Microwave Meat Loaf'],\n",
       "      dtype=object)"
      ]
     },
     "execution_count": 40,
     "metadata": {},
     "output_type": "execute_result"
    }
   ],
   "source": [
    "recipe_recs_1_5 = closest_recipes('soup', idx_arr, recipes, probs_1_5)\n",
    "recipe_recs_1_5"
   ]
  },
  {
   "cell_type": "markdown",
   "metadata": {},
   "source": [
    "As far as the reference recipes vs the recommendations, it seems like vector 4 is best with model 1"
   ]
  },
  {
   "cell_type": "markdown",
   "metadata": {},
   "source": [
    "## 100 components, different vectors"
   ]
  },
  {
   "cell_type": "code",
   "execution_count": 41,
   "metadata": {},
   "outputs": [],
   "source": [
    "lda_model_5.fit(tf_vec1)\n",
    "lda_5_1_score = lda_model_5.score(tf_vec1_test)\n",
    "lda_5_1_perplexity = lda_model_5.perplexity(tf_vec1_test)\n",
    "scores.append(lda_5_1_score)\n",
    "perplexity.append(lda_5_1_perplexity)"
   ]
  },
  {
   "cell_type": "code",
   "execution_count": 42,
   "metadata": {},
   "outputs": [],
   "source": [
    "lda_model_5.fit(tf_vec2)\n",
    "lda_5_2_score = lda_model_5.score(tf_vec2_test)\n",
    "lda_5_2_perplexity = lda_model_5.perplexity(tf_vec2_test)\n",
    "scores.append(lda_5_2_score)\n",
    "perplexity.append(lda_5_2_perplexity)"
   ]
  },
  {
   "cell_type": "code",
   "execution_count": 43,
   "metadata": {},
   "outputs": [],
   "source": [
    "lda_model_5.fit(tf_vec3)\n",
    "lda_5_3_score = lda_model_5.score(tf_vec3_test)\n",
    "lda_5_3_perplexity = lda_model_5.perplexity(tf_vec3_test)\n",
    "scores.append(lda_5_3_score)\n",
    "perplexity.append(lda_5_3_perplexity)"
   ]
  },
  {
   "cell_type": "code",
   "execution_count": 44,
   "metadata": {},
   "outputs": [],
   "source": [
    "probs_5_3 = lda_model_5.transform(tf_vec_docs_3)"
   ]
  },
  {
   "cell_type": "code",
   "execution_count": 45,
   "metadata": {},
   "outputs": [],
   "source": [
    "lda_model_5.fit(tf_vec4)\n",
    "lda_5_4_score = lda_model_5.score(tf_vec4_test)\n",
    "lda_5_4_perplexity = lda_model_5.perplexity(tf_vec4_test)\n",
    "scores.append(lda_5_4_score)\n",
    "perplexity.append(lda_5_4_perplexity)"
   ]
  },
  {
   "cell_type": "code",
   "execution_count": 46,
   "metadata": {},
   "outputs": [],
   "source": [
    "probs_5_4 = lda_model_5.transform(tf_vec_docs_4)"
   ]
  },
  {
   "cell_type": "code",
   "execution_count": 47,
   "metadata": {},
   "outputs": [],
   "source": [
    "lda_model_5.fit(tf_vec5)\n",
    "lda_5_5_score = lda_model_5.score(tf_vec5_test)\n",
    "lda_5_5_perplexity = lda_model_5.perplexity(tf_vec5_test)\n",
    "scores.append(lda_5_5_score)\n",
    "perplexity.append(lda_5_5_perplexity)"
   ]
  },
  {
   "cell_type": "code",
   "execution_count": 48,
   "metadata": {},
   "outputs": [],
   "source": [
    "probs_5_5 = lda_model_5.transform(tf_vec_docs_5)"
   ]
  },
  {
   "cell_type": "code",
   "execution_count": 49,
   "metadata": {},
   "outputs": [
    {
     "data": {
      "text/plain": [
       "[-12027135.465714172,\n",
       " -12456079.923884975,\n",
       " -9382599.52883535,\n",
       " -12402075.44755314,\n",
       " -9327974.957934933,\n",
       " -12577878.13702911,\n",
       " -12994486.44426455,\n",
       " -9793605.775398783,\n",
       " -12973366.58722603,\n",
       " -9735078.064045765]"
      ]
     },
     "execution_count": 49,
     "metadata": {},
     "output_type": "execute_result"
    }
   ],
   "source": [
    "scores"
   ]
  },
  {
   "cell_type": "code",
   "execution_count": 50,
   "metadata": {},
   "outputs": [
    {
     "data": {
      "text/plain": [
       "[1740.4762450302935,\n",
       " 2179.9439005895233,\n",
       " 980.7957058221372,\n",
       " 2108.4882335267557,\n",
       " 932.7197356059606,\n",
       " 2449.4225891020606,\n",
       " 3039.118239336817,\n",
       " 1326.249167803426,\n",
       " 2999.764140608313,\n",
       " 1257.0737192507931]"
      ]
     },
     "execution_count": 50,
     "metadata": {},
     "output_type": "execute_result"
    }
   ],
   "source": [
    "perplexity"
   ]
  },
  {
   "cell_type": "code",
   "execution_count": 102,
   "metadata": {},
   "outputs": [
    {
     "name": "stdout",
     "output_type": "stream",
     "text": [
      "Top 10 recipes most closely related to vegetarian (reference recipe: Easy Slow Cooker Vegetarian Chili)\n"
     ]
    },
    {
     "data": {
      "text/plain": [
       "array(['Black Bean Chili', 'Turkey Chili', 'Three-Bean Turkey Chili ',\n",
       "       'Meatless Chili', 'Basil  Green Beans', 'Pinto Beans',\n",
       "       'Vegetarian Tortilla Stew', 'Rainy Day Bean Soup',\n",
       "       'White Chicken Chili', 'Creamy Red Beans'], dtype=object)"
      ]
     },
     "execution_count": 102,
     "metadata": {},
     "output_type": "execute_result"
    }
   ],
   "source": [
    "recipe_recs_5_3 = closest_recipes('vegetarian', idx_arr, recipes, probs_5_3)\n",
    "recipe_recs_5_3"
   ]
  },
  {
   "cell_type": "code",
   "execution_count": 103,
   "metadata": {},
   "outputs": [
    {
     "name": "stdout",
     "output_type": "stream",
     "text": [
      "Top 10 recipes most closely related to vegetarian (reference recipe: Easy Slow Cooker Vegetarian Chili)\n"
     ]
    },
    {
     "data": {
      "text/plain": [
       "array(['Cincinnati Chili', \"Karen'S Philly Chili\",\n",
       "       'Slow Cooker Sweet Potato Veggie Chili', 'Chili',\n",
       "       'Hearty Chili With A Twist', 'Homemade Chili', 'Quick Chili Ii',\n",
       "       'Rancho De Chili', 'Tuxedo Chili', 'Chili Bean Dip'], dtype=object)"
      ]
     },
     "execution_count": 103,
     "metadata": {},
     "output_type": "execute_result"
    }
   ],
   "source": [
    "recipe_recs_5_4 = closest_recipes('vegetarian', idx_arr, recipes, probs_5_4)\n",
    "recipe_recs_5_4"
   ]
  },
  {
   "cell_type": "code",
   "execution_count": 104,
   "metadata": {},
   "outputs": [
    {
     "name": "stdout",
     "output_type": "stream",
     "text": [
      "Top 10 recipes most closely related to vegetarian (reference recipe: Easy Slow Cooker Vegetarian Chili)\n"
     ]
    },
    {
     "data": {
      "text/plain": [
       "array(['Confetti Bean Salad', 'Chili For 25 People', 'Texas Chili',\n",
       "       'Louisiana Hayride Kitchen Bean Soup',\n",
       "       '“Boo”Rrific Black Bean Dip With Chips', 'Hash Browns Beef Pie',\n",
       "       'Easy Three Bean Vegetable Chili ',\n",
       "       'County Line Fire Department Chili(Approximately 15 Gallon Pot)  ',\n",
       "       'Copper Carrot Salad', 'Rocky Mountain Campfire Chili'],\n",
       "      dtype=object)"
      ]
     },
     "execution_count": 104,
     "metadata": {},
     "output_type": "execute_result"
    }
   ],
   "source": [
    "recipe_recs_5_5 = closest_recipes('vegetarian', idx_arr, recipes, probs_5_5)\n",
    "recipe_recs_5_5"
   ]
  },
  {
   "cell_type": "markdown",
   "metadata": {},
   "source": [
    "difficult to tell if any of these perform better than the others. The scores suggest vector 5 with model 5"
   ]
  },
  {
   "cell_type": "markdown",
   "metadata": {},
   "source": [
    "## Batch size 32, learning offset 20"
   ]
  },
  {
   "cell_type": "code",
   "execution_count": 54,
   "metadata": {},
   "outputs": [],
   "source": [
    "lda_model_6.fit(tf_vec3)\n",
    "lda_6_3_score = lda_model_6.score(tf_vec3_test)\n",
    "lda_6_3_perplexity = lda_model_6.perplexity(tf_vec3_test)\n",
    "scores.append(lda_6_3_score)\n",
    "perplexity.append(lda_6_3_perplexity)"
   ]
  },
  {
   "cell_type": "code",
   "execution_count": 55,
   "metadata": {},
   "outputs": [],
   "source": [
    "probs_6_3 = lda_model_6.transform(tf_vec_docs_3)"
   ]
  },
  {
   "cell_type": "code",
   "execution_count": 56,
   "metadata": {},
   "outputs": [],
   "source": [
    "lda_model_6.fit(tf_vec4)\n",
    "lda_6_4_score = lda_model_6.score(tf_vec4_test)\n",
    "lda_6_4_perplexity = lda_model_6.perplexity(tf_vec4_test)\n",
    "scores.append(lda_6_4_score)\n",
    "perplexity.append(lda_6_4_perplexity)"
   ]
  },
  {
   "cell_type": "code",
   "execution_count": 57,
   "metadata": {},
   "outputs": [],
   "source": [
    "probs_6_4 = lda_model_6.transform(tf_vec_docs_4)"
   ]
  },
  {
   "cell_type": "code",
   "execution_count": 58,
   "metadata": {},
   "outputs": [],
   "source": [
    "lda_model_6.fit(tf_vec5)\n",
    "lda_6_5_score = lda_model_6.score(tf_vec5_test)\n",
    "lda_6_5_perplexity = lda_model_6.perplexity(tf_vec5_test)\n",
    "scores.append(lda_6_5_score)\n",
    "perplexity.append(lda_6_5_perplexity)"
   ]
  },
  {
   "cell_type": "code",
   "execution_count": 59,
   "metadata": {},
   "outputs": [],
   "source": [
    "probs_6_5 = lda_model_6.transform(tf_vec_docs_5)"
   ]
  },
  {
   "cell_type": "code",
   "execution_count": 60,
   "metadata": {},
   "outputs": [
    {
     "data": {
      "text/plain": [
       "[-12027135.465714172,\n",
       " -12456079.923884975,\n",
       " -9382599.52883535,\n",
       " -12402075.44755314,\n",
       " -9327974.957934933,\n",
       " -12577878.13702911,\n",
       " -12994486.44426455,\n",
       " -9793605.775398783,\n",
       " -12973366.58722603,\n",
       " -9735078.064045765,\n",
       " -9808079.699480746,\n",
       " -12974609.413827132,\n",
       " -9810971.804809965]"
      ]
     },
     "execution_count": 60,
     "metadata": {},
     "output_type": "execute_result"
    }
   ],
   "source": [
    "scores"
   ]
  },
  {
   "cell_type": "code",
   "execution_count": 61,
   "metadata": {},
   "outputs": [
    {
     "data": {
      "text/plain": [
       "[1740.4762450302935,\n",
       " 2179.9439005895233,\n",
       " 980.7957058221372,\n",
       " 2108.4882335267557,\n",
       " 932.7197356059606,\n",
       " 2449.4225891020606,\n",
       " 3039.118239336817,\n",
       " 1326.249167803426,\n",
       " 2999.764140608313,\n",
       " 1257.0737192507931,\n",
       " 1340.4173402662823,\n",
       " 3002.06580913497,\n",
       " 1328.9941461182484]"
      ]
     },
     "execution_count": 61,
     "metadata": {},
     "output_type": "execute_result"
    }
   ],
   "source": [
    "perplexity"
   ]
  },
  {
   "cell_type": "code",
   "execution_count": 105,
   "metadata": {},
   "outputs": [
    {
     "name": "stdout",
     "output_type": "stream",
     "text": [
      "Top 10 recipes most closely related to peanut (reference recipe: Peanut Butter Fudge)\n"
     ]
    },
    {
     "data": {
      "text/plain": [
       "array(['No Bake Cookies', 'Peanut Butter Fudge',\n",
       "       \"Pat'S Chocolate Nut Chews\", 'Peanut Butter Krispie Treats',\n",
       "       'Puppy Pile Cookies', 'Peanut Butter Candy', 'No Bake Cookies',\n",
       "       'No-Bake Peanut Butter Treats', 'Peanut Butter Candy',\n",
       "       \"Don'T Bake Oat Cookies\"], dtype=object)"
      ]
     },
     "execution_count": 105,
     "metadata": {},
     "output_type": "execute_result"
    }
   ],
   "source": [
    "recipe_recs_6_3 = closest_recipes('peanut', idx_arr, recipes, probs_6_3)\n",
    "recipe_recs_6_3"
   ]
  },
  {
   "cell_type": "code",
   "execution_count": 106,
   "metadata": {},
   "outputs": [
    {
     "name": "stdout",
     "output_type": "stream",
     "text": [
      "Top 10 recipes most closely related to peanut (reference recipe: Peanut Butter Fudge)\n"
     ]
    },
    {
     "data": {
      "text/plain": [
       "array(['Almond Roca', 'Caramels', 'Peanut Butter Fudge', 'Peanut Brittle',\n",
       "       'Caramel Dip', 'Peanut Brittle', 'Peanut Butter Fudge',\n",
       "       'Peanut Butter Sauce', 'Caramels Ii', 'Caramel Sauce'],\n",
       "      dtype=object)"
      ]
     },
     "execution_count": 106,
     "metadata": {},
     "output_type": "execute_result"
    }
   ],
   "source": [
    "recipe_recs_6_4 = closest_recipes('peanut', idx_arr, recipes, probs_6_4)\n",
    "recipe_recs_6_4"
   ]
  },
  {
   "cell_type": "code",
   "execution_count": 107,
   "metadata": {},
   "outputs": [
    {
     "name": "stdout",
     "output_type": "stream",
     "text": [
      "Top 10 recipes most closely related to peanut (reference recipe: Peanut Butter Fudge)\n"
     ]
    },
    {
     "data": {
      "text/plain": [
       "array(['Peanut Butter Fudge(Easy-No Testing)  ', 'Peanut Butter Candy',\n",
       "       'Peanut Butter Crispies', 'Peanut Butter Fudge',\n",
       "       'Easy Creamy Peanut Butter Fudge', 'Peanut Butter Bars',\n",
       "       'Peanut Butter Fudge', 'Peanut Butter Candy',\n",
       "       'Peanut Butter Fudge', 'No-Bake Peanut Butter Treats'],\n",
       "      dtype=object)"
      ]
     },
     "execution_count": 107,
     "metadata": {},
     "output_type": "execute_result"
    }
   ],
   "source": [
    "recipe_recs_6_5 = closest_recipes('peanut', idx_arr, recipes, probs_6_5)\n",
    "recipe_recs_6_5"
   ]
  },
  {
   "cell_type": "markdown",
   "metadata": {},
   "source": [
    "seems vector 5 with model 6 is performing the best"
   ]
  },
  {
   "cell_type": "markdown",
   "metadata": {},
   "source": [
    "## Doc_topic_prior=0.9, Topic_word_prior=0.9"
   ]
  },
  {
   "cell_type": "code",
   "execution_count": 65,
   "metadata": {},
   "outputs": [],
   "source": [
    "lda_model_7.fit(tf_vec3)\n",
    "lda_7_3_score = lda_model_7.score(tf_vec3_test)\n",
    "lda_7_3_perplexity = lda_model_7.perplexity(tf_vec3_test)\n",
    "scores.append(lda_7_3_score)\n",
    "perplexity.append(lda_7_3_perplexity)"
   ]
  },
  {
   "cell_type": "code",
   "execution_count": 66,
   "metadata": {},
   "outputs": [],
   "source": [
    "probs_7_3 = lda_model_7.transform(tf_vec_docs_3)"
   ]
  },
  {
   "cell_type": "code",
   "execution_count": 67,
   "metadata": {},
   "outputs": [],
   "source": [
    "lda_model_7.fit(tf_vec4)\n",
    "lda_7_4_score = lda_model_7.score(tf_vec4_test)\n",
    "lda_7_4_perplexity = lda_model_7.perplexity(tf_vec4_test)\n",
    "scores.append(lda_7_4_score)\n",
    "perplexity.append(lda_7_4_perplexity)"
   ]
  },
  {
   "cell_type": "code",
   "execution_count": 68,
   "metadata": {},
   "outputs": [],
   "source": [
    "probs_7_4 = lda_model_7.transform(tf_vec_docs_4)"
   ]
  },
  {
   "cell_type": "code",
   "execution_count": 69,
   "metadata": {},
   "outputs": [],
   "source": [
    "lda_model_7.fit(tf_vec5)\n",
    "lda_7_5_score = lda_model_7.score(tf_vec5_test)\n",
    "lda_7_5_perplexity = lda_model_7.perplexity(tf_vec5_test)\n",
    "scores.append(lda_7_5_score)\n",
    "perplexity.append(lda_7_5_perplexity)"
   ]
  },
  {
   "cell_type": "code",
   "execution_count": 70,
   "metadata": {},
   "outputs": [],
   "source": [
    "probs_7_5 = lda_model_7.transform(tf_vec_docs_5)"
   ]
  },
  {
   "cell_type": "code",
   "execution_count": 71,
   "metadata": {},
   "outputs": [
    {
     "data": {
      "text/plain": [
       "[-12027135.465714172,\n",
       " -12456079.923884975,\n",
       " -9382599.52883535,\n",
       " -12402075.44755314,\n",
       " -9327974.957934933,\n",
       " -12577878.13702911,\n",
       " -12994486.44426455,\n",
       " -9793605.775398783,\n",
       " -12973366.58722603,\n",
       " -9735078.064045765,\n",
       " -9808079.699480746,\n",
       " -12974609.413827132,\n",
       " -9810971.804809965,\n",
       " -8999288.419902148,\n",
       " -12073825.721404508,\n",
       " -8923457.727239478]"
      ]
     },
     "execution_count": 71,
     "metadata": {},
     "output_type": "execute_result"
    }
   ],
   "source": [
    "scores"
   ]
  },
  {
   "cell_type": "code",
   "execution_count": 72,
   "metadata": {},
   "outputs": [
    {
     "data": {
      "text/plain": [
       "[1740.4762450302935,\n",
       " 2179.9439005895233,\n",
       " 980.7957058221372,\n",
       " 2108.4882335267557,\n",
       " 932.7197356059606,\n",
       " 2449.4225891020606,\n",
       " 3039.118239336817,\n",
       " 1326.249167803426,\n",
       " 2999.764140608313,\n",
       " 1257.0737192507931,\n",
       " 1340.4173402662823,\n",
       " 3002.06580913497,\n",
       " 1328.9941461182484,\n",
       " 740.2226924919784,\n",
       " 1721.8470294636306,\n",
       " 693.3696877854078]"
      ]
     },
     "execution_count": 72,
     "metadata": {},
     "output_type": "execute_result"
    }
   ],
   "source": [
    "perplexity"
   ]
  },
  {
   "cell_type": "code",
   "execution_count": 108,
   "metadata": {},
   "outputs": [
    {
     "name": "stdout",
     "output_type": "stream",
     "text": [
      "Top 10 recipes most closely related to fried chicken (reference recipe: Franjo Piri Piri (Fried Chicken With Piri Piri Sauce) )\n"
     ]
    },
    {
     "data": {
      "text/plain": [
       "array(['Crock-Pot Fajitas', 'Chicken And Noodles', 'Mustard Chicken',\n",
       "       'Rocky Mount, Nc Bbq Chicken (Sandwiches)',\n",
       "       'Drunk Chicken Soak Mixture ', 'Chicken Spaghetti',\n",
       "       'Healthy Chicken And Noodles Soup', 'Chicken Fajitas',\n",
       "       'White Barbecue Sauce', 'Barbecue Chicken'], dtype=object)"
      ]
     },
     "execution_count": 108,
     "metadata": {},
     "output_type": "execute_result"
    }
   ],
   "source": [
    "recipe_recs_7_3 = closest_recipes('fried chicken', idx_arr, recipes, probs_7_3)\n",
    "recipe_recs_7_3"
   ]
  },
  {
   "cell_type": "code",
   "execution_count": 109,
   "metadata": {},
   "outputs": [
    {
     "name": "stdout",
     "output_type": "stream",
     "text": [
      "Top 10 recipes most closely related to fried chicken (reference recipe: Franjo Piri Piri (Fried Chicken With Piri Piri Sauce) )\n"
     ]
    },
    {
     "data": {
      "text/plain": [
       "array(['Barbecue Chicken', 'Barbecue Chicken',\n",
       "       'Old West Barbecued Chicken', 'Chicken Casserole',\n",
       "       \"Mike'S Favorite Chicken Recipe\", 'Chicken In Oil',\n",
       "       \"Better 'N Fried Chicken\", 'Old Time Dressing',\n",
       "       'Barbecued Chicken', 'Chicken Wings(12 To 16 Wings)  '],\n",
       "      dtype=object)"
      ]
     },
     "execution_count": 109,
     "metadata": {},
     "output_type": "execute_result"
    }
   ],
   "source": [
    "recipe_recs_7_4 = closest_recipes('fried chicken', idx_arr, recipes, probs_7_4)\n",
    "recipe_recs_7_4"
   ]
  },
  {
   "cell_type": "code",
   "execution_count": 110,
   "metadata": {},
   "outputs": [
    {
     "name": "stdout",
     "output_type": "stream",
     "text": [
      "Top 10 recipes most closely related to fried chicken (reference recipe: Franjo Piri Piri (Fried Chicken With Piri Piri Sauce) )\n"
     ]
    },
    {
     "data": {
      "text/plain": [
       "array([\"Henry'S Grilled Chicken\", 'Mustard Marinade Sauce',\n",
       "       'Barbecue Chicken', 'Barbecue Sauce', 'Curry Paste For Meat',\n",
       "       'Saskatchewan Dry Beef Rub',\n",
       "       'Tandoori Chicken Kebabs With Cucumber Radish Salad',\n",
       "       'Grilled Blue Grass Chicken ', 'North Carolina Barbecue Sauce',\n",
       "       'Chicken In Mushroom Gravy'], dtype=object)"
      ]
     },
     "execution_count": 110,
     "metadata": {},
     "output_type": "execute_result"
    }
   ],
   "source": [
    "recipe_recs_7_5 = closest_recipes('fried chicken', idx_arr, recipes, probs_7_5)\n",
    "recipe_recs_7_5"
   ]
  },
  {
   "cell_type": "markdown",
   "metadata": {},
   "source": [
    "Seems like vec 5 is picking up more on the Piri Piri side of things, but vec 4 did well in terms of fried chicken"
   ]
  },
  {
   "cell_type": "markdown",
   "metadata": {},
   "source": [
    "## Learning offset to 50"
   ]
  },
  {
   "cell_type": "code",
   "execution_count": 76,
   "metadata": {},
   "outputs": [],
   "source": [
    "lda_model_8.fit(tf_vec3)\n",
    "lda_8_3_score = lda_model_8.score(tf_vec3_test)\n",
    "lda_8_3_perplexity = lda_model_8.perplexity(tf_vec3_test)\n",
    "scores.append(lda_8_3_score)\n",
    "perplexity.append(lda_8_3_perplexity)"
   ]
  },
  {
   "cell_type": "code",
   "execution_count": 77,
   "metadata": {},
   "outputs": [],
   "source": [
    "probs_8_3 = lda_model_8.transform(tf_vec_docs_3)"
   ]
  },
  {
   "cell_type": "code",
   "execution_count": 78,
   "metadata": {},
   "outputs": [],
   "source": [
    "lda_model_8.fit(tf_vec4)\n",
    "lda_8_4_score = lda_model_8.score(tf_vec4_test)\n",
    "lda_8_4_perplexity = lda_model_8.perplexity(tf_vec4_test)\n",
    "scores.append(lda_8_4_score)\n",
    "perplexity.append(lda_8_4_perplexity)"
   ]
  },
  {
   "cell_type": "code",
   "execution_count": 79,
   "metadata": {},
   "outputs": [],
   "source": [
    "probs_8_4 = lda_model_8.transform(tf_vec_docs_4)"
   ]
  },
  {
   "cell_type": "code",
   "execution_count": 80,
   "metadata": {},
   "outputs": [],
   "source": [
    "lda_model_8.fit(tf_vec5)\n",
    "lda_8_5_score = lda_model_8.score(tf_vec5_test)\n",
    "lda_8_5_perplexity = lda_model_8.perplexity(tf_vec5_test)\n",
    "scores.append(lda_8_5_score)\n",
    "perplexity.append(lda_8_5_perplexity)"
   ]
  },
  {
   "cell_type": "code",
   "execution_count": 81,
   "metadata": {},
   "outputs": [],
   "source": [
    "probs_8_5 = lda_model_8.transform(tf_vec_docs_5)"
   ]
  },
  {
   "cell_type": "code",
   "execution_count": 82,
   "metadata": {},
   "outputs": [
    {
     "name": "stdout",
     "output_type": "stream",
     "text": [
      "Top 10 recipes most closely related to chicken noodle soup (reference recipe: Quick Hearty Chicken Noodle Soup)\n"
     ]
    },
    {
     "data": {
      "text/plain": [
       "array(['Approximate Chicken Noodle Soup ',\n",
       "       'Easy Swanson Chicken Noodle Soup',\n",
       "       \"Hedda'S Chicken(Or Turkey) And Rice Soup\",\n",
       "       'After Thanksgiving Turkey Soup',\n",
       "       'Old Fashioned Chicken Noodle Soup',\n",
       "       'Vegetarian \"Chicken\" Noodle Soup',\n",
       "       'Kale And Chicken Soup For Two', 'Chicken, Corn, And Potato Stew',\n",
       "       'Chicken Stew', 'Chicken My Way'], dtype=object)"
      ]
     },
     "execution_count": 82,
     "metadata": {},
     "output_type": "execute_result"
    }
   ],
   "source": [
    "recipe_recs_8_3 = closest_recipes('chicken noodle soup', idx_arr, recipes, probs_8_3)\n",
    "recipe_recs_8_3"
   ]
  },
  {
   "cell_type": "code",
   "execution_count": 83,
   "metadata": {},
   "outputs": [
    {
     "name": "stdout",
     "output_type": "stream",
     "text": [
      "Top 10 recipes most closely related to chicken noodle soup (reference recipe: Quick Hearty Chicken Noodle Soup)\n"
     ]
    },
    {
     "data": {
      "text/plain": [
       "array(['Homemade Chicken Pot Pies', 'Chicken Soup With Barley',\n",
       "       'Homemade Chicken Noodle Soup',\n",
       "       'Old Fashioned Chicken Noodle Soup', 'Latin Lime Chicken Stir-Fry',\n",
       "       'Honey-Glazed Chicken Breasts', 'Chicken Noodle Soup',\n",
       "       'The Best Chicken Noodle Soup Ever',\n",
       "       'Roast Chicken With Mushroom-Barley Stuffing',\n",
       "       'Chicken, Vegetables, And Pasta Soup'], dtype=object)"
      ]
     },
     "execution_count": 83,
     "metadata": {},
     "output_type": "execute_result"
    }
   ],
   "source": [
    "recipe_recs_8_4 = closest_recipes('chicken noodle soup', idx_arr, recipes, probs_8_4)\n",
    "recipe_recs_8_4"
   ]
  },
  {
   "cell_type": "code",
   "execution_count": 84,
   "metadata": {},
   "outputs": [
    {
     "name": "stdout",
     "output_type": "stream",
     "text": [
      "Top 10 recipes most closely related to chicken noodle soup (reference recipe: Quick Hearty Chicken Noodle Soup)\n"
     ]
    },
    {
     "data": {
      "text/plain": [
       "array(['Pepper Pot Soup', \"Hedda'S Chicken(Or Turkey) And Rice Soup\",\n",
       "       'Maryland Crab Soup', 'Potato-Cheddar Soup', 'Cheese Soup',\n",
       "       'Chicken And Corn Soup With Chile-Mint Salsa ',\n",
       "       'Meatless Vegetable Soup',\n",
       "       'Mexican Chicken Soup With Garbanzo Beans (Caldo Tlalpeno)',\n",
       "       'Quick Chicken Noodle Soup', 'Minestrone Soup'], dtype=object)"
      ]
     },
     "execution_count": 84,
     "metadata": {},
     "output_type": "execute_result"
    }
   ],
   "source": [
    "recipe_recs_8_5 = closest_recipes('chicken noodle soup', idx_arr, recipes, probs_8_5)\n",
    "recipe_recs_8_5"
   ]
  },
  {
   "cell_type": "code",
   "execution_count": 85,
   "metadata": {},
   "outputs": [
    {
     "data": {
      "text/plain": [
       "[-12027135.465714172,\n",
       " -12456079.923884975,\n",
       " -9382599.52883535,\n",
       " -12402075.44755314,\n",
       " -9327974.957934933,\n",
       " -12577878.13702911,\n",
       " -12994486.44426455,\n",
       " -9793605.775398783,\n",
       " -12973366.58722603,\n",
       " -9735078.064045765,\n",
       " -9808079.699480746,\n",
       " -12974609.413827132,\n",
       " -9810971.804809965,\n",
       " -8999288.419902148,\n",
       " -12073825.721404508,\n",
       " -8923457.727239478,\n",
       " -9014339.62780945,\n",
       " -12090345.298767105,\n",
       " -8955270.975217592]"
      ]
     },
     "execution_count": 85,
     "metadata": {},
     "output_type": "execute_result"
    }
   ],
   "source": [
    "scores"
   ]
  },
  {
   "cell_type": "code",
   "execution_count": 86,
   "metadata": {},
   "outputs": [
    {
     "data": {
      "text/plain": [
       "[1740.4762450302935,\n",
       " 2179.9439005895233,\n",
       " 980.7957058221372,\n",
       " 2108.4882335267557,\n",
       " 932.7197356059606,\n",
       " 2449.4225891020606,\n",
       " 3039.118239336817,\n",
       " 1326.249167803426,\n",
       " 2999.764140608313,\n",
       " 1257.0737192507931,\n",
       " 1340.4173402662823,\n",
       " 3002.06580913497,\n",
       " 1328.9941461182484,\n",
       " 740.2226924919784,\n",
       " 1721.8470294636306,\n",
       " 693.3696877854078,\n",
       " 748.4475497091934,\n",
       " 1739.490650237416,\n",
       " 709.7301391589017]"
      ]
     },
     "execution_count": 86,
     "metadata": {},
     "output_type": "execute_result"
    }
   ],
   "source": [
    "perplexity"
   ]
  },
  {
   "cell_type": "markdown",
   "metadata": {},
   "source": [
    "Looks like 500 max features, n_grams of 1,3,  gives best scores and results make sense more or less for one sample. "
   ]
  },
  {
   "cell_type": "code",
   "execution_count": null,
   "metadata": {},
   "outputs": [],
   "source": []
  }
 ],
 "metadata": {
  "kernelspec": {
   "display_name": "Python 3",
   "language": "python",
   "name": "python3"
  },
  "language_info": {
   "codemirror_mode": {
    "name": "ipython",
    "version": 3
   },
   "file_extension": ".py",
   "mimetype": "text/x-python",
   "name": "python",
   "nbconvert_exporter": "python",
   "pygments_lexer": "ipython3",
   "version": "3.8.6"
  }
 },
 "nbformat": 4,
 "nbformat_minor": 4
}
