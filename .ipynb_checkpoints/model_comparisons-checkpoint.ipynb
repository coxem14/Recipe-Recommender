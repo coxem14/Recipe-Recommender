{
 "cells": [
  {
   "cell_type": "code",
   "execution_count": 1,
   "metadata": {},
   "outputs": [],
   "source": [
    "import pickle\n",
    "import pandas as pd\n",
    "import numpy as np\n",
    "from sklearn.metrics.pairwise import cosine_distances\n",
    "import joblib\n",
    "from sklearn.feature_extraction.text import CountVectorizer\n",
    "from sklearn.model_selection import train_test_split"
   ]
  },
  {
   "cell_type": "code",
   "execution_count": 2,
   "metadata": {},
   "outputs": [],
   "source": [
    "with open('./dataframes/full_data_clean_df_pickle4.pkl', 'rb') as f:\n",
    "    df = pickle.load(f)"
   ]
  },
  {
   "cell_type": "code",
   "execution_count": 3,
   "metadata": {},
   "outputs": [
    {
     "data": {
      "text/html": [
       "<div>\n",
       "<style scoped>\n",
       "    .dataframe tbody tr th:only-of-type {\n",
       "        vertical-align: middle;\n",
       "    }\n",
       "\n",
       "    .dataframe tbody tr th {\n",
       "        vertical-align: top;\n",
       "    }\n",
       "\n",
       "    .dataframe thead th {\n",
       "        text-align: right;\n",
       "    }\n",
       "</style>\n",
       "<table border=\"1\" class=\"dataframe\">\n",
       "  <thead>\n",
       "    <tr style=\"text-align: right;\">\n",
       "      <th></th>\n",
       "      <th>Unnamed: 0</th>\n",
       "      <th>title</th>\n",
       "      <th>NER</th>\n",
       "      <th>site</th>\n",
       "      <th>urls</th>\n",
       "      <th>bag_of_words</th>\n",
       "      <th>cleaned_bow</th>\n",
       "    </tr>\n",
       "  </thead>\n",
       "  <tbody>\n",
       "    <tr>\n",
       "      <th>0</th>\n",
       "      <td>0</td>\n",
       "      <td>No-Bake Nut Cookies</td>\n",
       "      <td>[brown sugar, milk, vanilla, nuts, butter, bit...</td>\n",
       "      <td>www.cookbooks.com</td>\n",
       "      <td>http://www.cookbooks.com/Recipe-Details.aspx?i...</td>\n",
       "      <td>No-Bake Nut Cookies 1 c. firmly packed brown s...</td>\n",
       "      <td>no-bak nut cooki 1 firmli pack brown sugar 1/2...</td>\n",
       "    </tr>\n",
       "    <tr>\n",
       "      <th>1</th>\n",
       "      <td>1</td>\n",
       "      <td>Jewell Ball'S Chicken</td>\n",
       "      <td>[beef, chicken breasts, cream of mushroom soup...</td>\n",
       "      <td>www.cookbooks.com</td>\n",
       "      <td>http://www.cookbooks.com/Recipe-Details.aspx?i...</td>\n",
       "      <td>Jewell Ball'S Chicken 1 small jar chipped beef...</td>\n",
       "      <td>jewel ball 's chicken 1 small jar chip beef cu...</td>\n",
       "    </tr>\n",
       "    <tr>\n",
       "      <th>2</th>\n",
       "      <td>2</td>\n",
       "      <td>Creamy Corn</td>\n",
       "      <td>[frozen corn, cream cheese, butter, garlic pow...</td>\n",
       "      <td>www.cookbooks.com</td>\n",
       "      <td>http://www.cookbooks.com/Recipe-Details.aspx?i...</td>\n",
       "      <td>Creamy Corn 2 (16 oz.) pkg. frozen corn 1 (8 o...</td>\n",
       "      <td>creami corn 2 16 pkg frozen corn 1 8 pkg cream...</td>\n",
       "    </tr>\n",
       "    <tr>\n",
       "      <th>3</th>\n",
       "      <td>3</td>\n",
       "      <td>Chicken Funny</td>\n",
       "      <td>[chicken, chicken gravy, cream of mushroom sou...</td>\n",
       "      <td>www.cookbooks.com</td>\n",
       "      <td>http://www.cookbooks.com/Recipe-Details.aspx?i...</td>\n",
       "      <td>Chicken Funny 1 large whole chicken 2 (10 1/2 ...</td>\n",
       "      <td>chicken funni 1 larg whole chicken 2 10 1/2 ca...</td>\n",
       "    </tr>\n",
       "    <tr>\n",
       "      <th>4</th>\n",
       "      <td>4</td>\n",
       "      <td>Reeses Cups(Candy)</td>\n",
       "      <td>[peanut butter, graham cracker crumbs, butter,...</td>\n",
       "      <td>www.cookbooks.com</td>\n",
       "      <td>http://www.cookbooks.com/Recipe-Details.aspx?i...</td>\n",
       "      <td>Reeses Cups(Candy)   1 c. peanut butter 3/4 c....</td>\n",
       "      <td>rees cup candi 1 peanut butter 3/4 graham crac...</td>\n",
       "    </tr>\n",
       "  </tbody>\n",
       "</table>\n",
       "</div>"
      ],
      "text/plain": [
       "   Unnamed: 0                  title  \\\n",
       "0           0    No-Bake Nut Cookies   \n",
       "1           1  Jewell Ball'S Chicken   \n",
       "2           2            Creamy Corn   \n",
       "3           3          Chicken Funny   \n",
       "4           4   Reeses Cups(Candy)     \n",
       "\n",
       "                                                 NER               site  \\\n",
       "0  [brown sugar, milk, vanilla, nuts, butter, bit...  www.cookbooks.com   \n",
       "1  [beef, chicken breasts, cream of mushroom soup...  www.cookbooks.com   \n",
       "2  [frozen corn, cream cheese, butter, garlic pow...  www.cookbooks.com   \n",
       "3  [chicken, chicken gravy, cream of mushroom sou...  www.cookbooks.com   \n",
       "4  [peanut butter, graham cracker crumbs, butter,...  www.cookbooks.com   \n",
       "\n",
       "                                                urls  \\\n",
       "0  http://www.cookbooks.com/Recipe-Details.aspx?i...   \n",
       "1  http://www.cookbooks.com/Recipe-Details.aspx?i...   \n",
       "2  http://www.cookbooks.com/Recipe-Details.aspx?i...   \n",
       "3  http://www.cookbooks.com/Recipe-Details.aspx?i...   \n",
       "4  http://www.cookbooks.com/Recipe-Details.aspx?i...   \n",
       "\n",
       "                                        bag_of_words  \\\n",
       "0  No-Bake Nut Cookies 1 c. firmly packed brown s...   \n",
       "1  Jewell Ball'S Chicken 1 small jar chipped beef...   \n",
       "2  Creamy Corn 2 (16 oz.) pkg. frozen corn 1 (8 o...   \n",
       "3  Chicken Funny 1 large whole chicken 2 (10 1/2 ...   \n",
       "4  Reeses Cups(Candy)   1 c. peanut butter 3/4 c....   \n",
       "\n",
       "                                         cleaned_bow  \n",
       "0  no-bak nut cooki 1 firmli pack brown sugar 1/2...  \n",
       "1  jewel ball 's chicken 1 small jar chip beef cu...  \n",
       "2  creami corn 2 16 pkg frozen corn 1 8 pkg cream...  \n",
       "3  chicken funni 1 larg whole chicken 2 10 1/2 ca...  \n",
       "4  rees cup candi 1 peanut butter 3/4 graham crac...  "
      ]
     },
     "execution_count": 3,
     "metadata": {},
     "output_type": "execute_result"
    }
   ],
   "source": [
    "df.head()"
   ]
  },
  {
   "cell_type": "code",
   "execution_count": 4,
   "metadata": {},
   "outputs": [
    {
     "name": "stdout",
     "output_type": "stream",
     "text": [
      "<class 'pandas.core.frame.DataFrame'>\n",
      "Int64Index: 1643098 entries, 0 to 1643097\n",
      "Data columns (total 7 columns):\n",
      " #   Column        Non-Null Count    Dtype \n",
      "---  ------        --------------    ----- \n",
      " 0   Unnamed: 0    1643098 non-null  int64 \n",
      " 1   title         1643098 non-null  object\n",
      " 2   NER           1643098 non-null  object\n",
      " 3   site          1643098 non-null  object\n",
      " 4   urls          1643098 non-null  object\n",
      " 5   bag_of_words  1643098 non-null  object\n",
      " 6   cleaned_bow   1643098 non-null  object\n",
      "dtypes: int64(1), object(6)\n",
      "memory usage: 100.3+ MB\n"
     ]
    }
   ],
   "source": [
    "df.info()"
   ]
  },
  {
   "cell_type": "code",
   "execution_count": 5,
   "metadata": {},
   "outputs": [],
   "source": [
    "df_subset = df.sample(frac=0.05, replace=False)"
   ]
  },
  {
   "cell_type": "code",
   "execution_count": 6,
   "metadata": {},
   "outputs": [],
   "source": [
    "docs_cleaned = df_subset['cleaned_bow']"
   ]
  },
  {
   "cell_type": "code",
   "execution_count": 7,
   "metadata": {},
   "outputs": [],
   "source": [
    "docs_train, docs_test = train_test_split(docs_cleaned)"
   ]
  },
  {
   "cell_type": "code",
   "execution_count": 8,
   "metadata": {},
   "outputs": [],
   "source": [
    "lda_model_1 = joblib.load('./models/lda_model.joblib')\n",
    "lda_model_2 = joblib.load('./models/lda_model_1_tid.joblib')\n",
    "lda_model_3 = joblib.load('./models/lda_model_2_tdn.joblib')\n",
    "lda_model_4 = joblib.load('./models/lda_model_2_tid.joblib')\n",
    "lda_model_5 = joblib.load('./models/lda_model_3_tid.joblib')\n",
    "lda_model_6 = joblib.load('./models/lda_model_4_tid.joblib')\n",
    "lda_model_7 = joblib.load('./models/lda_model_5_tid.joblib')\n",
    "lda_model_8 = joblib.load('./models/lda_model_6_tid.joblib')\n",
    "lda_model_8 = joblib.load('./models/lda_model_6_tid_pickle4.joblib')\n",
    "lda_model_9 = joblib.load('./models/lda_model_full_tid_pickle4.joblib')"
   ]
  },
  {
   "cell_type": "code",
   "execution_count": 9,
   "metadata": {},
   "outputs": [],
   "source": [
    "models = [lda_model_1, lda_model_2, lda_model_3, lda_model_4, lda_model_5, lda_model_6, lda_model_7, lda_model_8, lda_model_9]"
   ]
  },
  {
   "cell_type": "code",
   "execution_count": 10,
   "metadata": {},
   "outputs": [
    {
     "name": "stdout",
     "output_type": "stream",
     "text": [
      "Model: 1\n",
      "\n",
      "Parameters:{'batch_size': 128, 'doc_topic_prior': None, 'evaluate_every': -1, 'learning_decay': 0.7, 'learning_method': 'online', 'learning_offset': 10.0, 'max_doc_update_iter': 100, 'max_iter': 10, 'mean_change_tol': 0.001, 'n_components': 30, 'n_jobs': -1, 'perp_tol': 0.1, 'random_state': None, 'topic_word_prior': None, 'total_samples': 1000000.0, 'verbose': 0}\n",
      "\n",
      "Model: 2\n",
      "\n",
      "Parameters:{'batch_size': 128, 'doc_topic_prior': None, 'evaluate_every': -1, 'learning_decay': 0.7, 'learning_method': 'online', 'learning_offset': 10.0, 'max_doc_update_iter': 100, 'max_iter': 10, 'mean_change_tol': 0.001, 'n_components': 30, 'n_jobs': -1, 'perp_tol': 0.1, 'random_state': None, 'topic_word_prior': None, 'total_samples': 1000000.0, 'verbose': 0}\n",
      "\n",
      "Model: 3\n",
      "\n",
      "Parameters:{'batch_size': 128, 'doc_topic_prior': None, 'evaluate_every': -1, 'learning_decay': 0.7, 'learning_method': 'online', 'learning_offset': 10.0, 'max_doc_update_iter': 100, 'max_iter': 10, 'mean_change_tol': 0.001, 'n_components': 30, 'n_jobs': -1, 'perp_tol': 0.1, 'random_state': None, 'topic_word_prior': None, 'total_samples': 1000000.0, 'verbose': 0}\n",
      "\n",
      "Model: 4\n",
      "\n",
      "Parameters:{'batch_size': 128, 'doc_topic_prior': None, 'evaluate_every': -1, 'learning_decay': 0.7, 'learning_method': 'online', 'learning_offset': 10.0, 'max_doc_update_iter': 100, 'max_iter': 10, 'mean_change_tol': 0.001, 'n_components': 30, 'n_jobs': -1, 'perp_tol': 0.1, 'random_state': None, 'topic_word_prior': None, 'total_samples': 1000000.0, 'verbose': 0}\n",
      "\n",
      "Model: 5\n",
      "\n",
      "Parameters:{'batch_size': 128, 'doc_topic_prior': None, 'evaluate_every': -1, 'learning_decay': 0.7, 'learning_method': 'online', 'learning_offset': 10.0, 'max_doc_update_iter': 100, 'max_iter': 10, 'mean_change_tol': 0.001, 'n_components': 100, 'n_jobs': -1, 'perp_tol': 0.1, 'random_state': None, 'topic_word_prior': None, 'total_samples': 1000000.0, 'verbose': 0}\n",
      "\n",
      "Model: 6\n",
      "\n",
      "Parameters:{'batch_size': 32, 'doc_topic_prior': None, 'evaluate_every': -1, 'learning_decay': 0.7, 'learning_method': 'online', 'learning_offset': 20, 'max_doc_update_iter': 100, 'max_iter': 10, 'mean_change_tol': 0.001, 'n_components': 100, 'n_jobs': -1, 'perp_tol': 0.1, 'random_state': None, 'topic_word_prior': None, 'total_samples': 1000000.0, 'verbose': 0}\n",
      "\n",
      "Model: 7\n",
      "\n",
      "Parameters:{'batch_size': 32, 'doc_topic_prior': 0.9, 'evaluate_every': -1, 'learning_decay': 0.7, 'learning_method': 'online', 'learning_offset': 20, 'max_doc_update_iter': 100, 'max_iter': 10, 'mean_change_tol': 0.001, 'n_components': 100, 'n_jobs': -1, 'perp_tol': 0.1, 'random_state': None, 'topic_word_prior': 0.9, 'total_samples': 1000000.0, 'verbose': 0}\n",
      "\n",
      "Model: 8\n",
      "\n",
      "Parameters:{'batch_size': 32, 'doc_topic_prior': 0.9, 'evaluate_every': -1, 'learning_decay': 0.7, 'learning_method': 'online', 'learning_offset': 50, 'max_doc_update_iter': 100, 'max_iter': 10, 'mean_change_tol': 0.001, 'n_components': 100, 'n_jobs': -1, 'perp_tol': 0.1, 'random_state': None, 'topic_word_prior': 0.9, 'total_samples': 1000000.0, 'verbose': 0}\n",
      "\n",
      "Model: 9\n",
      "\n",
      "Parameters:{'batch_size': 32, 'doc_topic_prior': 0.9, 'evaluate_every': -1, 'learning_decay': 0.7, 'learning_method': 'online', 'learning_offset': 50, 'max_doc_update_iter': 100, 'max_iter': 10, 'mean_change_tol': 0.001, 'n_components': 100, 'n_jobs': -1, 'perp_tol': 0.1, 'random_state': None, 'topic_word_prior': 0.9, 'total_samples': 1000000.0, 'verbose': 0}\n",
      "\n"
     ]
    }
   ],
   "source": [
    "i = 0\n",
    "for model in models:\n",
    "    i += 1\n",
    "    print(f'Model: {i}\\n\\nParameters:{model.get_params()}\\n')"
   ]
  },
  {
   "cell_type": "markdown",
   "metadata": {},
   "source": [
    "models 1 - 4 are the same: n_components =30, everything else default"
   ]
  },
  {
   "cell_type": "markdown",
   "metadata": {},
   "source": [
    "model 5 changed n_components to 100, everything else default"
   ]
  },
  {
   "cell_type": "markdown",
   "metadata": {},
   "source": [
    "model 6 changed batch size to 32, learning offset 20, everything else the same"
   ]
  },
  {
   "cell_type": "markdown",
   "metadata": {},
   "source": [
    "model 7 doc_topic_prior 0.9 topic_word_prior 0.9, everything else the same"
   ]
  },
  {
   "cell_type": "markdown",
   "metadata": {},
   "source": [
    "model 8 learning offset to 50"
   ]
  },
  {
   "cell_type": "code",
   "execution_count": 11,
   "metadata": {},
   "outputs": [],
   "source": [
    "unique_models = [lda_model_1, lda_model_5, lda_model_6, lda_model_7, lda_model_8]"
   ]
  },
  {
   "cell_type": "code",
   "execution_count": 12,
   "metadata": {},
   "outputs": [],
   "source": [
    "vec_1 = joblib.load('./models/vec.joblib')\n",
    "vec_2 = joblib.load('./models/vec_1_tid.joblib')\n",
    "vec_3 = joblib.load('./models/vec_2_tdn.joblib')\n",
    "vec_4 = joblib.load('./models/vec_2_tid.joblib')\n",
    "vec_5 = joblib.load('./models/vec_3_tid.joblib')\n",
    "vec_6 = joblib.load('./models/vec_4_tid.joblib')\n",
    "vec_7 = joblib.load('./models/vec_5_tid.joblib')\n",
    "vec_8 = joblib.load('./models/vec_6_tid.joblib')\n",
    "vec_9 = joblib.load('./models/vec_6_tid_pickle4.joblib')"
   ]
  },
  {
   "cell_type": "code",
   "execution_count": 13,
   "metadata": {},
   "outputs": [],
   "source": [
    "vecs = [vec_1, vec_2, vec_3, vec_4, vec_5, vec_6, vec_7, vec_8, vec_9]"
   ]
  },
  {
   "cell_type": "code",
   "execution_count": 14,
   "metadata": {},
   "outputs": [
    {
     "name": "stdout",
     "output_type": "stream",
     "text": [
      "Vectorizer: 1\n",
      "\n",
      "Parameters:{'analyzer': 'word', 'binary': False, 'decode_error': 'strict', 'dtype': <class 'numpy.int64'>, 'encoding': 'utf-8', 'input': 'content', 'lowercase': True, 'max_df': 0.85, 'max_features': 1000, 'min_df': 2, 'ngram_range': (1, 2), 'preprocessor': None, 'stop_words': None, 'strip_accents': None, 'token_pattern': '(?u)\\\\b\\\\w\\\\w+\\\\b', 'tokenizer': None, 'vocabulary': None}\n",
      "\n",
      "Vectorizer: 2\n",
      "\n",
      "Parameters:{'analyzer': 'word', 'binary': False, 'decode_error': 'strict', 'dtype': <class 'numpy.int64'>, 'encoding': 'utf-8', 'input': 'content', 'lowercase': True, 'max_df': 0.85, 'max_features': 1000, 'min_df': 2, 'ngram_range': (1, 2), 'preprocessor': None, 'stop_words': None, 'strip_accents': None, 'token_pattern': '(?u)\\\\b\\\\w\\\\w+\\\\b', 'tokenizer': None, 'vocabulary': None}\n",
      "\n",
      "Vectorizer: 3\n",
      "\n",
      "Parameters:{'analyzer': 'word', 'binary': False, 'decode_error': 'strict', 'dtype': <class 'numpy.int64'>, 'encoding': 'utf-8', 'input': 'content', 'lowercase': True, 'max_df': 0.85, 'max_features': 1000, 'min_df': 2, 'ngram_range': (1, 3), 'preprocessor': None, 'stop_words': None, 'strip_accents': None, 'token_pattern': '(?u)\\\\b\\\\w\\\\w+\\\\b', 'tokenizer': None, 'vocabulary': None}\n",
      "\n",
      "Vectorizer: 4\n",
      "\n",
      "Parameters:{'analyzer': 'word', 'binary': False, 'decode_error': 'strict', 'dtype': <class 'numpy.int64'>, 'encoding': 'utf-8', 'input': 'content', 'lowercase': True, 'max_df': 0.85, 'max_features': 1000, 'min_df': 2, 'ngram_range': (1, 3), 'preprocessor': None, 'stop_words': None, 'strip_accents': None, 'token_pattern': '(?u)\\\\b\\\\w\\\\w+\\\\b', 'tokenizer': None, 'vocabulary': None}\n",
      "\n",
      "Vectorizer: 5\n",
      "\n",
      "Parameters:{'analyzer': 'word', 'binary': False, 'decode_error': 'strict', 'dtype': <class 'numpy.int64'>, 'encoding': 'utf-8', 'input': 'content', 'lowercase': True, 'max_df': 0.85, 'max_features': 1000, 'min_df': 2, 'ngram_range': (1, 3), 'preprocessor': None, 'stop_words': None, 'strip_accents': None, 'token_pattern': '(?u)\\\\b\\\\w\\\\w+\\\\b', 'tokenizer': None, 'vocabulary': None}\n",
      "\n",
      "Vectorizer: 6\n",
      "\n",
      "Parameters:{'analyzer': 'word', 'binary': False, 'decode_error': 'strict', 'dtype': <class 'numpy.int64'>, 'encoding': 'utf-8', 'input': 'content', 'lowercase': True, 'max_df': 0.85, 'max_features': 1000, 'min_df': 2, 'ngram_range': (1, 3), 'preprocessor': None, 'stop_words': None, 'strip_accents': None, 'token_pattern': '(?u)\\\\b\\\\w\\\\w+\\\\b', 'tokenizer': None, 'vocabulary': None}\n",
      "\n",
      "Vectorizer: 7\n",
      "\n",
      "Parameters:{'analyzer': 'word', 'binary': False, 'decode_error': 'strict', 'dtype': <class 'numpy.int64'>, 'encoding': 'utf-8', 'input': 'content', 'lowercase': True, 'max_df': 0.85, 'max_features': 500, 'min_df': 2, 'ngram_range': (1, 2), 'preprocessor': None, 'stop_words': None, 'strip_accents': None, 'token_pattern': '(?u)\\\\b\\\\w\\\\w+\\\\b', 'tokenizer': None, 'vocabulary': None}\n",
      "\n",
      "Vectorizer: 8\n",
      "\n",
      "Parameters:{'analyzer': 'word', 'binary': False, 'decode_error': 'strict', 'dtype': <class 'numpy.int64'>, 'encoding': 'utf-8', 'input': 'content', 'lowercase': True, 'max_df': 0.85, 'max_features': 500, 'min_df': 2, 'ngram_range': (1, 2), 'preprocessor': None, 'stop_words': None, 'strip_accents': None, 'token_pattern': '(?u)\\\\b\\\\w\\\\w+\\\\b', 'tokenizer': None, 'vocabulary': None}\n",
      "\n",
      "Vectorizer: 9\n",
      "\n",
      "Parameters:{'analyzer': 'word', 'binary': False, 'decode_error': 'strict', 'dtype': <class 'numpy.int64'>, 'encoding': 'utf-8', 'input': 'content', 'lowercase': True, 'max_df': 0.85, 'max_features': 500, 'min_df': 2, 'ngram_range': (1, 2), 'preprocessor': None, 'stop_words': None, 'strip_accents': None, 'token_pattern': '(?u)\\\\b\\\\w\\\\w+\\\\b', 'tokenizer': None, 'vocabulary': None}\n",
      "\n"
     ]
    }
   ],
   "source": [
    "i = 0\n",
    "for vec in vecs:\n",
    "    i += 1\n",
    "    print(f'Vectorizer: {i}\\n\\nParameters:{vec.get_params()}\\n')"
   ]
  },
  {
   "cell_type": "markdown",
   "metadata": {},
   "source": [
    "Vectorizer 1 and 2: max_df=0.85, min_df=2, max_features=1000, n_gram_range=(1,2)"
   ]
  },
  {
   "cell_type": "markdown",
   "metadata": {},
   "source": [
    "Vectorizer 3, 4, 5, 6: n_gram_range=(1,3)"
   ]
  },
  {
   "cell_type": "markdown",
   "metadata": {},
   "source": [
    "Vectorizer 7, 8, 9: max_features = 500, n_gram_range = (1,2)"
   ]
  },
  {
   "cell_type": "code",
   "execution_count": 15,
   "metadata": {},
   "outputs": [],
   "source": [
    "vec_10 = CountVectorizer(max_df=0.85, \n",
    "                      min_df=10,\n",
    "                      ngram_range=(1,3),\n",
    "                      max_features=1000)"
   ]
  },
  {
   "cell_type": "markdown",
   "metadata": {},
   "source": [
    "Vectorizer 10: min_df=10, ngram_range=(1,3), max_features=1000"
   ]
  },
  {
   "cell_type": "code",
   "execution_count": 16,
   "metadata": {},
   "outputs": [],
   "source": [
    "vec_11 = CountVectorizer(max_df=0.85, \n",
    "                      min_df=10,\n",
    "                      ngram_range=(1,3),\n",
    "                      max_features=500)"
   ]
  },
  {
   "cell_type": "code",
   "execution_count": 17,
   "metadata": {},
   "outputs": [],
   "source": [
    "vecs.append(vec_10)\n",
    "vecs.append(vec_11)"
   ]
  },
  {
   "cell_type": "code",
   "execution_count": 18,
   "metadata": {},
   "outputs": [
    {
     "data": {
      "text/plain": [
       "[CountVectorizer(max_df=0.85, max_features=1000, min_df=2, ngram_range=(1, 2)),\n",
       " CountVectorizer(max_df=0.85, max_features=1000, min_df=2, ngram_range=(1, 3)),\n",
       " CountVectorizer(max_df=0.85, max_features=500, min_df=2, ngram_range=(1, 2)),\n",
       " CountVectorizer(max_df=0.85, max_features=1000, min_df=10, ngram_range=(1, 3)),\n",
       " CountVectorizer(max_df=0.85, max_features=500, min_df=10, ngram_range=(1, 3))]"
      ]
     },
     "execution_count": 18,
     "metadata": {},
     "output_type": "execute_result"
    }
   ],
   "source": [
    "unique_vecs = [vecs[0], vecs[2], vecs[6], vecs[9], vecs[10]]\n",
    "unique_vecs"
   ]
  },
  {
   "cell_type": "code",
   "execution_count": 19,
   "metadata": {},
   "outputs": [],
   "source": [
    "vec_1, vec_2, vec_3, vec_4, vec_5 = unique_vecs"
   ]
  },
  {
   "cell_type": "code",
   "execution_count": 20,
   "metadata": {},
   "outputs": [],
   "source": [
    "tf_vec1 = vec_1.fit_transform(docs_train)\n",
    "tf_vec2 = vec_2.fit_transform(docs_train)\n",
    "tf_vec3 = vec_3.fit_transform(docs_train)\n",
    "tf_vec4 = vec_4.fit_transform(docs_train)"
   ]
  },
  {
   "cell_type": "code",
   "execution_count": 21,
   "metadata": {},
   "outputs": [],
   "source": [
    "tf_vec5 = vec_5.fit_transform(docs_train)"
   ]
  },
  {
   "cell_type": "code",
   "execution_count": 22,
   "metadata": {},
   "outputs": [],
   "source": [
    "tf_vec1_test = vec_1.fit_transform(docs_test)\n",
    "tf_vec2_test = vec_2.fit_transform(docs_test)\n",
    "tf_vec3_test = vec_3.fit_transform(docs_test)\n",
    "tf_vec4_test = vec_4.fit_transform(docs_test)\n",
    "tf_vec5_test = vec_5.fit_transform(docs_test)"
   ]
  },
  {
   "cell_type": "code",
   "execution_count": 23,
   "metadata": {},
   "outputs": [],
   "source": [
    "tf_vec_docs_3 = vec_3.fit_transform(docs_cleaned)\n",
    "tf_vec_docs_4 = vec_4.fit_transform(docs_cleaned)\n",
    "tf_vec_docs_5 = vec_5.fit_transform(docs_cleaned)"
   ]
  },
  {
   "cell_type": "markdown",
   "metadata": {},
   "source": [
    "## 30 components, different vectors"
   ]
  },
  {
   "cell_type": "code",
   "execution_count": 24,
   "metadata": {},
   "outputs": [],
   "source": [
    "scores = []\n",
    "perplexity = []"
   ]
  },
  {
   "cell_type": "code",
   "execution_count": 25,
   "metadata": {},
   "outputs": [],
   "source": [
    "lda_model_1.fit(tf_vec1)\n",
    "lda_1_1_score = lda_model_1.score(tf_vec1_test)\n",
    "lda_1_1_perplexity = lda_model_1.perplexity(tf_vec1_test)\n",
    "scores.append(lda_1_1_score)\n",
    "perplexity.append(lda_1_1_perplexity)"
   ]
  },
  {
   "cell_type": "code",
   "execution_count": 26,
   "metadata": {},
   "outputs": [],
   "source": [
    "lda_model_1.fit(tf_vec2)\n",
    "lda_1_2_score = lda_model_1.score(tf_vec2_test)\n",
    "lda_1_2_perplexity = lda_model_1.perplexity(tf_vec2_test)\n",
    "scores.append(lda_1_2_score)\n",
    "perplexity.append(lda_1_2_perplexity)"
   ]
  },
  {
   "cell_type": "code",
   "execution_count": 27,
   "metadata": {},
   "outputs": [],
   "source": [
    "lda_model_1.fit(tf_vec3)\n",
    "lda_1_3_score = lda_model_1.score(tf_vec3_test)\n",
    "lda_1_3_perplexity = lda_model_1.perplexity(tf_vec3_test)\n",
    "scores.append(lda_1_3_score)\n",
    "perplexity.append(lda_1_3_perplexity)"
   ]
  },
  {
   "cell_type": "code",
   "execution_count": 28,
   "metadata": {},
   "outputs": [],
   "source": [
    "probs_1_3 = lda_model_1.transform(tf_vec_docs_3)"
   ]
  },
  {
   "cell_type": "code",
   "execution_count": 29,
   "metadata": {},
   "outputs": [],
   "source": [
    "lda_model_1.fit(tf_vec4)\n",
    "lda_1_4_score = lda_model_1.score(tf_vec4_test)\n",
    "lda_1_4_perplexity = lda_model_1.perplexity(tf_vec4_test)\n",
    "scores.append(lda_1_4_score)\n",
    "perplexity.append(lda_1_4_perplexity)"
   ]
  },
  {
   "cell_type": "code",
   "execution_count": 30,
   "metadata": {},
   "outputs": [],
   "source": [
    "probs_1_4 = lda_model_1.transform(tf_vec_docs_4)"
   ]
  },
  {
   "cell_type": "code",
   "execution_count": 31,
   "metadata": {},
   "outputs": [],
   "source": [
    "lda_model_1.fit(tf_vec5)\n",
    "lda_1_5_score = lda_model_1.score(tf_vec5_test)\n",
    "lda_1_5_perplexity = lda_model_1.perplexity(tf_vec5_test)\n",
    "scores.append(lda_1_5_score)\n",
    "perplexity.append(lda_1_5_perplexity)"
   ]
  },
  {
   "cell_type": "code",
   "execution_count": 32,
   "metadata": {},
   "outputs": [],
   "source": [
    "probs_1_5 = lda_model_1.transform(tf_vec_docs_5)"
   ]
  },
  {
   "cell_type": "code",
   "execution_count": 33,
   "metadata": {},
   "outputs": [
    {
     "data": {
      "text/plain": [
       "[-12027135.465714172,\n",
       " -12456079.923884975,\n",
       " -9382599.52883535,\n",
       " -12402075.44755314,\n",
       " -9327974.957934933]"
      ]
     },
     "execution_count": 33,
     "metadata": {},
     "output_type": "execute_result"
    }
   ],
   "source": [
    "scores"
   ]
  },
  {
   "cell_type": "code",
   "execution_count": 34,
   "metadata": {},
   "outputs": [
    {
     "data": {
      "text/plain": [
       "[1740.4762450302935,\n",
       " 2179.9439005895233,\n",
       " 980.7957058221372,\n",
       " 2108.4882335267557,\n",
       " 932.7197356059606]"
      ]
     },
     "execution_count": 34,
     "metadata": {},
     "output_type": "execute_result"
    }
   ],
   "source": [
    "perplexity"
   ]
  },
  {
   "cell_type": "code",
   "execution_count": 35,
   "metadata": {},
   "outputs": [],
   "source": [
    "def closest_recipes(keyword, idx_arr, recipes, probs, n_docs=10):\n",
    "    recipe_idx = recipes[recipes.str.contains(keyword, case=False, regex=False)].index[0]\n",
    "    keyword_idx = int(np.where(idx_arr == recipe_idx)[0])\n",
    "    sims = cosine_distances(probs[keyword_idx].reshape(1, -1), probs).argsort()[0]\n",
    "    print(f'Top {n_docs} recipes most closely related to {keyword} (reference recipe: {recipes.loc[recipes.index[keyword_idx]]})')\n",
    "    return np.array(recipes)[sims[1:n_docs+1]]"
   ]
  },
  {
   "cell_type": "code",
   "execution_count": 36,
   "metadata": {},
   "outputs": [],
   "source": [
    "recipes = df_subset['title']"
   ]
  },
  {
   "cell_type": "code",
   "execution_count": 37,
   "metadata": {},
   "outputs": [],
   "source": [
    "idx_arr = np.array(recipes.index)"
   ]
  },
  {
   "cell_type": "code",
   "execution_count": 38,
   "metadata": {},
   "outputs": [
    {
     "name": "stdout",
     "output_type": "stream",
     "text": [
      "Top 10 recipes most closely related to soup (reference recipe: Curried Red Pepper Soup)\n"
     ]
    },
    {
     "data": {
      "text/plain": [
       "array(['Low-Fat Chili', 'Tomato Juice Supreme', 'Dixie Hominy',\n",
       "       'Vegetable Soup', 'Bell Pepper Relish', 'Louisiana Green Beans',\n",
       "       'Minestrone', \"Chasen'S Famous Chili(Esquire 1973)  \", 'Jambalaya',\n",
       "       'West Texas-Style Buffalo Chili'], dtype=object)"
      ]
     },
     "execution_count": 38,
     "metadata": {},
     "output_type": "execute_result"
    }
   ],
   "source": [
    "recipe_recs_1_3 = closest_recipes('soup', idx_arr, recipes, probs_1_3)\n",
    "recipe_recs_1_3"
   ]
  },
  {
   "cell_type": "code",
   "execution_count": 39,
   "metadata": {},
   "outputs": [
    {
     "name": "stdout",
     "output_type": "stream",
     "text": [
      "Top 10 recipes most closely related to soup (reference recipe: Curried Red Pepper Soup)\n"
     ]
    },
    {
     "data": {
      "text/plain": [
       "array(['Corn Relish', \"Richard And Suzanne'S Famous Spaghetti Sauce\",\n",
       "       'Indian Styled Feta Cheese - Ekadasi Paneer Makhani',\n",
       "       'New Orleans Shrimp', 'Coconut Curry Tofu', 'Dorito Dip',\n",
       "       'Beef Stew', 'Corn Chowder', 'Corn And Shrimp Soup',\n",
       "       'Creole Shrimp Stew With Fennel '], dtype=object)"
      ]
     },
     "execution_count": 39,
     "metadata": {},
     "output_type": "execute_result"
    }
   ],
   "source": [
    "recipe_recs_1_4 = closest_recipes('soup', idx_arr, recipes, probs_1_4)\n",
    "recipe_recs_1_4"
   ]
  },
  {
   "cell_type": "code",
   "execution_count": 40,
   "metadata": {},
   "outputs": [
    {
     "name": "stdout",
     "output_type": "stream",
     "text": [
      "Top 10 recipes most closely related to soup (reference recipe: Curried Red Pepper Soup)\n"
     ]
    },
    {
     "data": {
      "text/plain": [
       "array(['Beef Stew: Cooked In A Red Ale Sauce (Served With: Beetroot Mash Potato)',\n",
       "       'Rhode Island Dynamites', 'Pasta Primavera',\n",
       "       'Honey Curry Sweet Potato Soup',\n",
       "       'Skillet-Popped Lentils With Parsley', \"Anthony'S Home Fries\",\n",
       "       'Warm SautéEd Lettuce Salad',\n",
       "       'Slow Cooker Bolognese Sauce With Pappardelle',\n",
       "       'Mahi-Mahi With Fresh Cilantro Chutney ', 'Microwave Meat Loaf'],\n",
       "      dtype=object)"
      ]
     },
     "execution_count": 40,
     "metadata": {},
     "output_type": "execute_result"
    }
   ],
   "source": [
    "recipe_recs_1_5 = closest_recipes('soup', idx_arr, recipes, probs_1_5)\n",
    "recipe_recs_1_5"
   ]
  },
  {
   "cell_type": "markdown",
   "metadata": {},
   "source": [
    "## 100 components, different vectors"
   ]
  },
  {
   "cell_type": "code",
   "execution_count": 41,
   "metadata": {},
   "outputs": [],
   "source": [
    "lda_model_5.fit(tf_vec1)\n",
    "lda_5_1_score = lda_model_5.score(tf_vec1_test)\n",
    "lda_5_1_perplexity = lda_model_5.perplexity(tf_vec1_test)\n",
    "scores.append(lda_5_1_score)\n",
    "perplexity.append(lda_5_1_perplexity)"
   ]
  },
  {
   "cell_type": "code",
   "execution_count": 42,
   "metadata": {},
   "outputs": [],
   "source": [
    "lda_model_5.fit(tf_vec2)\n",
    "lda_5_2_score = lda_model_5.score(tf_vec2_test)\n",
    "lda_5_2_perplexity = lda_model_5.perplexity(tf_vec2_test)\n",
    "scores.append(lda_5_2_score)\n",
    "perplexity.append(lda_5_2_perplexity)"
   ]
  },
  {
   "cell_type": "code",
   "execution_count": 43,
   "metadata": {},
   "outputs": [],
   "source": [
    "lda_model_5.fit(tf_vec3)\n",
    "lda_5_3_score = lda_model_5.score(tf_vec3_test)\n",
    "lda_5_3_perplexity = lda_model_5.perplexity(tf_vec3_test)\n",
    "scores.append(lda_5_3_score)\n",
    "perplexity.append(lda_5_3_perplexity)"
   ]
  },
  {
   "cell_type": "code",
   "execution_count": 44,
   "metadata": {},
   "outputs": [],
   "source": [
    "probs_5_3 = lda_model_5.transform(tf_vec_docs_3)"
   ]
  },
  {
   "cell_type": "code",
   "execution_count": 45,
   "metadata": {},
   "outputs": [],
   "source": [
    "lda_model_5.fit(tf_vec4)\n",
    "lda_5_4_score = lda_model_5.score(tf_vec4_test)\n",
    "lda_5_4_perplexity = lda_model_5.perplexity(tf_vec4_test)\n",
    "scores.append(lda_5_4_score)\n",
    "perplexity.append(lda_5_4_perplexity)"
   ]
  },
  {
   "cell_type": "code",
   "execution_count": 46,
   "metadata": {},
   "outputs": [],
   "source": [
    "probs_5_4 = lda_model_5.transform(tf_vec_docs_4)"
   ]
  },
  {
   "cell_type": "code",
   "execution_count": 47,
   "metadata": {},
   "outputs": [],
   "source": [
    "lda_model_5.fit(tf_vec5)\n",
    "lda_5_5_score = lda_model_5.score(tf_vec5_test)\n",
    "lda_5_5_perplexity = lda_model_5.perplexity(tf_vec5_test)\n",
    "scores.append(lda_5_5_score)\n",
    "perplexity.append(lda_5_5_perplexity)"
   ]
  },
  {
   "cell_type": "code",
   "execution_count": 48,
   "metadata": {},
   "outputs": [],
   "source": [
    "probs_5_5 = lda_model_5.transform(tf_vec_docs_5)"
   ]
  },
  {
   "cell_type": "code",
   "execution_count": 49,
   "metadata": {},
   "outputs": [
    {
     "data": {
      "text/plain": [
       "[-12027135.465714172,\n",
       " -12456079.923884975,\n",
       " -9382599.52883535,\n",
       " -12402075.44755314,\n",
       " -9327974.957934933,\n",
       " -12577878.13702911,\n",
       " -12994486.44426455,\n",
       " -9793605.775398783,\n",
       " -12973366.58722603,\n",
       " -9735078.064045765]"
      ]
     },
     "execution_count": 49,
     "metadata": {},
     "output_type": "execute_result"
    }
   ],
   "source": [
    "scores"
   ]
  },
  {
   "cell_type": "code",
   "execution_count": 50,
   "metadata": {},
   "outputs": [
    {
     "data": {
      "text/plain": [
       "[1740.4762450302935,\n",
       " 2179.9439005895233,\n",
       " 980.7957058221372,\n",
       " 2108.4882335267557,\n",
       " 932.7197356059606,\n",
       " 2449.4225891020606,\n",
       " 3039.118239336817,\n",
       " 1326.249167803426,\n",
       " 2999.764140608313,\n",
       " 1257.0737192507931]"
      ]
     },
     "execution_count": 50,
     "metadata": {},
     "output_type": "execute_result"
    }
   ],
   "source": [
    "perplexity"
   ]
  },
  {
   "cell_type": "code",
   "execution_count": 51,
   "metadata": {},
   "outputs": [
    {
     "name": "stdout",
     "output_type": "stream",
     "text": [
      "Top 10 recipes most closely related to pizza (reference recipe: Pizza Popcorn)\n"
     ]
    },
    {
     "data": {
      "text/plain": [
       "array(['Pizza Popcorn', 'Cheesy Stuffed Pizza Crust Ring',\n",
       "       'Parmesan Breadsticks', 'Cheesy Garlic Bread',\n",
       "       'Kraft Fettucine Alfredo ', 'Parmesan Whitefish',\n",
       "       'Parmesan Broiled Tomatoes', 'Creamy And Cheesy Ranch Dressing',\n",
       "       'Air Fryer Cheesy Garlic Bread', 'Garlic Parmesan Pasta'],\n",
       "      dtype=object)"
      ]
     },
     "execution_count": 51,
     "metadata": {},
     "output_type": "execute_result"
    }
   ],
   "source": [
    "recipe_recs_5_3 = closest_recipes('pizza', idx_arr, recipes, probs_5_3)\n",
    "recipe_recs_5_3"
   ]
  },
  {
   "cell_type": "code",
   "execution_count": 52,
   "metadata": {},
   "outputs": [
    {
     "name": "stdout",
     "output_type": "stream",
     "text": [
      "Top 10 recipes most closely related to pizza (reference recipe: Pizza Popcorn)\n"
     ]
    },
    {
     "data": {
      "text/plain": [
       "array(['Pizza Popcorn', \"Pete'S Perfect Pesto \", 'Extreme Cheese Bread',\n",
       "       'Garlic Herb Butter', 'Zucchini Ribbons With Basil Butter',\n",
       "       'Linguini With Broccoli And Bay Scallops', 'Mint Julep ',\n",
       "       'Cheddar Bruschetta', 'Pasta Primavera', 'Stuffed Mushrooms'],\n",
       "      dtype=object)"
      ]
     },
     "execution_count": 52,
     "metadata": {},
     "output_type": "execute_result"
    }
   ],
   "source": [
    "recipe_recs_5_4 = closest_recipes('pizza', idx_arr, recipes, probs_5_4)\n",
    "recipe_recs_5_4"
   ]
  },
  {
   "cell_type": "code",
   "execution_count": 53,
   "metadata": {},
   "outputs": [
    {
     "name": "stdout",
     "output_type": "stream",
     "text": [
      "Top 10 recipes most closely related to pizza (reference recipe: Pizza Popcorn)\n"
     ]
    },
    {
     "data": {
      "text/plain": [
       "array(['Parmesan Butter', 'Parmesan Breadsticks', 'Parmesan Tilapia',\n",
       "       'Pizza Popcorn', 'Oven-Fried Vegetables', 'Oven Fried Chicken',\n",
       "       'Oven Grilled Chicken', 'Crispy Herb Baked Chicken',\n",
       "       'Oven-Fried Parmesan Chicken', 'Balsamic Stuffed Round Zucchini'],\n",
       "      dtype=object)"
      ]
     },
     "execution_count": 53,
     "metadata": {},
     "output_type": "execute_result"
    }
   ],
   "source": [
    "recipe_recs_5_5 = closest_recipes('pizza', idx_arr, recipes, probs_5_5)\n",
    "recipe_recs_5_5"
   ]
  },
  {
   "cell_type": "markdown",
   "metadata": {},
   "source": [
    "## Batch size 32, learning offset 20"
   ]
  },
  {
   "cell_type": "code",
   "execution_count": 54,
   "metadata": {},
   "outputs": [],
   "source": [
    "lda_model_6.fit(tf_vec3)\n",
    "lda_6_3_score = lda_model_6.score(tf_vec3_test)\n",
    "lda_6_3_perplexity = lda_model_6.perplexity(tf_vec3_test)\n",
    "scores.append(lda_6_3_score)\n",
    "perplexity.append(lda_6_3_perplexity)"
   ]
  },
  {
   "cell_type": "code",
   "execution_count": 55,
   "metadata": {},
   "outputs": [],
   "source": [
    "probs_6_3 = lda_model_6.transform(tf_vec_docs_3)"
   ]
  },
  {
   "cell_type": "code",
   "execution_count": 56,
   "metadata": {},
   "outputs": [],
   "source": [
    "lda_model_6.fit(tf_vec4)\n",
    "lda_6_4_score = lda_model_6.score(tf_vec4_test)\n",
    "lda_6_4_perplexity = lda_model_6.perplexity(tf_vec4_test)\n",
    "scores.append(lda_6_4_score)\n",
    "perplexity.append(lda_6_4_perplexity)"
   ]
  },
  {
   "cell_type": "code",
   "execution_count": 57,
   "metadata": {},
   "outputs": [],
   "source": [
    "probs_6_4 = lda_model_6.transform(tf_vec_docs_4)"
   ]
  },
  {
   "cell_type": "code",
   "execution_count": 58,
   "metadata": {},
   "outputs": [],
   "source": [
    "lda_model_6.fit(tf_vec5)\n",
    "lda_6_5_score = lda_model_6.score(tf_vec5_test)\n",
    "lda_6_5_perplexity = lda_model_6.perplexity(tf_vec5_test)\n",
    "scores.append(lda_6_5_score)\n",
    "perplexity.append(lda_6_5_perplexity)"
   ]
  },
  {
   "cell_type": "code",
   "execution_count": 59,
   "metadata": {},
   "outputs": [],
   "source": [
    "probs_6_5 = lda_model_6.transform(tf_vec_docs_5)"
   ]
  },
  {
   "cell_type": "code",
   "execution_count": 60,
   "metadata": {},
   "outputs": [
    {
     "data": {
      "text/plain": [
       "[-12027135.465714172,\n",
       " -12456079.923884975,\n",
       " -9382599.52883535,\n",
       " -12402075.44755314,\n",
       " -9327974.957934933,\n",
       " -12577878.13702911,\n",
       " -12994486.44426455,\n",
       " -9793605.775398783,\n",
       " -12973366.58722603,\n",
       " -9735078.064045765,\n",
       " -9808079.699480746,\n",
       " -12974609.413827132,\n",
       " -9810971.804809965]"
      ]
     },
     "execution_count": 60,
     "metadata": {},
     "output_type": "execute_result"
    }
   ],
   "source": [
    "scores"
   ]
  },
  {
   "cell_type": "code",
   "execution_count": 61,
   "metadata": {},
   "outputs": [
    {
     "data": {
      "text/plain": [
       "[1740.4762450302935,\n",
       " 2179.9439005895233,\n",
       " 980.7957058221372,\n",
       " 2108.4882335267557,\n",
       " 932.7197356059606,\n",
       " 2449.4225891020606,\n",
       " 3039.118239336817,\n",
       " 1326.249167803426,\n",
       " 2999.764140608313,\n",
       " 1257.0737192507931,\n",
       " 1340.4173402662823,\n",
       " 3002.06580913497,\n",
       " 1328.9941461182484]"
      ]
     },
     "execution_count": 61,
     "metadata": {},
     "output_type": "execute_result"
    }
   ],
   "source": [
    "perplexity"
   ]
  },
  {
   "cell_type": "code",
   "execution_count": 62,
   "metadata": {},
   "outputs": [
    {
     "name": "stdout",
     "output_type": "stream",
     "text": [
      "Top 10 recipes most closely related to vegan (reference recipe: Vegan Double Chocolate Chip Cookies)\n"
     ]
    },
    {
     "data": {
      "text/plain": [
       "array(['Chocolate Chocolate Chip Cookies ',\n",
       "       \"Apple'S Restaurant Election Day Cookies\",\n",
       "       'Chocolate Chip Angel Cookies',\n",
       "       'Chocolate Chip Cookies(For Diabetics)  ', 'Blonde Brownies',\n",
       "       'Coconut Chocolate Chip Cookies ',\n",
       "       'My Favorite Chocolate Chip Cookie',\n",
       "       'Way To A Man’S Heart Cookies', 'Oatmeal Chocolate Chip Bars',\n",
       "       'My Favorite Chocolate Chip Cookies'], dtype=object)"
      ]
     },
     "execution_count": 62,
     "metadata": {},
     "output_type": "execute_result"
    }
   ],
   "source": [
    "recipe_recs_6_3 = closest_recipes('vegan', idx_arr, recipes, probs_6_3)\n",
    "recipe_recs_6_3"
   ]
  },
  {
   "cell_type": "code",
   "execution_count": 63,
   "metadata": {},
   "outputs": [
    {
     "name": "stdout",
     "output_type": "stream",
     "text": [
      "Top 10 recipes most closely related to vegan (reference recipe: Vegan Double Chocolate Chip Cookies)\n"
     ]
    },
    {
     "data": {
      "text/plain": [
       "array(['Molasses Peanut Butter Cookies',\n",
       "       'Old Fashioned Peanut Butter Cookies',\n",
       "       'Grandma Bliss Chocolate Cake',\n",
       "       'Chocolate Chip Cookies(For Diabetics)  ', 'Peanut Butter Kisses',\n",
       "       'Peanut Butter Cookies', 'Pumpkin Cookies',\n",
       "       'Luxury Chocolate Frosting', 'Chocolate Bar Cookies',\n",
       "       'Peanut Butter Cookies'], dtype=object)"
      ]
     },
     "execution_count": 63,
     "metadata": {},
     "output_type": "execute_result"
    }
   ],
   "source": [
    "recipe_recs_6_4 = closest_recipes('vegan', idx_arr, recipes, probs_6_4)\n",
    "recipe_recs_6_4"
   ]
  },
  {
   "cell_type": "code",
   "execution_count": 64,
   "metadata": {},
   "outputs": [
    {
     "name": "stdout",
     "output_type": "stream",
     "text": [
      "Top 10 recipes most closely related to vegan (reference recipe: Vegan Double Chocolate Chip Cookies)\n"
     ]
    },
    {
     "data": {
      "text/plain": [
       "array(['Ice Cream Chocolate Chip Cookies',\n",
       "       'Chewy Oatmeal And Chocolate Chip Cookies', 'Monster Cookies ',\n",
       "       'Great Snickerdoodles', 'Chocolate Chocolate Chip Cookies ',\n",
       "       'Cinnamon Sugar Scones', 'Way To A Man’S Heart Cookies',\n",
       "       'Vegan Oatmeal Peanut Butter Chocolate Chip Cookies',\n",
       "       'Chocolate Cookies', 'Chocolate Chip Oatmeal Cookies'],\n",
       "      dtype=object)"
      ]
     },
     "execution_count": 64,
     "metadata": {},
     "output_type": "execute_result"
    }
   ],
   "source": [
    "recipe_recs_6_5 = closest_recipes('vegan', idx_arr, recipes, probs_6_5)\n",
    "recipe_recs_6_5"
   ]
  },
  {
   "cell_type": "markdown",
   "metadata": {},
   "source": [
    "## Doc_topic_prior=0.9, Topic_word_prior=0.9"
   ]
  },
  {
   "cell_type": "code",
   "execution_count": 65,
   "metadata": {},
   "outputs": [],
   "source": [
    "lda_model_7.fit(tf_vec3)\n",
    "lda_7_3_score = lda_model_7.score(tf_vec3_test)\n",
    "lda_7_3_perplexity = lda_model_7.perplexity(tf_vec3_test)\n",
    "scores.append(lda_7_3_score)\n",
    "perplexity.append(lda_7_3_perplexity)"
   ]
  },
  {
   "cell_type": "code",
   "execution_count": 66,
   "metadata": {},
   "outputs": [],
   "source": [
    "probs_7_3 = lda_model_7.transform(tf_vec_docs_3)"
   ]
  },
  {
   "cell_type": "code",
   "execution_count": 67,
   "metadata": {},
   "outputs": [],
   "source": [
    "lda_model_7.fit(tf_vec4)\n",
    "lda_7_4_score = lda_model_7.score(tf_vec4_test)\n",
    "lda_7_4_perplexity = lda_model_7.perplexity(tf_vec4_test)\n",
    "scores.append(lda_7_4_score)\n",
    "perplexity.append(lda_7_4_perplexity)"
   ]
  },
  {
   "cell_type": "code",
   "execution_count": 68,
   "metadata": {},
   "outputs": [],
   "source": [
    "probs_7_4 = lda_model_7.transform(tf_vec_docs_4)"
   ]
  },
  {
   "cell_type": "code",
   "execution_count": 69,
   "metadata": {},
   "outputs": [],
   "source": [
    "lda_model_7.fit(tf_vec5)\n",
    "lda_7_5_score = lda_model_7.score(tf_vec5_test)\n",
    "lda_7_5_perplexity = lda_model_7.perplexity(tf_vec5_test)\n",
    "scores.append(lda_7_5_score)\n",
    "perplexity.append(lda_7_5_perplexity)"
   ]
  },
  {
   "cell_type": "code",
   "execution_count": 70,
   "metadata": {},
   "outputs": [],
   "source": [
    "probs_7_5 = lda_model_7.transform(tf_vec_docs_5)"
   ]
  },
  {
   "cell_type": "code",
   "execution_count": 71,
   "metadata": {},
   "outputs": [
    {
     "data": {
      "text/plain": [
       "[-12027135.465714172,\n",
       " -12456079.923884975,\n",
       " -9382599.52883535,\n",
       " -12402075.44755314,\n",
       " -9327974.957934933,\n",
       " -12577878.13702911,\n",
       " -12994486.44426455,\n",
       " -9793605.775398783,\n",
       " -12973366.58722603,\n",
       " -9735078.064045765,\n",
       " -9808079.699480746,\n",
       " -12974609.413827132,\n",
       " -9810971.804809965,\n",
       " -8999288.419902148,\n",
       " -12073825.721404508,\n",
       " -8923457.727239478]"
      ]
     },
     "execution_count": 71,
     "metadata": {},
     "output_type": "execute_result"
    }
   ],
   "source": [
    "scores"
   ]
  },
  {
   "cell_type": "code",
   "execution_count": 72,
   "metadata": {},
   "outputs": [
    {
     "data": {
      "text/plain": [
       "[1740.4762450302935,\n",
       " 2179.9439005895233,\n",
       " 980.7957058221372,\n",
       " 2108.4882335267557,\n",
       " 932.7197356059606,\n",
       " 2449.4225891020606,\n",
       " 3039.118239336817,\n",
       " 1326.249167803426,\n",
       " 2999.764140608313,\n",
       " 1257.0737192507931,\n",
       " 1340.4173402662823,\n",
       " 3002.06580913497,\n",
       " 1328.9941461182484,\n",
       " 740.2226924919784,\n",
       " 1721.8470294636306,\n",
       " 693.3696877854078]"
      ]
     },
     "execution_count": 72,
     "metadata": {},
     "output_type": "execute_result"
    }
   ],
   "source": [
    "perplexity"
   ]
  },
  {
   "cell_type": "code",
   "execution_count": 73,
   "metadata": {},
   "outputs": [
    {
     "name": "stdout",
     "output_type": "stream",
     "text": [
      "Top 10 recipes most closely related to chicken noodle soup (reference recipe: Quick Hearty Chicken Noodle Soup)\n"
     ]
    },
    {
     "data": {
      "text/plain": [
       "array([\"Hedda'S Chicken(Or Turkey) And Rice Soup\",\n",
       "       'Chicken Soup And Filled Dumplings',\n",
       "       'Easy Swanson Chicken Noodle Soup', 'Chicken Noodle Soup',\n",
       "       'Kale And Chicken Soup For Two',\n",
       "       'Chicken With Julienne Vegetables', 'Red Chicken Chilaquiles Stew',\n",
       "       'Easy Chicken And Dumplings', 'Chicken Primavera',\n",
       "       'Old Fashioned Chicken Noodle Soup'], dtype=object)"
      ]
     },
     "execution_count": 73,
     "metadata": {},
     "output_type": "execute_result"
    }
   ],
   "source": [
    "recipe_recs_7_3 = closest_recipes('chicken noodle soup', idx_arr, recipes, probs_7_3)\n",
    "recipe_recs_7_3"
   ]
  },
  {
   "cell_type": "code",
   "execution_count": 74,
   "metadata": {},
   "outputs": [
    {
     "name": "stdout",
     "output_type": "stream",
     "text": [
      "Top 10 recipes most closely related to chicken noodle soup (reference recipe: Quick Hearty Chicken Noodle Soup)\n"
     ]
    },
    {
     "data": {
      "text/plain": [
       "array(['Chicken Noodle Soup', 'Balsamic Chicken Sandwich (Or Panini)',\n",
       "       'Chicken Goulash', 'Easy Chicken And Dumplings',\n",
       "       'Gorgonzola-Stuffed Chicken Breasts With Strawberry Gastrique',\n",
       "       'Country Chicken', 'Chicken Marsala With Basil And Mushroom',\n",
       "       'Old Fashioned Chicken Noodle Soup',\n",
       "       'Chicken Soup With White Beans, Farro, And Escarole ',\n",
       "       'Cajun Chicken Noodle Soup'], dtype=object)"
      ]
     },
     "execution_count": 74,
     "metadata": {},
     "output_type": "execute_result"
    }
   ],
   "source": [
    "recipe_recs_7_4 = closest_recipes('chicken noodle soup', idx_arr, recipes, probs_7_4)\n",
    "recipe_recs_7_4"
   ]
  },
  {
   "cell_type": "code",
   "execution_count": 75,
   "metadata": {},
   "outputs": [
    {
     "name": "stdout",
     "output_type": "stream",
     "text": [
      "Top 10 recipes most closely related to chicken noodle soup (reference recipe: Quick Hearty Chicken Noodle Soup)\n"
     ]
    },
    {
     "data": {
      "text/plain": [
       "array([\"Hedda'S Chicken(Or Turkey) And Rice Soup\",\n",
       "       'Tomato, Fennel, And Crab Soup ', 'Italian Vegetable Stew ',\n",
       "       'Vegetarian Barley-Vegetable Soup',\n",
       "       'Chicken Soup And Filled Dumplings', 'Spicy Chorizo Minestrone',\n",
       "       \"Gran'S Clamchowder\", 'Penne Puttanesca With Chicken ',\n",
       "       'White Bean And Kale Soup ', 'Braised Lentils'], dtype=object)"
      ]
     },
     "execution_count": 75,
     "metadata": {},
     "output_type": "execute_result"
    }
   ],
   "source": [
    "recipe_recs_7_5 = closest_recipes('chicken noodle soup', idx_arr, recipes, probs_7_5)\n",
    "recipe_recs_7_5"
   ]
  },
  {
   "cell_type": "code",
   "execution_count": null,
   "metadata": {},
   "outputs": [],
   "source": []
  },
  {
   "cell_type": "markdown",
   "metadata": {},
   "source": [
    "## Learning offset to 50"
   ]
  },
  {
   "cell_type": "code",
   "execution_count": 76,
   "metadata": {},
   "outputs": [],
   "source": [
    "lda_model_8.fit(tf_vec3)\n",
    "lda_8_3_score = lda_model_8.score(tf_vec3_test)\n",
    "lda_8_3_perplexity = lda_model_8.perplexity(tf_vec3_test)\n",
    "scores.append(lda_8_3_score)\n",
    "perplexity.append(lda_8_3_perplexity)"
   ]
  },
  {
   "cell_type": "code",
   "execution_count": 77,
   "metadata": {},
   "outputs": [],
   "source": [
    "probs_8_3 = lda_model_8.transform(tf_vec_docs_3)"
   ]
  },
  {
   "cell_type": "code",
   "execution_count": 78,
   "metadata": {},
   "outputs": [],
   "source": [
    "lda_model_8.fit(tf_vec4)\n",
    "lda_8_4_score = lda_model_8.score(tf_vec4_test)\n",
    "lda_8_4_perplexity = lda_model_8.perplexity(tf_vec4_test)\n",
    "scores.append(lda_8_4_score)\n",
    "perplexity.append(lda_8_4_perplexity)"
   ]
  },
  {
   "cell_type": "code",
   "execution_count": 79,
   "metadata": {},
   "outputs": [],
   "source": [
    "probs_8_4 = lda_model_8.transform(tf_vec_docs_4)"
   ]
  },
  {
   "cell_type": "code",
   "execution_count": 80,
   "metadata": {},
   "outputs": [],
   "source": [
    "lda_model_8.fit(tf_vec5)\n",
    "lda_8_5_score = lda_model_8.score(tf_vec5_test)\n",
    "lda_8_5_perplexity = lda_model_8.perplexity(tf_vec5_test)\n",
    "scores.append(lda_8_5_score)\n",
    "perplexity.append(lda_8_5_perplexity)"
   ]
  },
  {
   "cell_type": "code",
   "execution_count": 81,
   "metadata": {},
   "outputs": [],
   "source": [
    "probs_8_5 = lda_model_8.transform(tf_vec_docs_5)"
   ]
  },
  {
   "cell_type": "code",
   "execution_count": 82,
   "metadata": {},
   "outputs": [
    {
     "name": "stdout",
     "output_type": "stream",
     "text": [
      "Top 10 recipes most closely related to chicken noodle soup (reference recipe: Quick Hearty Chicken Noodle Soup)\n"
     ]
    },
    {
     "data": {
      "text/plain": [
       "array(['Approximate Chicken Noodle Soup ',\n",
       "       'Easy Swanson Chicken Noodle Soup',\n",
       "       \"Hedda'S Chicken(Or Turkey) And Rice Soup\",\n",
       "       'After Thanksgiving Turkey Soup',\n",
       "       'Old Fashioned Chicken Noodle Soup',\n",
       "       'Vegetarian \"Chicken\" Noodle Soup',\n",
       "       'Kale And Chicken Soup For Two', 'Chicken, Corn, And Potato Stew',\n",
       "       'Chicken Stew', 'Chicken My Way'], dtype=object)"
      ]
     },
     "execution_count": 82,
     "metadata": {},
     "output_type": "execute_result"
    }
   ],
   "source": [
    "recipe_recs_8_3 = closest_recipes('chicken noodle soup', idx_arr, recipes, probs_8_3)\n",
    "recipe_recs_8_3"
   ]
  },
  {
   "cell_type": "code",
   "execution_count": 83,
   "metadata": {},
   "outputs": [
    {
     "name": "stdout",
     "output_type": "stream",
     "text": [
      "Top 10 recipes most closely related to chicken noodle soup (reference recipe: Quick Hearty Chicken Noodle Soup)\n"
     ]
    },
    {
     "data": {
      "text/plain": [
       "array(['Homemade Chicken Pot Pies', 'Chicken Soup With Barley',\n",
       "       'Homemade Chicken Noodle Soup',\n",
       "       'Old Fashioned Chicken Noodle Soup', 'Latin Lime Chicken Stir-Fry',\n",
       "       'Honey-Glazed Chicken Breasts', 'Chicken Noodle Soup',\n",
       "       'The Best Chicken Noodle Soup Ever',\n",
       "       'Roast Chicken With Mushroom-Barley Stuffing',\n",
       "       'Chicken, Vegetables, And Pasta Soup'], dtype=object)"
      ]
     },
     "execution_count": 83,
     "metadata": {},
     "output_type": "execute_result"
    }
   ],
   "source": [
    "recipe_recs_8_4 = closest_recipes('chicken noodle soup', idx_arr, recipes, probs_8_4)\n",
    "recipe_recs_8_4"
   ]
  },
  {
   "cell_type": "code",
   "execution_count": 84,
   "metadata": {},
   "outputs": [
    {
     "name": "stdout",
     "output_type": "stream",
     "text": [
      "Top 10 recipes most closely related to chicken noodle soup (reference recipe: Quick Hearty Chicken Noodle Soup)\n"
     ]
    },
    {
     "data": {
      "text/plain": [
       "array(['Pepper Pot Soup', \"Hedda'S Chicken(Or Turkey) And Rice Soup\",\n",
       "       'Maryland Crab Soup', 'Potato-Cheddar Soup', 'Cheese Soup',\n",
       "       'Chicken And Corn Soup With Chile-Mint Salsa ',\n",
       "       'Meatless Vegetable Soup',\n",
       "       'Mexican Chicken Soup With Garbanzo Beans (Caldo Tlalpeno)',\n",
       "       'Quick Chicken Noodle Soup', 'Minestrone Soup'], dtype=object)"
      ]
     },
     "execution_count": 84,
     "metadata": {},
     "output_type": "execute_result"
    }
   ],
   "source": [
    "recipe_recs_8_5 = closest_recipes('chicken noodle soup', idx_arr, recipes, probs_8_5)\n",
    "recipe_recs_8_5"
   ]
  },
  {
   "cell_type": "code",
   "execution_count": 85,
   "metadata": {},
   "outputs": [
    {
     "data": {
      "text/plain": [
       "[-12027135.465714172,\n",
       " -12456079.923884975,\n",
       " -9382599.52883535,\n",
       " -12402075.44755314,\n",
       " -9327974.957934933,\n",
       " -12577878.13702911,\n",
       " -12994486.44426455,\n",
       " -9793605.775398783,\n",
       " -12973366.58722603,\n",
       " -9735078.064045765,\n",
       " -9808079.699480746,\n",
       " -12974609.413827132,\n",
       " -9810971.804809965,\n",
       " -8999288.419902148,\n",
       " -12073825.721404508,\n",
       " -8923457.727239478,\n",
       " -9014339.62780945,\n",
       " -12090345.298767105,\n",
       " -8955270.975217592]"
      ]
     },
     "execution_count": 85,
     "metadata": {},
     "output_type": "execute_result"
    }
   ],
   "source": [
    "scores"
   ]
  },
  {
   "cell_type": "code",
   "execution_count": 86,
   "metadata": {},
   "outputs": [
    {
     "data": {
      "text/plain": [
       "[1740.4762450302935,\n",
       " 2179.9439005895233,\n",
       " 980.7957058221372,\n",
       " 2108.4882335267557,\n",
       " 932.7197356059606,\n",
       " 2449.4225891020606,\n",
       " 3039.118239336817,\n",
       " 1326.249167803426,\n",
       " 2999.764140608313,\n",
       " 1257.0737192507931,\n",
       " 1340.4173402662823,\n",
       " 3002.06580913497,\n",
       " 1328.9941461182484,\n",
       " 740.2226924919784,\n",
       " 1721.8470294636306,\n",
       " 693.3696877854078,\n",
       " 748.4475497091934,\n",
       " 1739.490650237416,\n",
       " 709.7301391589017]"
      ]
     },
     "execution_count": 86,
     "metadata": {},
     "output_type": "execute_result"
    }
   ],
   "source": [
    "perplexity"
   ]
  },
  {
   "cell_type": "markdown",
   "metadata": {},
   "source": [
    "Looks like 500 max features, n_grams of 1,3,  gives best scores and results make sense more or less for one sample. "
   ]
  },
  {
   "cell_type": "code",
   "execution_count": null,
   "metadata": {},
   "outputs": [],
   "source": []
  },
  {
   "cell_type": "code",
   "execution_count": null,
   "metadata": {},
   "outputs": [],
   "source": []
  }
 ],
 "metadata": {
  "kernelspec": {
   "display_name": "Python 3",
   "language": "python",
   "name": "python3"
  },
  "language_info": {
   "codemirror_mode": {
    "name": "ipython",
    "version": 3
   },
   "file_extension": ".py",
   "mimetype": "text/x-python",
   "name": "python",
   "nbconvert_exporter": "python",
   "pygments_lexer": "ipython3",
   "version": "3.8.6"
  }
 },
 "nbformat": 4,
 "nbformat_minor": 4
}
