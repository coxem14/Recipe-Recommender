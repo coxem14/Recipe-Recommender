{
 "cells": [
  {
   "cell_type": "code",
   "execution_count": 1,
   "metadata": {},
   "outputs": [
    {
     "name": "stderr",
     "output_type": "stream",
     "text": [
      "[nltk_data] Downloading package stopwords to /home/jovyan/nltk_data...\n",
      "[nltk_data]   Package stopwords is already up-to-date!\n",
      "[nltk_data] Downloading package punkt to /home/jovyan/nltk_data...\n",
      "[nltk_data]   Package punkt is already up-to-date!\n"
     ]
    }
   ],
   "source": [
    "import pandas as pd\n",
    "import numpy as np\n",
    "import networkx as nx\n",
    "import matplotlib.pyplot as plt\n",
    "\n",
    "from ast import literal_eval\n",
    "\n",
    "from urllib.parse import urlparse\n",
    "\n",
    "from sklearn.feature_extraction.text import CountVectorizer, TfidfVectorizer\n",
    "from sklearn.decomposition import LatentDirichletAllocation\n",
    "from sklearn.metrics.pairwise import cosine_similarity, cosine_distances\n",
    "from sklearn.cluster import KMeans\n",
    "from sklearn.metrics import silhouette_score\n",
    "\n",
    "import string\n",
    "import nltk\n",
    "nltk.download('stopwords')\n",
    "nltk.download('punkt')\n",
    "from nltk.corpus import stopwords\n",
    "from nltk.tokenize import word_tokenize\n",
    "from nltk.stem.porter import PorterStemmer as PS\n",
    "\n",
    "import joblib\n"
   ]
  },
  {
   "cell_type": "code",
   "execution_count": 2,
   "metadata": {},
   "outputs": [],
   "source": [
    "# data = pd.read_csv('dataset/full_dataset.csv')\n",
    "data = pd.read_csv('../work/dataset/full_dataset.csv')"
   ]
  },
  {
   "cell_type": "code",
   "execution_count": 3,
   "metadata": {},
   "outputs": [
    {
     "data": {
      "text/html": [
       "<div>\n",
       "<style scoped>\n",
       "    .dataframe tbody tr th:only-of-type {\n",
       "        vertical-align: middle;\n",
       "    }\n",
       "\n",
       "    .dataframe tbody tr th {\n",
       "        vertical-align: top;\n",
       "    }\n",
       "\n",
       "    .dataframe thead th {\n",
       "        text-align: right;\n",
       "    }\n",
       "</style>\n",
       "<table border=\"1\" class=\"dataframe\">\n",
       "  <thead>\n",
       "    <tr style=\"text-align: right;\">\n",
       "      <th></th>\n",
       "      <th>Unnamed: 0</th>\n",
       "      <th>title</th>\n",
       "      <th>ingredients</th>\n",
       "      <th>directions</th>\n",
       "      <th>link</th>\n",
       "      <th>source</th>\n",
       "      <th>NER</th>\n",
       "    </tr>\n",
       "  </thead>\n",
       "  <tbody>\n",
       "    <tr>\n",
       "      <th>0</th>\n",
       "      <td>0</td>\n",
       "      <td>No-Bake Nut Cookies</td>\n",
       "      <td>[\"1 c. firmly packed brown sugar\", \"1/2 c. eva...</td>\n",
       "      <td>[\"In a heavy 2-quart saucepan, mix brown sugar...</td>\n",
       "      <td>www.cookbooks.com/Recipe-Details.aspx?id=44874</td>\n",
       "      <td>Gathered</td>\n",
       "      <td>[\"brown sugar\", \"milk\", \"vanilla\", \"nuts\", \"bu...</td>\n",
       "    </tr>\n",
       "    <tr>\n",
       "      <th>1</th>\n",
       "      <td>1</td>\n",
       "      <td>Jewell Ball'S Chicken</td>\n",
       "      <td>[\"1 small jar chipped beef, cut up\", \"4 boned ...</td>\n",
       "      <td>[\"Place chipped beef on bottom of baking dish....</td>\n",
       "      <td>www.cookbooks.com/Recipe-Details.aspx?id=699419</td>\n",
       "      <td>Gathered</td>\n",
       "      <td>[\"beef\", \"chicken breasts\", \"cream of mushroom...</td>\n",
       "    </tr>\n",
       "    <tr>\n",
       "      <th>2</th>\n",
       "      <td>2</td>\n",
       "      <td>Creamy Corn</td>\n",
       "      <td>[\"2 (16 oz.) pkg. frozen corn\", \"1 (8 oz.) pkg...</td>\n",
       "      <td>[\"In a slow cooker, combine all ingredients. C...</td>\n",
       "      <td>www.cookbooks.com/Recipe-Details.aspx?id=10570</td>\n",
       "      <td>Gathered</td>\n",
       "      <td>[\"frozen corn\", \"cream cheese\", \"butter\", \"gar...</td>\n",
       "    </tr>\n",
       "    <tr>\n",
       "      <th>3</th>\n",
       "      <td>3</td>\n",
       "      <td>Chicken Funny</td>\n",
       "      <td>[\"1 large whole chicken\", \"2 (10 1/2 oz.) cans...</td>\n",
       "      <td>[\"Boil and debone chicken.\", \"Put bite size pi...</td>\n",
       "      <td>www.cookbooks.com/Recipe-Details.aspx?id=897570</td>\n",
       "      <td>Gathered</td>\n",
       "      <td>[\"chicken\", \"chicken gravy\", \"cream of mushroo...</td>\n",
       "    </tr>\n",
       "    <tr>\n",
       "      <th>4</th>\n",
       "      <td>4</td>\n",
       "      <td>Reeses Cups(Candy)</td>\n",
       "      <td>[\"1 c. peanut butter\", \"3/4 c. graham cracker ...</td>\n",
       "      <td>[\"Combine first four ingredients and press in ...</td>\n",
       "      <td>www.cookbooks.com/Recipe-Details.aspx?id=659239</td>\n",
       "      <td>Gathered</td>\n",
       "      <td>[\"peanut butter\", \"graham cracker crumbs\", \"bu...</td>\n",
       "    </tr>\n",
       "  </tbody>\n",
       "</table>\n",
       "</div>"
      ],
      "text/plain": [
       "   Unnamed: 0                  title  \\\n",
       "0           0    No-Bake Nut Cookies   \n",
       "1           1  Jewell Ball'S Chicken   \n",
       "2           2            Creamy Corn   \n",
       "3           3          Chicken Funny   \n",
       "4           4   Reeses Cups(Candy)     \n",
       "\n",
       "                                         ingredients  \\\n",
       "0  [\"1 c. firmly packed brown sugar\", \"1/2 c. eva...   \n",
       "1  [\"1 small jar chipped beef, cut up\", \"4 boned ...   \n",
       "2  [\"2 (16 oz.) pkg. frozen corn\", \"1 (8 oz.) pkg...   \n",
       "3  [\"1 large whole chicken\", \"2 (10 1/2 oz.) cans...   \n",
       "4  [\"1 c. peanut butter\", \"3/4 c. graham cracker ...   \n",
       "\n",
       "                                          directions  \\\n",
       "0  [\"In a heavy 2-quart saucepan, mix brown sugar...   \n",
       "1  [\"Place chipped beef on bottom of baking dish....   \n",
       "2  [\"In a slow cooker, combine all ingredients. C...   \n",
       "3  [\"Boil and debone chicken.\", \"Put bite size pi...   \n",
       "4  [\"Combine first four ingredients and press in ...   \n",
       "\n",
       "                                              link    source  \\\n",
       "0   www.cookbooks.com/Recipe-Details.aspx?id=44874  Gathered   \n",
       "1  www.cookbooks.com/Recipe-Details.aspx?id=699419  Gathered   \n",
       "2   www.cookbooks.com/Recipe-Details.aspx?id=10570  Gathered   \n",
       "3  www.cookbooks.com/Recipe-Details.aspx?id=897570  Gathered   \n",
       "4  www.cookbooks.com/Recipe-Details.aspx?id=659239  Gathered   \n",
       "\n",
       "                                                 NER  \n",
       "0  [\"brown sugar\", \"milk\", \"vanilla\", \"nuts\", \"bu...  \n",
       "1  [\"beef\", \"chicken breasts\", \"cream of mushroom...  \n",
       "2  [\"frozen corn\", \"cream cheese\", \"butter\", \"gar...  \n",
       "3  [\"chicken\", \"chicken gravy\", \"cream of mushroo...  \n",
       "4  [\"peanut butter\", \"graham cracker crumbs\", \"bu...  "
      ]
     },
     "execution_count": 3,
     "metadata": {},
     "output_type": "execute_result"
    }
   ],
   "source": [
    "data.head()"
   ]
  },
  {
   "cell_type": "code",
   "execution_count": 4,
   "metadata": {},
   "outputs": [
    {
     "name": "stdout",
     "output_type": "stream",
     "text": [
      "<class 'pandas.core.frame.DataFrame'>\n",
      "RangeIndex: 2231142 entries, 0 to 2231141\n",
      "Data columns (total 7 columns):\n",
      " #   Column       Dtype \n",
      "---  ------       ----- \n",
      " 0   Unnamed: 0   int64 \n",
      " 1   title        object\n",
      " 2   ingredients  object\n",
      " 3   directions   object\n",
      " 4   link         object\n",
      " 5   source       object\n",
      " 6   NER          object\n",
      "dtypes: int64(1), object(6)\n",
      "memory usage: 119.2+ MB\n"
     ]
    }
   ],
   "source": [
    "data.info()"
   ]
  },
  {
   "cell_type": "code",
   "execution_count": 5,
   "metadata": {},
   "outputs": [
    {
     "data": {
      "text/plain": [
       "'[\"1 c. firmly packed brown sugar\", \"1/2 c. evaporated milk\", \"1/2 tsp. vanilla\", \"1/2 c. broken nuts (pecans)\", \"2 Tbsp. butter or margarine\", \"3 1/2 c. bite size shredded rice biscuits\"]'"
      ]
     },
     "execution_count": 5,
     "metadata": {},
     "output_type": "execute_result"
    }
   ],
   "source": [
    "data.ingredients[0]"
   ]
  },
  {
   "cell_type": "code",
   "execution_count": 6,
   "metadata": {},
   "outputs": [
    {
     "data": {
      "text/plain": [
       "'[\"In a heavy 2-quart saucepan, mix brown sugar, nuts, evaporated milk and butter or margarine.\", \"Stir over medium heat until mixture bubbles all over top.\", \"Boil and stir 5 minutes more. Take off heat.\", \"Stir in vanilla and cereal; mix well.\", \"Using 2 teaspoons, drop and shape into 30 clusters on wax paper.\", \"Let stand until firm, about 30 minutes.\"]'"
      ]
     },
     "execution_count": 6,
     "metadata": {},
     "output_type": "execute_result"
    }
   ],
   "source": [
    "data.directions[0]"
   ]
  },
  {
   "cell_type": "code",
   "execution_count": 7,
   "metadata": {},
   "outputs": [
    {
     "data": {
      "text/plain": [
       "'[\"brown sugar\", \"milk\", \"vanilla\", \"nuts\", \"butter\", \"bite size shredded rice biscuits\"]'"
      ]
     },
     "execution_count": 7,
     "metadata": {},
     "output_type": "execute_result"
    }
   ],
   "source": [
    "data.NER[0]"
   ]
  },
  {
   "cell_type": "code",
   "execution_count": 8,
   "metadata": {},
   "outputs": [
    {
     "data": {
      "text/plain": [
       "array(['Gathered', 'Recipes1M'], dtype=object)"
      ]
     },
     "execution_count": 8,
     "metadata": {},
     "output_type": "execute_result"
    }
   ],
   "source": [
    "data.source.unique()"
   ]
  },
  {
   "cell_type": "code",
   "execution_count": 9,
   "metadata": {},
   "outputs": [],
   "source": [
    "data = data.loc[data['source'] == 'Gathered']"
   ]
  },
  {
   "cell_type": "code",
   "execution_count": 10,
   "metadata": {},
   "outputs": [
    {
     "data": {
      "text/html": [
       "<div>\n",
       "<style scoped>\n",
       "    .dataframe tbody tr th:only-of-type {\n",
       "        vertical-align: middle;\n",
       "    }\n",
       "\n",
       "    .dataframe tbody tr th {\n",
       "        vertical-align: top;\n",
       "    }\n",
       "\n",
       "    .dataframe thead th {\n",
       "        text-align: right;\n",
       "    }\n",
       "</style>\n",
       "<table border=\"1\" class=\"dataframe\">\n",
       "  <thead>\n",
       "    <tr style=\"text-align: right;\">\n",
       "      <th></th>\n",
       "      <th>Unnamed: 0</th>\n",
       "      <th>title</th>\n",
       "      <th>ingredients</th>\n",
       "      <th>directions</th>\n",
       "      <th>link</th>\n",
       "      <th>source</th>\n",
       "      <th>NER</th>\n",
       "    </tr>\n",
       "  </thead>\n",
       "  <tbody>\n",
       "    <tr>\n",
       "      <th>0</th>\n",
       "      <td>0</td>\n",
       "      <td>No-Bake Nut Cookies</td>\n",
       "      <td>[\"1 c. firmly packed brown sugar\", \"1/2 c. eva...</td>\n",
       "      <td>[\"In a heavy 2-quart saucepan, mix brown sugar...</td>\n",
       "      <td>www.cookbooks.com/Recipe-Details.aspx?id=44874</td>\n",
       "      <td>Gathered</td>\n",
       "      <td>[\"brown sugar\", \"milk\", \"vanilla\", \"nuts\", \"bu...</td>\n",
       "    </tr>\n",
       "    <tr>\n",
       "      <th>1</th>\n",
       "      <td>1</td>\n",
       "      <td>Jewell Ball'S Chicken</td>\n",
       "      <td>[\"1 small jar chipped beef, cut up\", \"4 boned ...</td>\n",
       "      <td>[\"Place chipped beef on bottom of baking dish....</td>\n",
       "      <td>www.cookbooks.com/Recipe-Details.aspx?id=699419</td>\n",
       "      <td>Gathered</td>\n",
       "      <td>[\"beef\", \"chicken breasts\", \"cream of mushroom...</td>\n",
       "    </tr>\n",
       "    <tr>\n",
       "      <th>2</th>\n",
       "      <td>2</td>\n",
       "      <td>Creamy Corn</td>\n",
       "      <td>[\"2 (16 oz.) pkg. frozen corn\", \"1 (8 oz.) pkg...</td>\n",
       "      <td>[\"In a slow cooker, combine all ingredients. C...</td>\n",
       "      <td>www.cookbooks.com/Recipe-Details.aspx?id=10570</td>\n",
       "      <td>Gathered</td>\n",
       "      <td>[\"frozen corn\", \"cream cheese\", \"butter\", \"gar...</td>\n",
       "    </tr>\n",
       "    <tr>\n",
       "      <th>3</th>\n",
       "      <td>3</td>\n",
       "      <td>Chicken Funny</td>\n",
       "      <td>[\"1 large whole chicken\", \"2 (10 1/2 oz.) cans...</td>\n",
       "      <td>[\"Boil and debone chicken.\", \"Put bite size pi...</td>\n",
       "      <td>www.cookbooks.com/Recipe-Details.aspx?id=897570</td>\n",
       "      <td>Gathered</td>\n",
       "      <td>[\"chicken\", \"chicken gravy\", \"cream of mushroo...</td>\n",
       "    </tr>\n",
       "    <tr>\n",
       "      <th>4</th>\n",
       "      <td>4</td>\n",
       "      <td>Reeses Cups(Candy)</td>\n",
       "      <td>[\"1 c. peanut butter\", \"3/4 c. graham cracker ...</td>\n",
       "      <td>[\"Combine first four ingredients and press in ...</td>\n",
       "      <td>www.cookbooks.com/Recipe-Details.aspx?id=659239</td>\n",
       "      <td>Gathered</td>\n",
       "      <td>[\"peanut butter\", \"graham cracker crumbs\", \"bu...</td>\n",
       "    </tr>\n",
       "  </tbody>\n",
       "</table>\n",
       "</div>"
      ],
      "text/plain": [
       "   Unnamed: 0                  title  \\\n",
       "0           0    No-Bake Nut Cookies   \n",
       "1           1  Jewell Ball'S Chicken   \n",
       "2           2            Creamy Corn   \n",
       "3           3          Chicken Funny   \n",
       "4           4   Reeses Cups(Candy)     \n",
       "\n",
       "                                         ingredients  \\\n",
       "0  [\"1 c. firmly packed brown sugar\", \"1/2 c. eva...   \n",
       "1  [\"1 small jar chipped beef, cut up\", \"4 boned ...   \n",
       "2  [\"2 (16 oz.) pkg. frozen corn\", \"1 (8 oz.) pkg...   \n",
       "3  [\"1 large whole chicken\", \"2 (10 1/2 oz.) cans...   \n",
       "4  [\"1 c. peanut butter\", \"3/4 c. graham cracker ...   \n",
       "\n",
       "                                          directions  \\\n",
       "0  [\"In a heavy 2-quart saucepan, mix brown sugar...   \n",
       "1  [\"Place chipped beef on bottom of baking dish....   \n",
       "2  [\"In a slow cooker, combine all ingredients. C...   \n",
       "3  [\"Boil and debone chicken.\", \"Put bite size pi...   \n",
       "4  [\"Combine first four ingredients and press in ...   \n",
       "\n",
       "                                              link    source  \\\n",
       "0   www.cookbooks.com/Recipe-Details.aspx?id=44874  Gathered   \n",
       "1  www.cookbooks.com/Recipe-Details.aspx?id=699419  Gathered   \n",
       "2   www.cookbooks.com/Recipe-Details.aspx?id=10570  Gathered   \n",
       "3  www.cookbooks.com/Recipe-Details.aspx?id=897570  Gathered   \n",
       "4  www.cookbooks.com/Recipe-Details.aspx?id=659239  Gathered   \n",
       "\n",
       "                                                 NER  \n",
       "0  [\"brown sugar\", \"milk\", \"vanilla\", \"nuts\", \"bu...  \n",
       "1  [\"beef\", \"chicken breasts\", \"cream of mushroom...  \n",
       "2  [\"frozen corn\", \"cream cheese\", \"butter\", \"gar...  \n",
       "3  [\"chicken\", \"chicken gravy\", \"cream of mushroo...  \n",
       "4  [\"peanut butter\", \"graham cracker crumbs\", \"bu...  "
      ]
     },
     "execution_count": 10,
     "metadata": {},
     "output_type": "execute_result"
    }
   ],
   "source": [
    "data.head()"
   ]
  },
  {
   "cell_type": "code",
   "execution_count": 11,
   "metadata": {},
   "outputs": [
    {
     "data": {
      "text/plain": [
       "array(['Gathered'], dtype=object)"
      ]
     },
     "execution_count": 11,
     "metadata": {},
     "output_type": "execute_result"
    }
   ],
   "source": [
    "data.source.unique()"
   ]
  },
  {
   "cell_type": "code",
   "execution_count": 12,
   "metadata": {},
   "outputs": [
    {
     "name": "stdout",
     "output_type": "stream",
     "text": [
      "<class 'pandas.core.frame.DataFrame'>\n",
      "Int64Index: 1643098 entries, 0 to 1643097\n",
      "Data columns (total 7 columns):\n",
      " #   Column       Non-Null Count    Dtype \n",
      "---  ------       --------------    ----- \n",
      " 0   Unnamed: 0   1643098 non-null  int64 \n",
      " 1   title        1643098 non-null  object\n",
      " 2   ingredients  1643098 non-null  object\n",
      " 3   directions   1643098 non-null  object\n",
      " 4   link         1643098 non-null  object\n",
      " 5   source       1643098 non-null  object\n",
      " 6   NER          1643098 non-null  object\n",
      "dtypes: int64(1), object(6)\n",
      "memory usage: 100.3+ MB\n"
     ]
    }
   ],
   "source": [
    "data.info()"
   ]
  },
  {
   "cell_type": "code",
   "execution_count": 13,
   "metadata": {},
   "outputs": [
    {
     "data": {
      "text/html": [
       "<div>\n",
       "<style scoped>\n",
       "    .dataframe tbody tr th:only-of-type {\n",
       "        vertical-align: middle;\n",
       "    }\n",
       "\n",
       "    .dataframe tbody tr th {\n",
       "        vertical-align: top;\n",
       "    }\n",
       "\n",
       "    .dataframe thead th {\n",
       "        text-align: right;\n",
       "    }\n",
       "</style>\n",
       "<table border=\"1\" class=\"dataframe\">\n",
       "  <thead>\n",
       "    <tr style=\"text-align: right;\">\n",
       "      <th></th>\n",
       "      <th>Unnamed: 0</th>\n",
       "      <th>title</th>\n",
       "      <th>ingredients</th>\n",
       "      <th>directions</th>\n",
       "      <th>link</th>\n",
       "      <th>source</th>\n",
       "      <th>NER</th>\n",
       "    </tr>\n",
       "  </thead>\n",
       "  <tbody>\n",
       "    <tr>\n",
       "      <th>0</th>\n",
       "      <td>0</td>\n",
       "      <td>No-Bake Nut Cookies</td>\n",
       "      <td>[\"1 c. firmly packed brown sugar\", \"1/2 c. eva...</td>\n",
       "      <td>[\"In a heavy 2-quart saucepan, mix brown sugar...</td>\n",
       "      <td>www.cookbooks.com/Recipe-Details.aspx?id=44874</td>\n",
       "      <td>Gathered</td>\n",
       "      <td>[\"brown sugar\", \"milk\", \"vanilla\", \"nuts\", \"bu...</td>\n",
       "    </tr>\n",
       "    <tr>\n",
       "      <th>1</th>\n",
       "      <td>1</td>\n",
       "      <td>Jewell Ball'S Chicken</td>\n",
       "      <td>[\"1 small jar chipped beef, cut up\", \"4 boned ...</td>\n",
       "      <td>[\"Place chipped beef on bottom of baking dish....</td>\n",
       "      <td>www.cookbooks.com/Recipe-Details.aspx?id=699419</td>\n",
       "      <td>Gathered</td>\n",
       "      <td>[\"beef\", \"chicken breasts\", \"cream of mushroom...</td>\n",
       "    </tr>\n",
       "    <tr>\n",
       "      <th>2</th>\n",
       "      <td>2</td>\n",
       "      <td>Creamy Corn</td>\n",
       "      <td>[\"2 (16 oz.) pkg. frozen corn\", \"1 (8 oz.) pkg...</td>\n",
       "      <td>[\"In a slow cooker, combine all ingredients. C...</td>\n",
       "      <td>www.cookbooks.com/Recipe-Details.aspx?id=10570</td>\n",
       "      <td>Gathered</td>\n",
       "      <td>[\"frozen corn\", \"cream cheese\", \"butter\", \"gar...</td>\n",
       "    </tr>\n",
       "    <tr>\n",
       "      <th>3</th>\n",
       "      <td>3</td>\n",
       "      <td>Chicken Funny</td>\n",
       "      <td>[\"1 large whole chicken\", \"2 (10 1/2 oz.) cans...</td>\n",
       "      <td>[\"Boil and debone chicken.\", \"Put bite size pi...</td>\n",
       "      <td>www.cookbooks.com/Recipe-Details.aspx?id=897570</td>\n",
       "      <td>Gathered</td>\n",
       "      <td>[\"chicken\", \"chicken gravy\", \"cream of mushroo...</td>\n",
       "    </tr>\n",
       "    <tr>\n",
       "      <th>4</th>\n",
       "      <td>4</td>\n",
       "      <td>Reeses Cups(Candy)</td>\n",
       "      <td>[\"1 c. peanut butter\", \"3/4 c. graham cracker ...</td>\n",
       "      <td>[\"Combine first four ingredients and press in ...</td>\n",
       "      <td>www.cookbooks.com/Recipe-Details.aspx?id=659239</td>\n",
       "      <td>Gathered</td>\n",
       "      <td>[\"peanut butter\", \"graham cracker crumbs\", \"bu...</td>\n",
       "    </tr>\n",
       "  </tbody>\n",
       "</table>\n",
       "</div>"
      ],
      "text/plain": [
       "   Unnamed: 0                  title  \\\n",
       "0           0    No-Bake Nut Cookies   \n",
       "1           1  Jewell Ball'S Chicken   \n",
       "2           2            Creamy Corn   \n",
       "3           3          Chicken Funny   \n",
       "4           4   Reeses Cups(Candy)     \n",
       "\n",
       "                                         ingredients  \\\n",
       "0  [\"1 c. firmly packed brown sugar\", \"1/2 c. eva...   \n",
       "1  [\"1 small jar chipped beef, cut up\", \"4 boned ...   \n",
       "2  [\"2 (16 oz.) pkg. frozen corn\", \"1 (8 oz.) pkg...   \n",
       "3  [\"1 large whole chicken\", \"2 (10 1/2 oz.) cans...   \n",
       "4  [\"1 c. peanut butter\", \"3/4 c. graham cracker ...   \n",
       "\n",
       "                                          directions  \\\n",
       "0  [\"In a heavy 2-quart saucepan, mix brown sugar...   \n",
       "1  [\"Place chipped beef on bottom of baking dish....   \n",
       "2  [\"In a slow cooker, combine all ingredients. C...   \n",
       "3  [\"Boil and debone chicken.\", \"Put bite size pi...   \n",
       "4  [\"Combine first four ingredients and press in ...   \n",
       "\n",
       "                                              link    source  \\\n",
       "0   www.cookbooks.com/Recipe-Details.aspx?id=44874  Gathered   \n",
       "1  www.cookbooks.com/Recipe-Details.aspx?id=699419  Gathered   \n",
       "2   www.cookbooks.com/Recipe-Details.aspx?id=10570  Gathered   \n",
       "3  www.cookbooks.com/Recipe-Details.aspx?id=897570  Gathered   \n",
       "4  www.cookbooks.com/Recipe-Details.aspx?id=659239  Gathered   \n",
       "\n",
       "                                                 NER  \n",
       "0  [\"brown sugar\", \"milk\", \"vanilla\", \"nuts\", \"bu...  \n",
       "1  [\"beef\", \"chicken breasts\", \"cream of mushroom...  \n",
       "2  [\"frozen corn\", \"cream cheese\", \"butter\", \"gar...  \n",
       "3  [\"chicken\", \"chicken gravy\", \"cream of mushroo...  \n",
       "4  [\"peanut butter\", \"graham cracker crumbs\", \"bu...  "
      ]
     },
     "execution_count": 13,
     "metadata": {},
     "output_type": "execute_result"
    }
   ],
   "source": [
    "toy_data = data.iloc[:5]\n",
    "toy_data"
   ]
  },
  {
   "cell_type": "code",
   "execution_count": 14,
   "metadata": {},
   "outputs": [
    {
     "data": {
      "text/html": [
       "<div>\n",
       "<style scoped>\n",
       "    .dataframe tbody tr th:only-of-type {\n",
       "        vertical-align: middle;\n",
       "    }\n",
       "\n",
       "    .dataframe tbody tr th {\n",
       "        vertical-align: top;\n",
       "    }\n",
       "\n",
       "    .dataframe thead th {\n",
       "        text-align: right;\n",
       "    }\n",
       "</style>\n",
       "<table border=\"1\" class=\"dataframe\">\n",
       "  <thead>\n",
       "    <tr style=\"text-align: right;\">\n",
       "      <th></th>\n",
       "      <th>title</th>\n",
       "      <th>source</th>\n",
       "    </tr>\n",
       "  </thead>\n",
       "  <tbody>\n",
       "    <tr>\n",
       "      <th>0</th>\n",
       "      <td>No-Bake Nut Cookies</td>\n",
       "      <td>Gathered</td>\n",
       "    </tr>\n",
       "    <tr>\n",
       "      <th>1</th>\n",
       "      <td>Jewell Ball'S Chicken</td>\n",
       "      <td>Gathered</td>\n",
       "    </tr>\n",
       "    <tr>\n",
       "      <th>2</th>\n",
       "      <td>Creamy Corn</td>\n",
       "      <td>Gathered</td>\n",
       "    </tr>\n",
       "    <tr>\n",
       "      <th>3</th>\n",
       "      <td>Chicken Funny</td>\n",
       "      <td>Gathered</td>\n",
       "    </tr>\n",
       "    <tr>\n",
       "      <th>4</th>\n",
       "      <td>Reeses Cups(Candy)</td>\n",
       "      <td>Gathered</td>\n",
       "    </tr>\n",
       "  </tbody>\n",
       "</table>\n",
       "</div>"
      ],
      "text/plain": [
       "                   title    source\n",
       "0    No-Bake Nut Cookies  Gathered\n",
       "1  Jewell Ball'S Chicken  Gathered\n",
       "2            Creamy Corn  Gathered\n",
       "3          Chicken Funny  Gathered\n",
       "4   Reeses Cups(Candy)    Gathered"
      ]
     },
     "execution_count": 14,
     "metadata": {},
     "output_type": "execute_result"
    }
   ],
   "source": [
    "toy_data = toy_data[['title','source']]\n",
    "toy_data"
   ]
  },
  {
   "cell_type": "code",
   "execution_count": 15,
   "metadata": {},
   "outputs": [],
   "source": [
    "G = nx.Graph()"
   ]
  },
  {
   "cell_type": "code",
   "execution_count": 16,
   "metadata": {},
   "outputs": [],
   "source": [
    "G = nx.from_pandas_edgelist(toy_data, 'title', 'source')"
   ]
  },
  {
   "cell_type": "code",
   "execution_count": 17,
   "metadata": {},
   "outputs": [
    {
     "data": {
      "image/png": "[encoded data removed]",
      "text/plain": [
       "<Figure size 576x576 with 1 Axes>"
      ]
     },
     "metadata": {},
     "output_type": "display_data"
    }
   ],
   "source": [
    "plt.figure(figsize=(8,8))\n",
    "nx.draw_shell(G, with_labels=True)"
   ]
  },
  {
   "cell_type": "code",
   "execution_count": 18,
   "metadata": {},
   "outputs": [],
   "source": [
    "def literal_return(val):\n",
    "    try:\n",
    "        return literal_eval(val)\n",
    "    except (ValueError, SyntaxError) as e:\n",
    "        return val\n",
    "\n",
    "def df_str_to_literal(df, column_name):\n",
    "    df[column_name] = df[column_name].apply(literal_return)\n",
    "    return df[column_name]"
   ]
  },
  {
   "cell_type": "code",
   "execution_count": 19,
   "metadata": {},
   "outputs": [
    {
     "data": {
      "text/html": [
       "<div>\n",
       "<style scoped>\n",
       "    .dataframe tbody tr th:only-of-type {\n",
       "        vertical-align: middle;\n",
       "    }\n",
       "\n",
       "    .dataframe tbody tr th {\n",
       "        vertical-align: top;\n",
       "    }\n",
       "\n",
       "    .dataframe thead th {\n",
       "        text-align: right;\n",
       "    }\n",
       "</style>\n",
       "<table border=\"1\" class=\"dataframe\">\n",
       "  <thead>\n",
       "    <tr style=\"text-align: right;\">\n",
       "      <th></th>\n",
       "      <th>Unnamed: 0</th>\n",
       "      <th>title</th>\n",
       "      <th>ingredients</th>\n",
       "      <th>directions</th>\n",
       "      <th>link</th>\n",
       "      <th>source</th>\n",
       "      <th>NER</th>\n",
       "    </tr>\n",
       "  </thead>\n",
       "  <tbody>\n",
       "    <tr>\n",
       "      <th>415903</th>\n",
       "      <td>415903</td>\n",
       "      <td>Italian Baked Chicken</td>\n",
       "      <td>[\"boneless chicken breast filets\", \"mayonnaise...</td>\n",
       "      <td>[\"Cover each filet with mayonnaise and roll in...</td>\n",
       "      <td>www.cookbooks.com/Recipe-Details.aspx?id=677554</td>\n",
       "      <td>Gathered</td>\n",
       "      <td>[\"chicken breast filets\", \"mayonnaise\", \"Itali...</td>\n",
       "    </tr>\n",
       "    <tr>\n",
       "      <th>1374307</th>\n",
       "      <td>1374307</td>\n",
       "      <td>Grandma Joan'S Marshmallow Brownies</td>\n",
       "      <td>[\"For the brownies:\", \"4 squares (4 ounces) un...</td>\n",
       "      <td>[\"Grease a 9- by 13-inch baking pan and heat t...</td>\n",
       "      <td>food52.com/recipes/68173-grandma-joan-s-marshm...</td>\n",
       "      <td>Gathered</td>\n",
       "      <td>[\"brownies\", \"squares\", \"butter\", \"eggs\", \"sug...</td>\n",
       "    </tr>\n",
       "    <tr>\n",
       "      <th>851366</th>\n",
       "      <td>851366</td>\n",
       "      <td>Kraut Salad</td>\n",
       "      <td>[\"1 (1 lb.) can sauerkraut, rinsed and drained...</td>\n",
       "      <td>[\"Mix well and chill overnight.\"]</td>\n",
       "      <td>www.cookbooks.com/Recipe-Details.aspx?id=812727</td>\n",
       "      <td>Gathered</td>\n",
       "      <td>[\"sauerkraut\", \"sugar\", \"white vinegar\", \"cele...</td>\n",
       "    </tr>\n",
       "    <tr>\n",
       "      <th>41573</th>\n",
       "      <td>41573</td>\n",
       "      <td>Broccoli And Rice Casserole</td>\n",
       "      <td>[\"1 c. raw Minute rice\", \"2 pkg. frozen, chopp...</td>\n",
       "      <td>[\"Heat oven to 350\\u00b0.\", \"Combine ingredien...</td>\n",
       "      <td>www.cookbooks.com/Recipe-Details.aspx?id=259462</td>\n",
       "      <td>Gathered</td>\n",
       "      <td>[\"rice\", \"frozen\", \"butter\", \"onion\", \"milk\", ...</td>\n",
       "    </tr>\n",
       "    <tr>\n",
       "      <th>365261</th>\n",
       "      <td>365261</td>\n",
       "      <td>Lasagne</td>\n",
       "      <td>[\"1 clove garlic, minced\", \"1 medium onion, ch...</td>\n",
       "      <td>[\"Saute garlic and onion in small amount of fa...</td>\n",
       "      <td>www.cookbooks.com/Recipe-Details.aspx?id=560613</td>\n",
       "      <td>Gathered</td>\n",
       "      <td>[\"clove garlic\", \"onion\", \"lean ground beef\", ...</td>\n",
       "    </tr>\n",
       "    <tr>\n",
       "      <th>1053461</th>\n",
       "      <td>1053461</td>\n",
       "      <td>Chicken And Noodles (Crock Pot)</td>\n",
       "      <td>[\"3 -4 lbs chicken pieces (I use 4 chicken bre...</td>\n",
       "      <td>[\"Put all ingredients, except noodles, in croc...</td>\n",
       "      <td>www.food.com/recipe/chicken-and-noodles-crock-...</td>\n",
       "      <td>Gathered</td>\n",
       "      <td>[\"chicken\", \"chicken broth\", \"butter\", \"conden...</td>\n",
       "    </tr>\n",
       "    <tr>\n",
       "      <th>1445130</th>\n",
       "      <td>1445130</td>\n",
       "      <td>Citrus-Glazed Chicken Thighs</td>\n",
       "      <td>[\"1 cup orange juice\", \"2 tablespoons low-sodi...</td>\n",
       "      <td>[\"Place first 7 ingredients in a large zip-top...</td>\n",
       "      <td>www.myrecipes.com/recipe/citrus-glazed-chicken...</td>\n",
       "      <td>Gathered</td>\n",
       "      <td>[\"orange juice\", \"soy sauce\", \"honey\", \"garlic...</td>\n",
       "    </tr>\n",
       "    <tr>\n",
       "      <th>1512788</th>\n",
       "      <td>1512788</td>\n",
       "      <td>Mousse In A Minute</td>\n",
       "      <td>[\"1-1/2 cups whipped topping\", \"1 can (15-3/4 ...</td>\n",
       "      <td>[\"In a bowl, fold whipped topping into pie fil...</td>\n",
       "      <td>www.tasteofhome.com/recipes/mousse-in-a-minute/</td>\n",
       "      <td>Gathered</td>\n",
       "      <td>[\"topping\", \"lemon pie filling\", \"graham crack...</td>\n",
       "    </tr>\n",
       "    <tr>\n",
       "      <th>642249</th>\n",
       "      <td>642249</td>\n",
       "      <td>Cocoa \"Melt-In-Your-Mouth\" Cookie-Press Cookies</td>\n",
       "      <td>[\"1 c. butter or margarine\", \"2/3 c. sugar\", \"...</td>\n",
       "      <td>[\"Cream butter, sugar,\", \"egg\", \"and\\tvanilla\"...</td>\n",
       "      <td>www.cookbooks.com/Recipe-Details.aspx?id=325318</td>\n",
       "      <td>Gathered</td>\n",
       "      <td>[\"butter\", \"sugar\", \"egg\", \"vanilla\", \"flour\",...</td>\n",
       "    </tr>\n",
       "    <tr>\n",
       "      <th>1377467</th>\n",
       "      <td>1377467</td>\n",
       "      <td>Guilt-Free Creamy Greek Yogurt Avocado Dip</td>\n",
       "      <td>[\"1 avocado\", \"7 ounces fat free Fage Greek yo...</td>\n",
       "      <td>[\"In a blender or food processor blend avocado...</td>\n",
       "      <td>food52.com/recipes/33997-guilt-free-creamy-gre...</td>\n",
       "      <td>Gathered</td>\n",
       "      <td>[\"avocado\", \"Greek yogurt\", \"lime\", \"Salt\", \"P...</td>\n",
       "    </tr>\n",
       "  </tbody>\n",
       "</table>\n",
       "</div>"
      ],
      "text/plain": [
       "         Unnamed: 0                                            title  \\\n",
       "415903       415903                            Italian Baked Chicken   \n",
       "1374307     1374307              Grandma Joan'S Marshmallow Brownies   \n",
       "851366       851366                                      Kraut Salad   \n",
       "41573         41573                      Broccoli And Rice Casserole   \n",
       "365261       365261                                          Lasagne   \n",
       "1053461     1053461                  Chicken And Noodles (Crock Pot)   \n",
       "1445130     1445130                     Citrus-Glazed Chicken Thighs   \n",
       "1512788     1512788                               Mousse In A Minute   \n",
       "642249       642249  Cocoa \"Melt-In-Your-Mouth\" Cookie-Press Cookies   \n",
       "1377467     1377467       Guilt-Free Creamy Greek Yogurt Avocado Dip   \n",
       "\n",
       "                                               ingredients  \\\n",
       "415903   [\"boneless chicken breast filets\", \"mayonnaise...   \n",
       "1374307  [\"For the brownies:\", \"4 squares (4 ounces) un...   \n",
       "851366   [\"1 (1 lb.) can sauerkraut, rinsed and drained...   \n",
       "41573    [\"1 c. raw Minute rice\", \"2 pkg. frozen, chopp...   \n",
       "365261   [\"1 clove garlic, minced\", \"1 medium onion, ch...   \n",
       "1053461  [\"3 -4 lbs chicken pieces (I use 4 chicken bre...   \n",
       "1445130  [\"1 cup orange juice\", \"2 tablespoons low-sodi...   \n",
       "1512788  [\"1-1/2 cups whipped topping\", \"1 can (15-3/4 ...   \n",
       "642249   [\"1 c. butter or margarine\", \"2/3 c. sugar\", \"...   \n",
       "1377467  [\"1 avocado\", \"7 ounces fat free Fage Greek yo...   \n",
       "\n",
       "                                                directions  \\\n",
       "415903   [\"Cover each filet with mayonnaise and roll in...   \n",
       "1374307  [\"Grease a 9- by 13-inch baking pan and heat t...   \n",
       "851366                   [\"Mix well and chill overnight.\"]   \n",
       "41573    [\"Heat oven to 350\\u00b0.\", \"Combine ingredien...   \n",
       "365261   [\"Saute garlic and onion in small amount of fa...   \n",
       "1053461  [\"Put all ingredients, except noodles, in croc...   \n",
       "1445130  [\"Place first 7 ingredients in a large zip-top...   \n",
       "1512788  [\"In a bowl, fold whipped topping into pie fil...   \n",
       "642249   [\"Cream butter, sugar,\", \"egg\", \"and\\tvanilla\"...   \n",
       "1377467  [\"In a blender or food processor blend avocado...   \n",
       "\n",
       "                                                      link    source  \\\n",
       "415903     www.cookbooks.com/Recipe-Details.aspx?id=677554  Gathered   \n",
       "1374307  food52.com/recipes/68173-grandma-joan-s-marshm...  Gathered   \n",
       "851366     www.cookbooks.com/Recipe-Details.aspx?id=812727  Gathered   \n",
       "41573      www.cookbooks.com/Recipe-Details.aspx?id=259462  Gathered   \n",
       "365261     www.cookbooks.com/Recipe-Details.aspx?id=560613  Gathered   \n",
       "1053461  www.food.com/recipe/chicken-and-noodles-crock-...  Gathered   \n",
       "1445130  www.myrecipes.com/recipe/citrus-glazed-chicken...  Gathered   \n",
       "1512788    www.tasteofhome.com/recipes/mousse-in-a-minute/  Gathered   \n",
       "642249     www.cookbooks.com/Recipe-Details.aspx?id=325318  Gathered   \n",
       "1377467  food52.com/recipes/33997-guilt-free-creamy-gre...  Gathered   \n",
       "\n",
       "                                                       NER  \n",
       "415903   [\"chicken breast filets\", \"mayonnaise\", \"Itali...  \n",
       "1374307  [\"brownies\", \"squares\", \"butter\", \"eggs\", \"sug...  \n",
       "851366   [\"sauerkraut\", \"sugar\", \"white vinegar\", \"cele...  \n",
       "41573    [\"rice\", \"frozen\", \"butter\", \"onion\", \"milk\", ...  \n",
       "365261   [\"clove garlic\", \"onion\", \"lean ground beef\", ...  \n",
       "1053461  [\"chicken\", \"chicken broth\", \"butter\", \"conden...  \n",
       "1445130  [\"orange juice\", \"soy sauce\", \"honey\", \"garlic...  \n",
       "1512788  [\"topping\", \"lemon pie filling\", \"graham crack...  \n",
       "642249   [\"butter\", \"sugar\", \"egg\", \"vanilla\", \"flour\",...  \n",
       "1377467  [\"avocado\", \"Greek yogurt\", \"lime\", \"Salt\", \"P...  "
      ]
     },
     "execution_count": 19,
     "metadata": {},
     "output_type": "execute_result"
    }
   ],
   "source": [
    "toy_data = data.sample(frac=0.5, replace=False)\n",
    "toy_data.head(10)"
   ]
  },
  {
   "cell_type": "code",
   "execution_count": 20,
   "metadata": {},
   "outputs": [],
   "source": [
    "# toy_data.ingredients[1597583]"
   ]
  },
  {
   "cell_type": "code",
   "execution_count": 21,
   "metadata": {},
   "outputs": [],
   "source": [
    "def clean_df(df, columns_list):\n",
    "    for col in columns_list:\n",
    "        df[col] = df_str_to_literal(df, col)\n",
    "    return None"
   ]
  },
  {
   "cell_type": "code",
   "execution_count": 22,
   "metadata": {},
   "outputs": [],
   "source": [
    "clean_df(toy_data, ['ingredients', 'directions', 'NER'])"
   ]
  },
  {
   "cell_type": "code",
   "execution_count": 23,
   "metadata": {},
   "outputs": [
    {
     "data": {
      "text/html": [
       "<div>\n",
       "<style scoped>\n",
       "    .dataframe tbody tr th:only-of-type {\n",
       "        vertical-align: middle;\n",
       "    }\n",
       "\n",
       "    .dataframe tbody tr th {\n",
       "        vertical-align: top;\n",
       "    }\n",
       "\n",
       "    .dataframe thead th {\n",
       "        text-align: right;\n",
       "    }\n",
       "</style>\n",
       "<table border=\"1\" class=\"dataframe\">\n",
       "  <thead>\n",
       "    <tr style=\"text-align: right;\">\n",
       "      <th></th>\n",
       "      <th>Unnamed: 0</th>\n",
       "      <th>title</th>\n",
       "      <th>ingredients</th>\n",
       "      <th>directions</th>\n",
       "      <th>link</th>\n",
       "      <th>source</th>\n",
       "      <th>NER</th>\n",
       "    </tr>\n",
       "  </thead>\n",
       "  <tbody>\n",
       "    <tr>\n",
       "      <th>415903</th>\n",
       "      <td>415903</td>\n",
       "      <td>Italian Baked Chicken</td>\n",
       "      <td>[boneless chicken breast filets, mayonnaise, I...</td>\n",
       "      <td>[Cover each filet with mayonnaise and roll in ...</td>\n",
       "      <td>www.cookbooks.com/Recipe-Details.aspx?id=677554</td>\n",
       "      <td>Gathered</td>\n",
       "      <td>[chicken breast filets, mayonnaise, Italian br...</td>\n",
       "    </tr>\n",
       "    <tr>\n",
       "      <th>1374307</th>\n",
       "      <td>1374307</td>\n",
       "      <td>Grandma Joan'S Marshmallow Brownies</td>\n",
       "      <td>[For the brownies:, 4 squares (4 ounces) unswe...</td>\n",
       "      <td>[Grease a 9- by 13-inch baking pan and heat th...</td>\n",
       "      <td>food52.com/recipes/68173-grandma-joan-s-marshm...</td>\n",
       "      <td>Gathered</td>\n",
       "      <td>[brownies, squares, butter, eggs, sugar, vanil...</td>\n",
       "    </tr>\n",
       "    <tr>\n",
       "      <th>851366</th>\n",
       "      <td>851366</td>\n",
       "      <td>Kraut Salad</td>\n",
       "      <td>[1 (1 lb.) can sauerkraut, rinsed and drained,...</td>\n",
       "      <td>[Mix well and chill overnight.]</td>\n",
       "      <td>www.cookbooks.com/Recipe-Details.aspx?id=812727</td>\n",
       "      <td>Gathered</td>\n",
       "      <td>[sauerkraut, sugar, white vinegar, celery, oni...</td>\n",
       "    </tr>\n",
       "    <tr>\n",
       "      <th>41573</th>\n",
       "      <td>41573</td>\n",
       "      <td>Broccoli And Rice Casserole</td>\n",
       "      <td>[1 c. raw Minute rice, 2 pkg. frozen, chopped ...</td>\n",
       "      <td>[Heat oven to 350°., Combine ingredients and b...</td>\n",
       "      <td>www.cookbooks.com/Recipe-Details.aspx?id=259462</td>\n",
       "      <td>Gathered</td>\n",
       "      <td>[rice, frozen, butter, onion, milk, cream of c...</td>\n",
       "    </tr>\n",
       "    <tr>\n",
       "      <th>365261</th>\n",
       "      <td>365261</td>\n",
       "      <td>Lasagne</td>\n",
       "      <td>[1 clove garlic, minced, 1 medium onion, chopp...</td>\n",
       "      <td>[Saute garlic and onion in small amount of fat...</td>\n",
       "      <td>www.cookbooks.com/Recipe-Details.aspx?id=560613</td>\n",
       "      <td>Gathered</td>\n",
       "      <td>[clove garlic, onion, lean ground beef, tomato...</td>\n",
       "    </tr>\n",
       "  </tbody>\n",
       "</table>\n",
       "</div>"
      ],
      "text/plain": [
       "         Unnamed: 0                                title  \\\n",
       "415903       415903                Italian Baked Chicken   \n",
       "1374307     1374307  Grandma Joan'S Marshmallow Brownies   \n",
       "851366       851366                          Kraut Salad   \n",
       "41573         41573          Broccoli And Rice Casserole   \n",
       "365261       365261                              Lasagne   \n",
       "\n",
       "                                               ingredients  \\\n",
       "415903   [boneless chicken breast filets, mayonnaise, I...   \n",
       "1374307  [For the brownies:, 4 squares (4 ounces) unswe...   \n",
       "851366   [1 (1 lb.) can sauerkraut, rinsed and drained,...   \n",
       "41573    [1 c. raw Minute rice, 2 pkg. frozen, chopped ...   \n",
       "365261   [1 clove garlic, minced, 1 medium onion, chopp...   \n",
       "\n",
       "                                                directions  \\\n",
       "415903   [Cover each filet with mayonnaise and roll in ...   \n",
       "1374307  [Grease a 9- by 13-inch baking pan and heat th...   \n",
       "851366                     [Mix well and chill overnight.]   \n",
       "41573    [Heat oven to 350°., Combine ingredients and b...   \n",
       "365261   [Saute garlic and onion in small amount of fat...   \n",
       "\n",
       "                                                      link    source  \\\n",
       "415903     www.cookbooks.com/Recipe-Details.aspx?id=677554  Gathered   \n",
       "1374307  food52.com/recipes/68173-grandma-joan-s-marshm...  Gathered   \n",
       "851366     www.cookbooks.com/Recipe-Details.aspx?id=812727  Gathered   \n",
       "41573      www.cookbooks.com/Recipe-Details.aspx?id=259462  Gathered   \n",
       "365261     www.cookbooks.com/Recipe-Details.aspx?id=560613  Gathered   \n",
       "\n",
       "                                                       NER  \n",
       "415903   [chicken breast filets, mayonnaise, Italian br...  \n",
       "1374307  [brownies, squares, butter, eggs, sugar, vanil...  \n",
       "851366   [sauerkraut, sugar, white vinegar, celery, oni...  \n",
       "41573    [rice, frozen, butter, onion, milk, cream of c...  \n",
       "365261   [clove garlic, onion, lean ground beef, tomato...  "
      ]
     },
     "execution_count": 23,
     "metadata": {},
     "output_type": "execute_result"
    }
   ],
   "source": [
    "toy_data.head()"
   ]
  },
  {
   "cell_type": "code",
   "execution_count": 24,
   "metadata": {},
   "outputs": [],
   "source": [
    "# toy_data.ingredients[1597583]"
   ]
  },
  {
   "cell_type": "code",
   "execution_count": 25,
   "metadata": {},
   "outputs": [],
   "source": [
    "# toy_data.directions[1597583]"
   ]
  },
  {
   "cell_type": "code",
   "execution_count": 26,
   "metadata": {},
   "outputs": [],
   "source": [
    "# toy_data.NER[1597583]"
   ]
  },
  {
   "cell_type": "code",
   "execution_count": 27,
   "metadata": {},
   "outputs": [],
   "source": [
    "# toy_data.link[1597583]"
   ]
  },
  {
   "cell_type": "code",
   "execution_count": 28,
   "metadata": {},
   "outputs": [],
   "source": [
    "# path = urlparse(toy_data.link[0]).path\n",
    "# path"
   ]
  },
  {
   "cell_type": "code",
   "execution_count": 29,
   "metadata": {},
   "outputs": [],
   "source": [
    "# site = path.split('/')[0]\n",
    "# site"
   ]
  },
  {
   "cell_type": "code",
   "execution_count": 30,
   "metadata": {},
   "outputs": [],
   "source": [
    "def parse_link(link):\n",
    "    path = urlparse(link).path\n",
    "    site = path.split('/')[0]\n",
    "    return site\n",
    "\n",
    "def df_link_to_site(df, column_name, new_column_name):\n",
    "    df[new_column_name] = df[column_name].apply(parse_link)\n",
    "    return df[new_column_name]"
   ]
  },
  {
   "cell_type": "code",
   "execution_count": 31,
   "metadata": {},
   "outputs": [],
   "source": [
    "# toy_data['site'] = df_link_to_site(toy_data, 'link', 'site')\n",
    "# toy_data.head()"
   ]
  },
  {
   "cell_type": "code",
   "execution_count": 32,
   "metadata": {},
   "outputs": [
    {
     "data": {
      "text/html": [
       "<div>\n",
       "<style scoped>\n",
       "    .dataframe tbody tr th:only-of-type {\n",
       "        vertical-align: middle;\n",
       "    }\n",
       "\n",
       "    .dataframe tbody tr th {\n",
       "        vertical-align: top;\n",
       "    }\n",
       "\n",
       "    .dataframe thead th {\n",
       "        text-align: right;\n",
       "    }\n",
       "</style>\n",
       "<table border=\"1\" class=\"dataframe\">\n",
       "  <thead>\n",
       "    <tr style=\"text-align: right;\">\n",
       "      <th></th>\n",
       "      <th>Unnamed: 0</th>\n",
       "      <th>title</th>\n",
       "      <th>ingredients</th>\n",
       "      <th>directions</th>\n",
       "      <th>link</th>\n",
       "      <th>source</th>\n",
       "      <th>NER</th>\n",
       "      <th>bag_of_words</th>\n",
       "    </tr>\n",
       "  </thead>\n",
       "  <tbody>\n",
       "    <tr>\n",
       "      <th>415903</th>\n",
       "      <td>415903</td>\n",
       "      <td>Italian Baked Chicken</td>\n",
       "      <td>[boneless chicken breast filets, mayonnaise, I...</td>\n",
       "      <td>[Cover each filet with mayonnaise and roll in ...</td>\n",
       "      <td>www.cookbooks.com/Recipe-Details.aspx?id=677554</td>\n",
       "      <td>Gathered</td>\n",
       "      <td>[chicken breast filets, mayonnaise, Italian br...</td>\n",
       "      <td>Italian Baked Chicken boneless chicken breast ...</td>\n",
       "    </tr>\n",
       "    <tr>\n",
       "      <th>1374307</th>\n",
       "      <td>1374307</td>\n",
       "      <td>Grandma Joan'S Marshmallow Brownies</td>\n",
       "      <td>[For the brownies:, 4 squares (4 ounces) unswe...</td>\n",
       "      <td>[Grease a 9- by 13-inch baking pan and heat th...</td>\n",
       "      <td>food52.com/recipes/68173-grandma-joan-s-marshm...</td>\n",
       "      <td>Gathered</td>\n",
       "      <td>[brownies, squares, butter, eggs, sugar, vanil...</td>\n",
       "      <td>Grandma Joan'S Marshmallow Brownies For the br...</td>\n",
       "    </tr>\n",
       "    <tr>\n",
       "      <th>851366</th>\n",
       "      <td>851366</td>\n",
       "      <td>Kraut Salad</td>\n",
       "      <td>[1 (1 lb.) can sauerkraut, rinsed and drained,...</td>\n",
       "      <td>[Mix well and chill overnight.]</td>\n",
       "      <td>www.cookbooks.com/Recipe-Details.aspx?id=812727</td>\n",
       "      <td>Gathered</td>\n",
       "      <td>[sauerkraut, sugar, white vinegar, celery, oni...</td>\n",
       "      <td>Kraut Salad 1 (1 lb.) can sauerkraut, rinsed a...</td>\n",
       "    </tr>\n",
       "    <tr>\n",
       "      <th>41573</th>\n",
       "      <td>41573</td>\n",
       "      <td>Broccoli And Rice Casserole</td>\n",
       "      <td>[1 c. raw Minute rice, 2 pkg. frozen, chopped ...</td>\n",
       "      <td>[Heat oven to 350°., Combine ingredients and b...</td>\n",
       "      <td>www.cookbooks.com/Recipe-Details.aspx?id=259462</td>\n",
       "      <td>Gathered</td>\n",
       "      <td>[rice, frozen, butter, onion, milk, cream of c...</td>\n",
       "      <td>Broccoli And Rice Casserole 1 c. raw Minute ri...</td>\n",
       "    </tr>\n",
       "    <tr>\n",
       "      <th>365261</th>\n",
       "      <td>365261</td>\n",
       "      <td>Lasagne</td>\n",
       "      <td>[1 clove garlic, minced, 1 medium onion, chopp...</td>\n",
       "      <td>[Saute garlic and onion in small amount of fat...</td>\n",
       "      <td>www.cookbooks.com/Recipe-Details.aspx?id=560613</td>\n",
       "      <td>Gathered</td>\n",
       "      <td>[clove garlic, onion, lean ground beef, tomato...</td>\n",
       "      <td>Lasagne 1 clove garlic, minced 1 medium onion,...</td>\n",
       "    </tr>\n",
       "  </tbody>\n",
       "</table>\n",
       "</div>"
      ],
      "text/plain": [
       "         Unnamed: 0                                title  \\\n",
       "415903       415903                Italian Baked Chicken   \n",
       "1374307     1374307  Grandma Joan'S Marshmallow Brownies   \n",
       "851366       851366                          Kraut Salad   \n",
       "41573         41573          Broccoli And Rice Casserole   \n",
       "365261       365261                              Lasagne   \n",
       "\n",
       "                                               ingredients  \\\n",
       "415903   [boneless chicken breast filets, mayonnaise, I...   \n",
       "1374307  [For the brownies:, 4 squares (4 ounces) unswe...   \n",
       "851366   [1 (1 lb.) can sauerkraut, rinsed and drained,...   \n",
       "41573    [1 c. raw Minute rice, 2 pkg. frozen, chopped ...   \n",
       "365261   [1 clove garlic, minced, 1 medium onion, chopp...   \n",
       "\n",
       "                                                directions  \\\n",
       "415903   [Cover each filet with mayonnaise and roll in ...   \n",
       "1374307  [Grease a 9- by 13-inch baking pan and heat th...   \n",
       "851366                     [Mix well and chill overnight.]   \n",
       "41573    [Heat oven to 350°., Combine ingredients and b...   \n",
       "365261   [Saute garlic and onion in small amount of fat...   \n",
       "\n",
       "                                                      link    source  \\\n",
       "415903     www.cookbooks.com/Recipe-Details.aspx?id=677554  Gathered   \n",
       "1374307  food52.com/recipes/68173-grandma-joan-s-marshm...  Gathered   \n",
       "851366     www.cookbooks.com/Recipe-Details.aspx?id=812727  Gathered   \n",
       "41573      www.cookbooks.com/Recipe-Details.aspx?id=259462  Gathered   \n",
       "365261     www.cookbooks.com/Recipe-Details.aspx?id=560613  Gathered   \n",
       "\n",
       "                                                       NER  \\\n",
       "415903   [chicken breast filets, mayonnaise, Italian br...   \n",
       "1374307  [brownies, squares, butter, eggs, sugar, vanil...   \n",
       "851366   [sauerkraut, sugar, white vinegar, celery, oni...   \n",
       "41573    [rice, frozen, butter, onion, milk, cream of c...   \n",
       "365261   [clove garlic, onion, lean ground beef, tomato...   \n",
       "\n",
       "                                              bag_of_words  \n",
       "415903   Italian Baked Chicken boneless chicken breast ...  \n",
       "1374307  Grandma Joan'S Marshmallow Brownies For the br...  \n",
       "851366   Kraut Salad 1 (1 lb.) can sauerkraut, rinsed a...  \n",
       "41573    Broccoli And Rice Casserole 1 c. raw Minute ri...  \n",
       "365261   Lasagne 1 clove garlic, minced 1 medium onion,...  "
      ]
     },
     "execution_count": 32,
     "metadata": {},
     "output_type": "execute_result"
    }
   ],
   "source": [
    "toy_data['bag_of_words'] = ''\n",
    "columns_list = ['title', 'ingredients', 'directions']\n",
    "for col in columns_list:\n",
    "    if col == 'title':\n",
    "        toy_data['bag_of_words'] += toy_data[col] + ' '\n",
    "    #elif col != 'site':\n",
    "        #toy_data['bag_of_words'] += toy_data[col].apply(' '.join) + ' '\n",
    "    if col == 'ingredients':\n",
    "        toy_data['bag_of_words'] += toy_data[col].apply(' '.join) + ' '\n",
    "    if col == 'directions':\n",
    "        toy_data['bag_of_words'] += toy_data[col].apply(' '.join)\n",
    "#     if col == 'NER':\n",
    "#         toy_data['bag_of_words'] += toy_data[col].apply(' '.join)\n",
    "toy_data.head()"
   ]
  },
  {
   "cell_type": "code",
   "execution_count": 33,
   "metadata": {},
   "outputs": [],
   "source": [
    "# toy_data['bag_of_words'][1597583]"
   ]
  },
  {
   "cell_type": "code",
   "execution_count": 34,
   "metadata": {},
   "outputs": [
    {
     "data": {
      "text/html": [
       "<div>\n",
       "<style scoped>\n",
       "    .dataframe tbody tr th:only-of-type {\n",
       "        vertical-align: middle;\n",
       "    }\n",
       "\n",
       "    .dataframe tbody tr th {\n",
       "        vertical-align: top;\n",
       "    }\n",
       "\n",
       "    .dataframe thead th {\n",
       "        text-align: right;\n",
       "    }\n",
       "</style>\n",
       "<table border=\"1\" class=\"dataframe\">\n",
       "  <thead>\n",
       "    <tr style=\"text-align: right;\">\n",
       "      <th></th>\n",
       "      <th>title</th>\n",
       "      <th>bag_of_words</th>\n",
       "    </tr>\n",
       "  </thead>\n",
       "  <tbody>\n",
       "    <tr>\n",
       "      <th>415903</th>\n",
       "      <td>Italian Baked Chicken</td>\n",
       "      <td>Italian Baked Chicken boneless chicken breast ...</td>\n",
       "    </tr>\n",
       "    <tr>\n",
       "      <th>1374307</th>\n",
       "      <td>Grandma Joan'S Marshmallow Brownies</td>\n",
       "      <td>Grandma Joan'S Marshmallow Brownies For the br...</td>\n",
       "    </tr>\n",
       "    <tr>\n",
       "      <th>851366</th>\n",
       "      <td>Kraut Salad</td>\n",
       "      <td>Kraut Salad 1 (1 lb.) can sauerkraut, rinsed a...</td>\n",
       "    </tr>\n",
       "    <tr>\n",
       "      <th>41573</th>\n",
       "      <td>Broccoli And Rice Casserole</td>\n",
       "      <td>Broccoli And Rice Casserole 1 c. raw Minute ri...</td>\n",
       "    </tr>\n",
       "    <tr>\n",
       "      <th>365261</th>\n",
       "      <td>Lasagne</td>\n",
       "      <td>Lasagne 1 clove garlic, minced 1 medium onion,...</td>\n",
       "    </tr>\n",
       "  </tbody>\n",
       "</table>\n",
       "</div>"
      ],
      "text/plain": [
       "                                       title  \\\n",
       "415903                 Italian Baked Chicken   \n",
       "1374307  Grandma Joan'S Marshmallow Brownies   \n",
       "851366                           Kraut Salad   \n",
       "41573            Broccoli And Rice Casserole   \n",
       "365261                               Lasagne   \n",
       "\n",
       "                                              bag_of_words  \n",
       "415903   Italian Baked Chicken boneless chicken breast ...  \n",
       "1374307  Grandma Joan'S Marshmallow Brownies For the br...  \n",
       "851366   Kraut Salad 1 (1 lb.) can sauerkraut, rinsed a...  \n",
       "41573    Broccoli And Rice Casserole 1 c. raw Minute ri...  \n",
       "365261   Lasagne 1 clove garlic, minced 1 medium onion,...  "
      ]
     },
     "execution_count": 34,
     "metadata": {},
     "output_type": "execute_result"
    }
   ],
   "source": [
    "bow_toy_data = toy_data[['title','bag_of_words']]\n",
    "bow_toy_data.head()"
   ]
  },
  {
   "cell_type": "code",
   "execution_count": 35,
   "metadata": {},
   "outputs": [
    {
     "data": {
      "text/plain": [
       "415903     Italian Baked Chicken boneless chicken breast ...\n",
       "1374307    Grandma Joan'S Marshmallow Brownies For the br...\n",
       "851366     Kraut Salad 1 (1 lb.) can sauerkraut, rinsed a...\n",
       "41573      Broccoli And Rice Casserole 1 c. raw Minute ri...\n",
       "365261     Lasagne 1 clove garlic, minced 1 medium onion,...\n",
       "                                 ...                        \n",
       "381742     Broccoli Supreme Casserole 2 pkg. frozen, chop...\n",
       "1275259    Chicken Fajitas  4 skinless and boneless chick...\n",
       "351123     Sweet And Sour Pork Chops 4 to 6 pork chops sa...\n",
       "273188     Lasagne 1 1/2 lb. ground beef 2 Tbsp. garlic, ...\n",
       "149530     Pasta And Bean Soup 2 slices bacon 1 small oni...\n",
       "Name: bag_of_words, Length: 821549, dtype: object"
      ]
     },
     "execution_count": 35,
     "metadata": {},
     "output_type": "execute_result"
    }
   ],
   "source": [
    "documents = bow_toy_data.bag_of_words\n",
    "documents"
   ]
  },
  {
   "cell_type": "code",
   "execution_count": 36,
   "metadata": {},
   "outputs": [],
   "source": [
    "# toy_doc = documents[1597583]\n",
    "# toy_doc"
   ]
  },
  {
   "cell_type": "code",
   "execution_count": 37,
   "metadata": {},
   "outputs": [],
   "source": [
    "# toy_doc_lower = toy_doc.lower()"
   ]
  },
  {
   "cell_type": "code",
   "execution_count": 38,
   "metadata": {},
   "outputs": [],
   "source": [
    "# tokens = word_tokenize(toy_doc_lower)\n",
    "# tokens[:30]"
   ]
  },
  {
   "cell_type": "code",
   "execution_count": 39,
   "metadata": {},
   "outputs": [],
   "source": [
    "# punc = set(string.punctuation)\n",
    "# tokens_no_punc = [word for word in tokens if word not in punc]\n",
    "# tokens_no_punc[:30]"
   ]
  },
  {
   "cell_type": "code",
   "execution_count": 40,
   "metadata": {},
   "outputs": [],
   "source": [
    "# s_words = set(stopwords.words('english'))\n",
    "# tokens_no_sw = [word for word in tokens_no_punc if word not in s_words]\n",
    "# tokens_no_sw[:30]"
   ]
  },
  {
   "cell_type": "code",
   "execution_count": 41,
   "metadata": {},
   "outputs": [],
   "source": [
    "# porter = PS()\n",
    "# tokens_stemmed = [porter.stem(word) for word in tokens_no_sw]\n",
    "# tokens_stemmed[:30]"
   ]
  },
  {
   "cell_type": "code",
   "execution_count": 42,
   "metadata": {},
   "outputs": [],
   "source": [
    "# cleaned_doc = ' '.join(tokens_stemmed)\n",
    "# cleaned_doc"
   ]
  },
  {
   "cell_type": "code",
   "execution_count": 43,
   "metadata": {},
   "outputs": [],
   "source": [
    "def clean_document(document):\n",
    "    '''\n",
    "    Takes in a string.\n",
    "    Returns cleaned string.\n",
    "    '''\n",
    "    # lowercase the strings\n",
    "    doc_lower = document.lower() \n",
    "\n",
    "    #tokenize\n",
    "    tokens = word_tokenize(doc_lower) \n",
    "    \n",
    "    # remove punctuation\n",
    "    punc = set(string.punctuation)\n",
    "    tokens_no_punc = [word for word in tokens if word not in punc]\n",
    "   \n",
    "    # remove stopwords\n",
    "    s_words = set(stopwords.words('english'))\n",
    "    s_words_list = ['tablespoon', 'tbsp', 'teaspoon', 'tsp', 'cup', 'oz', 'lb', 'c.']\n",
    "    for word in s_words_list:\n",
    "        s_words.add(word)\n",
    "    tokens_no_sw = [word for word in tokens_no_punc if word not in s_words]\n",
    "    \n",
    "    # stem the words to get rid of multiple forms of the same word\n",
    "    porter = PS()\n",
    "    tokens_stemmed = [porter.stem(word) for word in tokens_no_sw]\n",
    "    \n",
    "    # join all words into one string\n",
    "    cleaned_doc = ' '.join(tokens_stemmed)\n",
    "    \n",
    "    return cleaned_doc"
   ]
  },
  {
   "cell_type": "code",
   "execution_count": 44,
   "metadata": {},
   "outputs": [
    {
     "name": "stderr",
     "output_type": "stream",
     "text": [
      "<ipython-input-44-c02e925e9c02>:1: SettingWithCopyWarning: \n",
      "A value is trying to be set on a copy of a slice from a DataFrame.\n",
      "Try using .loc[row_indexer,col_indexer] = value instead\n",
      "\n",
      "See the caveats in the documentation: https://pandas.pydata.org/pandas-docs/stable/user_guide/indexing.html#returning-a-view-versus-a-copy\n",
      "  bow_toy_data['cleaned_bow'] = toy_data['bag_of_words'].apply(clean_document)\n"
     ]
    },
    {
     "data": {
      "text/html": [
       "<div>\n",
       "<style scoped>\n",
       "    .dataframe tbody tr th:only-of-type {\n",
       "        vertical-align: middle;\n",
       "    }\n",
       "\n",
       "    .dataframe tbody tr th {\n",
       "        vertical-align: top;\n",
       "    }\n",
       "\n",
       "    .dataframe thead th {\n",
       "        text-align: right;\n",
       "    }\n",
       "</style>\n",
       "<table border=\"1\" class=\"dataframe\">\n",
       "  <thead>\n",
       "    <tr style=\"text-align: right;\">\n",
       "      <th></th>\n",
       "      <th>title</th>\n",
       "      <th>bag_of_words</th>\n",
       "      <th>cleaned_bow</th>\n",
       "    </tr>\n",
       "  </thead>\n",
       "  <tbody>\n",
       "    <tr>\n",
       "      <th>415903</th>\n",
       "      <td>Italian Baked Chicken</td>\n",
       "      <td>Italian Baked Chicken boneless chicken breast ...</td>\n",
       "      <td>italian bake chicken boneless chicken breast f...</td>\n",
       "    </tr>\n",
       "    <tr>\n",
       "      <th>1374307</th>\n",
       "      <td>Grandma Joan'S Marshmallow Brownies</td>\n",
       "      <td>Grandma Joan'S Marshmallow Brownies For the br...</td>\n",
       "      <td>grandma joan 's marshmallow browni browni 4 sq...</td>\n",
       "    </tr>\n",
       "    <tr>\n",
       "      <th>851366</th>\n",
       "      <td>Kraut Salad</td>\n",
       "      <td>Kraut Salad 1 (1 lb.) can sauerkraut, rinsed a...</td>\n",
       "      <td>kraut salad 1 1 sauerkraut rins drain 1 1/2 su...</td>\n",
       "    </tr>\n",
       "    <tr>\n",
       "      <th>41573</th>\n",
       "      <td>Broccoli And Rice Casserole</td>\n",
       "      <td>Broccoli And Rice Casserole 1 c. raw Minute ri...</td>\n",
       "      <td>broccoli rice casserol 1 raw minut rice 2 pkg ...</td>\n",
       "    </tr>\n",
       "    <tr>\n",
       "      <th>365261</th>\n",
       "      <td>Lasagne</td>\n",
       "      <td>Lasagne 1 clove garlic, minced 1 medium onion,...</td>\n",
       "      <td>lasagn 1 clove garlic minc 1 medium onion chop...</td>\n",
       "    </tr>\n",
       "    <tr>\n",
       "      <th>...</th>\n",
       "      <td>...</td>\n",
       "      <td>...</td>\n",
       "      <td>...</td>\n",
       "    </tr>\n",
       "    <tr>\n",
       "      <th>381742</th>\n",
       "      <td>Broccoli Supreme Casserole</td>\n",
       "      <td>Broccoli Supreme Casserole 2 pkg. frozen, chop...</td>\n",
       "      <td>broccoli suprem casserol 2 pkg frozen chop bro...</td>\n",
       "    </tr>\n",
       "    <tr>\n",
       "      <th>1275259</th>\n",
       "      <td>Chicken Fajitas</td>\n",
       "      <td>Chicken Fajitas  4 skinless and boneless chick...</td>\n",
       "      <td>chicken fajita 4 skinless boneless chicken-bre...</td>\n",
       "    </tr>\n",
       "    <tr>\n",
       "      <th>351123</th>\n",
       "      <td>Sweet And Sour Pork Chops</td>\n",
       "      <td>Sweet And Sour Pork Chops 4 to 6 pork chops sa...</td>\n",
       "      <td>sweet sour pork chop 4 6 pork chop salt pepper...</td>\n",
       "    </tr>\n",
       "    <tr>\n",
       "      <th>273188</th>\n",
       "      <td>Lasagne</td>\n",
       "      <td>Lasagne 1 1/2 lb. ground beef 2 Tbsp. garlic, ...</td>\n",
       "      <td>lasagn 1 1/2 ground beef 2 garlic chop 1 onion...</td>\n",
       "    </tr>\n",
       "    <tr>\n",
       "      <th>149530</th>\n",
       "      <td>Pasta And Bean Soup</td>\n",
       "      <td>Pasta And Bean Soup 2 slices bacon 1 small oni...</td>\n",
       "      <td>pasta bean soup 2 slice bacon 1 small onion 1 ...</td>\n",
       "    </tr>\n",
       "  </tbody>\n",
       "</table>\n",
       "<p>821549 rows × 3 columns</p>\n",
       "</div>"
      ],
      "text/plain": [
       "                                       title  \\\n",
       "415903                 Italian Baked Chicken   \n",
       "1374307  Grandma Joan'S Marshmallow Brownies   \n",
       "851366                           Kraut Salad   \n",
       "41573            Broccoli And Rice Casserole   \n",
       "365261                               Lasagne   \n",
       "...                                      ...   \n",
       "381742            Broccoli Supreme Casserole   \n",
       "1275259                     Chicken Fajitas    \n",
       "351123             Sweet And Sour Pork Chops   \n",
       "273188                               Lasagne   \n",
       "149530                   Pasta And Bean Soup   \n",
       "\n",
       "                                              bag_of_words  \\\n",
       "415903   Italian Baked Chicken boneless chicken breast ...   \n",
       "1374307  Grandma Joan'S Marshmallow Brownies For the br...   \n",
       "851366   Kraut Salad 1 (1 lb.) can sauerkraut, rinsed a...   \n",
       "41573    Broccoli And Rice Casserole 1 c. raw Minute ri...   \n",
       "365261   Lasagne 1 clove garlic, minced 1 medium onion,...   \n",
       "...                                                    ...   \n",
       "381742   Broccoli Supreme Casserole 2 pkg. frozen, chop...   \n",
       "1275259  Chicken Fajitas  4 skinless and boneless chick...   \n",
       "351123   Sweet And Sour Pork Chops 4 to 6 pork chops sa...   \n",
       "273188   Lasagne 1 1/2 lb. ground beef 2 Tbsp. garlic, ...   \n",
       "149530   Pasta And Bean Soup 2 slices bacon 1 small oni...   \n",
       "\n",
       "                                               cleaned_bow  \n",
       "415903   italian bake chicken boneless chicken breast f...  \n",
       "1374307  grandma joan 's marshmallow browni browni 4 sq...  \n",
       "851366   kraut salad 1 1 sauerkraut rins drain 1 1/2 su...  \n",
       "41573    broccoli rice casserol 1 raw minut rice 2 pkg ...  \n",
       "365261   lasagn 1 clove garlic minc 1 medium onion chop...  \n",
       "...                                                    ...  \n",
       "381742   broccoli suprem casserol 2 pkg frozen chop bro...  \n",
       "1275259  chicken fajita 4 skinless boneless chicken-bre...  \n",
       "351123   sweet sour pork chop 4 6 pork chop salt pepper...  \n",
       "273188   lasagn 1 1/2 ground beef 2 garlic chop 1 onion...  \n",
       "149530   pasta bean soup 2 slice bacon 1 small onion 1 ...  \n",
       "\n",
       "[821549 rows x 3 columns]"
      ]
     },
     "execution_count": 44,
     "metadata": {},
     "output_type": "execute_result"
    }
   ],
   "source": [
    "bow_toy_data['cleaned_bow'] = toy_data['bag_of_words'].apply(clean_document)\n",
    "bow_toy_data"
   ]
  },
  {
   "cell_type": "code",
   "execution_count": 45,
   "metadata": {},
   "outputs": [],
   "source": [
    "docs_cleaned = bow_toy_data['cleaned_bow']"
   ]
  },
  {
   "cell_type": "code",
   "execution_count": 46,
   "metadata": {},
   "outputs": [],
   "source": [
    "num_features = 500\n",
    "ngram_range=(1,2)\n",
    "\n",
    "vec = CountVectorizer(max_df=0.85, \n",
    "                      min_df=2,\n",
    "                      ngram_range=ngram_range,\n",
    "                      max_features=num_features)\n",
    "\n",
    "tf = vec.fit_transform(docs_cleaned)"
   ]
  },
  {
   "cell_type": "code",
   "execution_count": 47,
   "metadata": {},
   "outputs": [
    {
     "data": {
      "text/plain": [
       "500"
      ]
     },
     "execution_count": 47,
     "metadata": {},
     "output_type": "execute_result"
    }
   ],
   "source": [
    "tf_feature_names = vec.get_feature_names()\n",
    "len(tf_feature_names)"
   ]
  },
  {
   "cell_type": "code",
   "execution_count": 48,
   "metadata": {},
   "outputs": [
    {
     "data": {
      "text/plain": [
       "LatentDirichletAllocation(batch_size=32, doc_topic_prior=0.9,\n",
       "                          learning_method='online', learning_offset=50,\n",
       "                          n_components=100, n_jobs=-1, topic_word_prior=0.9)"
      ]
     },
     "execution_count": 48,
     "metadata": {},
     "output_type": "execute_result"
    }
   ],
   "source": [
    "num_topics = 100\n",
    "\n",
    "lda = LatentDirichletAllocation(n_components=num_topics,\n",
    "                                learning_method='online',\n",
    "                                learning_offset=50,\n",
    "                                doc_topic_prior=0.9,\n",
    "                                topic_word_prior=0.9,\n",
    "                                batch_size=32,\n",
    "                                n_jobs=-1)\n",
    "lda.fit(tf)"
   ]
  },
  {
   "cell_type": "code",
   "execution_count": 49,
   "metadata": {},
   "outputs": [],
   "source": [
    "def display_topics(model, feature_names, num_top_words):\n",
    "    for topic_idx, topic in enumerate(model.components_):\n",
    "        print(\"Topic %d:\" % (topic_idx))\n",
    "        print(\" \".join([feature_names[i]\n",
    "                        for i in topic.argsort()[:-num_top_words - 1:-1]]))\n",
    "\n",
    "# num_top_words = 30\n",
    "# display_topics(lda, tf_feature_names, num_top_words)"
   ]
  },
  {
   "cell_type": "code",
   "execution_count": 50,
   "metadata": {},
   "outputs": [],
   "source": [
    "# toy_data['bag_of_words'] = toy_data['NER'].apply(' '.join) + ' '\n",
    "# toy_data.head()"
   ]
  },
  {
   "cell_type": "code",
   "execution_count": 51,
   "metadata": {},
   "outputs": [],
   "source": [
    "# bow_toy_data = toy_data[['title','bag_of_words']]\n",
    "# bow_toy_data.head()"
   ]
  },
  {
   "cell_type": "code",
   "execution_count": 52,
   "metadata": {},
   "outputs": [],
   "source": [
    "# docs = bow_toy_data['bag_of_words']"
   ]
  },
  {
   "cell_type": "code",
   "execution_count": 53,
   "metadata": {},
   "outputs": [],
   "source": [
    "# num_features = None\n",
    "# ngram_range=(1,1)\n",
    "\n",
    "# vec = CountVectorizer(max_df=0.85, \n",
    "#                       min_df=2,\n",
    "#                       ngram_range=ngram_range,\n",
    "#                       max_features=num_features)\n",
    "\n",
    "# tf = vec.fit_transform(docs)"
   ]
  },
  {
   "cell_type": "code",
   "execution_count": 54,
   "metadata": {},
   "outputs": [],
   "source": [
    "# tf_feature_names = vec.get_feature_names()\n",
    "# len(tf_feature_names)"
   ]
  },
  {
   "cell_type": "code",
   "execution_count": 55,
   "metadata": {},
   "outputs": [],
   "source": [
    "# num_topics = 10\n",
    "\n",
    "# lda = LatentDirichletAllocation(n_components=num_topics,\n",
    "#                                 learning_method='online',\n",
    "#                                 random_state=0,\n",
    "#                                 n_jobs=-1)\n",
    "# lda.fit(tf)"
   ]
  },
  {
   "cell_type": "code",
   "execution_count": 56,
   "metadata": {},
   "outputs": [],
   "source": [
    "# num_top_words = 15\n",
    "# display_topics(lda, tf_feature_names, num_top_words)"
   ]
  },
  {
   "cell_type": "code",
   "execution_count": 57,
   "metadata": {},
   "outputs": [],
   "source": [
    "joblib.dump(lda, 'lda_model_6_tid.joblib')\n",
    "joblib.dump(vec, 'vec_6_tid.joblib')\n",
    "lda = joblib.load('lda_model_6_tid.joblib')\n",
    "tf_vectorizer = joblib.load('vec_6_tid.joblib')"
   ]
  },
  {
   "cell_type": "code",
   "execution_count": 58,
   "metadata": {},
   "outputs": [
    {
     "data": {
      "text/plain": [
       "257.09245845513874"
      ]
     },
     "execution_count": 58,
     "metadata": {},
     "output_type": "execute_result"
    }
   ],
   "source": [
    "lda.perplexity(tf)"
   ]
  },
  {
   "cell_type": "code",
   "execution_count": 59,
   "metadata": {},
   "outputs": [
    {
     "data": {
      "text/plain": [
       "-304230141.72516316"
      ]
     },
     "execution_count": 59,
     "metadata": {},
     "output_type": "execute_result"
    }
   ],
   "source": [
    "lda.score(tf)"
   ]
  },
  {
   "cell_type": "code",
   "execution_count": 60,
   "metadata": {},
   "outputs": [],
   "source": [
    "probs = lda.transform(tf)"
   ]
  },
  {
   "cell_type": "code",
   "execution_count": 61,
   "metadata": {},
   "outputs": [],
   "source": [
    "# probs[:5]"
   ]
  },
  {
   "cell_type": "code",
   "execution_count": 62,
   "metadata": {},
   "outputs": [],
   "source": [
    "# cos_dists = cosine_distances(probs)"
   ]
  },
  {
   "cell_type": "code",
   "execution_count": 63,
   "metadata": {},
   "outputs": [],
   "source": [
    "# keyword = 'bean'\n",
    "# recipes = bow_toy_data.title\n",
    "# idx_arr = np.array(recipes.index)\n",
    "# keyword_recipes = recipes[recipes.str.contains(keyword, case=False, regex=False)]\n",
    "# recipe_idx = recipes[recipes.str.contains(keyword, case=False, regex=False)].index[0]\n",
    "# keyword_idx = int(np.where(idx_arr == recipe_idx)[0])\n",
    "# keyword_idx"
   ]
  },
  {
   "cell_type": "code",
   "execution_count": 64,
   "metadata": {},
   "outputs": [],
   "source": [
    "# recipes.loc[recipes.index[keyword_idx]]"
   ]
  },
  {
   "cell_type": "code",
   "execution_count": 65,
   "metadata": {},
   "outputs": [],
   "source": [
    "# recipes.str.contains(keyword, case=False, regex=False)"
   ]
  },
  {
   "cell_type": "code",
   "execution_count": 66,
   "metadata": {},
   "outputs": [],
   "source": [
    "# cos_dist = cosine_distances(probs[keyword_idx].reshape(1, -1), probs)"
   ]
  },
  {
   "cell_type": "code",
   "execution_count": 67,
   "metadata": {},
   "outputs": [],
   "source": [
    "# sorted_sims = cos_dist.argsort()[::-1]\n",
    "# sorted_sims #most similar to least similar articles"
   ]
  },
  {
   "cell_type": "code",
   "execution_count": 68,
   "metadata": {},
   "outputs": [],
   "source": [
    "# #top ten closest articles:\n",
    "# np.array(recipes)[sorted_sims[:, 1:11]]"
   ]
  },
  {
   "cell_type": "code",
   "execution_count": 69,
   "metadata": {},
   "outputs": [],
   "source": [
    "def closest_recipes(keyword, recipes, probs, n_recipes=10):\n",
    "    idx_arr = np.array(recipes.index)\n",
    "    keyword_recipes = recipes[recipes.str.contains(keyword, case=False, regex=False)]\n",
    "    keyword_samples = np.random.choice(keyword_recipes.index, size=1000, replace=True)\n",
    "    keyword_idxs = []\n",
    "    for sample_idx in keyword_samples:\n",
    "        keyword_idx = int(np.where(idx_arr == sample_idx)[0])\n",
    "        keyword_idxs.append(keyword_idx)\n",
    "\n",
    "    d={}\n",
    "    for idx in keyword_idxs:\n",
    "        sims = cosine_distances(probs[idx].reshape(1, -1), probs).argsort()[0]\n",
    "        for sim in sims[1:n_recipes+1]:\n",
    "            if sim not in d:\n",
    "                d[sim] = 1\n",
    "            else:\n",
    "                d[sim] += 1\n",
    "                \n",
    "    d_sorted = [k for k, v in sorted(d.items(), key=lambda item: item[1])][:-n_recipes:-1]\n",
    "    print(f'Top {n_recipes} recipes most closely related to {keyword}')\n",
    "    return np.array(recipes)[d_sorted]"
   ]
  },
  {
   "cell_type": "code",
   "execution_count": 70,
   "metadata": {},
   "outputs": [],
   "source": [
    "# def closest_recipes(keyword, recipes, probs, n_docs=10):\n",
    "#     recipe_idx = recipes[recipes.str.contains(keyword, case=False, regex=False)].index[0]\n",
    "#     keyword_idx = int(np.where(idx_arr == recipe_idx)[0])\n",
    "#     sims = cosine_distances(probs[keyword_idx].reshape(1, -1), probs).argsort()[0]\n",
    "#     print(f'Top {n_docs} recipes most closely related to {keyword} (reference recipe: {recipes.loc[recipes.index[keyword_idx]]})')\n",
    "#     return np.array(recipes)[sims[1:n_docs+1]]"
   ]
  },
  {
   "cell_type": "code",
   "execution_count": 72,
   "metadata": {},
   "outputs": [],
   "source": [
    "recipes = bow_toy_data.title"
   ]
  },
  {
   "cell_type": "code",
   "execution_count": 73,
   "metadata": {},
   "outputs": [
    {
     "name": "stdout",
     "output_type": "stream",
     "text": [
      "Top 10 recipes most closely related to bean\n"
     ]
    },
    {
     "data": {
      "text/plain": [
       "array(['3 Bean Salad', 'Green Bean Casserole',\n",
       "       '\"Jack\\'S\" Crock-Pot Beans', 'Baked Bean Casserole',\n",
       "       'Green Beans Creole', 'Green Beans & Whole Grain Mustard',\n",
       "       'Settler Beans', 'Quick And Easy Cheese Bean Dip', 'Bean Hot Dish'],\n",
       "      dtype=object)"
      ]
     },
     "execution_count": 73,
     "metadata": {},
     "output_type": "execute_result"
    }
   ],
   "source": [
    "closest_recipes('bean', recipes, probs)"
   ]
  },
  {
   "cell_type": "code",
   "execution_count": 74,
   "metadata": {},
   "outputs": [
    {
     "name": "stdout",
     "output_type": "stream",
     "text": [
      "Top 10 recipes most closely related to vegan\n"
     ]
    },
    {
     "data": {
      "text/plain": [
       "array(['Raisin And Tamarind Chutney', 'Whole-Grain Pancakes',\n",
       "       'Vanilla Icing', 'Yummy Blackberry Breakfast Smoothies',\n",
       "       'Cheese Sauce Substitute', 'Plain Donuts', 'Anise Hyssop Cookies',\n",
       "       'Luscious Lemon Cookies (Raw Foods)', 'Homemade Mixed Nut Butter'],\n",
       "      dtype=object)"
      ]
     },
     "execution_count": 74,
     "metadata": {},
     "output_type": "execute_result"
    }
   ],
   "source": [
    "closest_recipes('vegan', recipes, probs)"
   ]
  },
  {
   "cell_type": "code",
   "execution_count": 75,
   "metadata": {},
   "outputs": [
    {
     "name": "stdout",
     "output_type": "stream",
     "text": [
      "Top 10 recipes most closely related to pepperoni pizza\n"
     ]
    },
    {
     "data": {
      "text/plain": [
       "array(['Pepperoni Pizza Dip', 'Pepperoni Pizza Dip',\n",
       "       'Pepperoni Pizza Dip', 'Pepperoni Pizza Dip',\n",
       "       'Pepperoni Pizza Dip', 'Pepperoni Pizza Dip',\n",
       "       'Pepperoni Pizza Dip', 'Pizza Dip', 'Pepperoni Pizza Dip'],\n",
       "      dtype=object)"
      ]
     },
     "execution_count": 75,
     "metadata": {},
     "output_type": "execute_result"
    }
   ],
   "source": [
    "closest_recipes('pepperoni pizza', recipes, probs)"
   ]
  },
  {
   "cell_type": "code",
   "execution_count": 76,
   "metadata": {},
   "outputs": [
    {
     "name": "stdout",
     "output_type": "stream",
     "text": [
      "Top 10 recipes most closely related to spaghetti\n"
     ]
    },
    {
     "data": {
      "text/plain": [
       "array(['Spaghetti Sauce', 'Spaghetti Sauce With Meat', 'Spaghetti Sauce',\n",
       "       \"Janet'S Spaghetti\", 'Chicken Rotel', 'Spaghetti Salad',\n",
       "       'Chicken Spaghetti', 'Goulash', 'Spaghetti Sauce'], dtype=object)"
      ]
     },
     "execution_count": 76,
     "metadata": {},
     "output_type": "execute_result"
    }
   ],
   "source": [
    "closest_recipes('spaghetti', recipes, probs)"
   ]
  },
  {
   "cell_type": "code",
   "execution_count": 77,
   "metadata": {},
   "outputs": [
    {
     "name": "stdout",
     "output_type": "stream",
     "text": [
      "Top 10 recipes most closely related to chicken soup\n"
     ]
    },
    {
     "data": {
      "text/plain": [
       "array(['Chicken Soup', 'Chicken Soup Broth ',\n",
       "       'Chicken And Dumplings(4 Servings)  ', 'Prairie Chicken Soup',\n",
       "       'Chicken Soup', 'Crouton Soup', 'Homemade Chicken Soup',\n",
       "       \"Granny'S Chicken Soup\", 'Eggie Soup'], dtype=object)"
      ]
     },
     "execution_count": 77,
     "metadata": {},
     "output_type": "execute_result"
    }
   ],
   "source": [
    "closest_recipes('chicken soup', recipes, probs)"
   ]
  },
  {
   "cell_type": "markdown",
   "metadata": {},
   "source": [
    "Need to experiment with different parameters with the model, as well as the bag of words contents. First, let's see if we can identify the \"best\" number of topics using KMeans clustering."
   ]
  },
  {
   "cell_type": "code",
   "execution_count": null,
   "metadata": {},
   "outputs": [],
   "source": [
    "vectorizer = TfidfVectorizer(max_features=1000)\n",
    "docs_vec = vectorizer.fit_transform(docs_cleaned)\n",
    "features = vectorizer.get_feature_names()"
   ]
  },
  {
   "cell_type": "code",
   "execution_count": null,
   "metadata": {},
   "outputs": [],
   "source": [
    "k=100\n",
    "kmeans = KMeans(n_clusters=k)\n",
    "kmeans.fit(docs_vec)\n",
    "score = silhouette_score(docs_vec, kmeans.labels_)\n",
    "print(f'k = {k}, silhouette score = {score}')"
   ]
  },
  {
   "cell_type": "code",
   "execution_count": null,
   "metadata": {},
   "outputs": [],
   "source": [
    "# ks = [k for k in range(10, 101, 10)]\n",
    "# scores = []\n",
    "# for k in ks:\n",
    "#     kmeans = KMeans(n_clusters=k)\n",
    "#     kmeans.fit(docs_vec)\n",
    "#     score = silhouette_score(docs_vec, kmeans.labels_)\n",
    "#     scores.append(score)\n",
    "#     print(f'k = {k}, silhouette score = {score}')"
   ]
  },
  {
   "cell_type": "markdown",
   "metadata": {},
   "source": [
    "Doesn't seem like going above 100 clusters does much to improve the score. k = 100, score = 0.0452"
   ]
  },
  {
   "cell_type": "code",
   "execution_count": null,
   "metadata": {},
   "outputs": [],
   "source": [
    "# ks = [k for k in range(110, 301, 10)]\n",
    "# scores = []\n",
    "# for k in ks:\n",
    "#     kmeans = KMeans(n_clusters=k)\n",
    "#     kmeans.fit(docs_vec)\n",
    "#     score = silhouette_score(docs_vec, kmeans.labels_)\n",
    "#     scores.append(score)\n",
    "#     print(f'k = {k}, silhouette score = {score}')"
   ]
  },
  {
   "cell_type": "code",
   "execution_count": null,
   "metadata": {},
   "outputs": [],
   "source": [
    "# Find the top 10 features for each cluster.\n",
    "n_features = 10\n",
    "top_centroids = kmeans.cluster_centers_.argsort()[:,-1:-(n_features+1):-1]\n",
    "print(\"top features (words) for each cluster:\")\n",
    "for num, centroid in enumerate(top_centroids):\n",
    "    print(f\"{num}, {', '.join(features[i] for i in centroid)}\")"
   ]
  },
  {
   "cell_type": "code",
   "execution_count": null,
   "metadata": {},
   "outputs": [],
   "source": [
    "print(\"Random sample of texts in each cluster \\n\")\n",
    "assigned_cluster = kmeans.transform(docs_vec).argmin(axis=1)\n",
    "for i in range(kmeans.n_clusters):\n",
    "    cluster = np.arange(0, docs_vec.shape[0])[assigned_cluster==i]\n",
    "    sample_recipes = np.random.choice(cluster, 10, replace=False)\n",
    "    \n",
    "    print(f'\\n cluster {i}:')\n",
    "    for idx in sample_recipes:\n",
    "        print(f'{recipes.iloc[idx]}')"
   ]
  },
  {
   "cell_type": "code",
   "execution_count": null,
   "metadata": {},
   "outputs": [],
   "source": []
  }
 ],
 "metadata": {
  "kernelspec": {
   "display_name": "Python 3",
   "language": "python",
   "name": "python3"
  },
  "language_info": {
   "codemirror_mode": {
    "name": "ipython",
    "version": 3
   },
   "file_extension": ".py",
   "mimetype": "text/x-python",
   "name": "python",
   "nbconvert_exporter": "python",
   "pygments_lexer": "ipython3",
   "version": "3.8.6"
  }
 },
 "nbformat": 4,
 "nbformat_minor": 4
}
