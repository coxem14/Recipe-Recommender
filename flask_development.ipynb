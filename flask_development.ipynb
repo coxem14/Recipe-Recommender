{
 "cells": [
  {
   "cell_type": "code",
   "execution_count": 5,
   "metadata": {},
   "outputs": [
    {
     "name": "stderr",
     "output_type": "stream",
     "text": [
      "[nltk_data] Downloading package stopwords to /Users/coxem/nltk_data...\n",
      "[nltk_data]   Package stopwords is already up-to-date!\n",
      "[nltk_data] Downloading package punkt to /Users/coxem/nltk_data...\n",
      "[nltk_data]   Package punkt is already up-to-date!\n"
     ]
    }
   ],
   "source": [
    "import pandas as pd\n",
    "import numpy as np\n",
    "import networkx as nx\n",
    "import matplotlib.pyplot as plt\n",
    "\n",
    "from ast import literal_eval\n",
    "\n",
    "from urllib.parse import urlparse\n",
    "\n",
    "from sklearn.feature_extraction.text import CountVectorizer, TfidfVectorizer\n",
    "from sklearn.decomposition import LatentDirichletAllocation\n",
    "from sklearn.metrics.pairwise import cosine_similarity, cosine_distances\n",
    "from sklearn.metrics import jaccard_score\n",
    "from sklearn.cluster import KMeans\n",
    "from sklearn.metrics import silhouette_score\n",
    "from sklearn.model_selection import train_test_split, RandomizedSearchCV\n",
    "\n",
    "import string\n",
    "import nltk\n",
    "nltk.download('stopwords')\n",
    "nltk.download('punkt')\n",
    "from nltk.corpus import stopwords\n",
    "from nltk.tokenize import word_tokenize\n",
    "from nltk.stem.porter import PorterStemmer as PS\n",
    "\n",
    "import joblib\n",
    "\n",
    "import pprint\n",
    "\n",
    "import pickle"
   ]
  },
  {
   "cell_type": "code",
   "execution_count": 6,
   "metadata": {},
   "outputs": [],
   "source": [
    "# data = pd.read_csv('dataset/full_dataset.csv')\n",
    "# data = pd.read_csv('../dataset/full_dataset.csv')"
   ]
  },
  {
   "cell_type": "code",
   "execution_count": 7,
   "metadata": {},
   "outputs": [],
   "source": [
    "# toy_data = data.sample(frac=0.1, replace=False)\n",
    "# toy_data.head(10)"
   ]
  },
  {
   "cell_type": "code",
   "execution_count": 8,
   "metadata": {},
   "outputs": [],
   "source": [
    "# toy_data.info()"
   ]
  },
  {
   "cell_type": "code",
   "execution_count": 9,
   "metadata": {},
   "outputs": [],
   "source": [
    "# def literal_return(val):\n",
    "#     try:\n",
    "#         return literal_eval(val)\n",
    "#     except (ValueError, SyntaxError) as e:\n",
    "#         return val\n",
    "\n",
    "# def df_str_to_literal(df, column_name):\n",
    "#     df[column_name] = df[column_name].apply(literal_return)\n",
    "#     return df[column_name]"
   ]
  },
  {
   "cell_type": "code",
   "execution_count": 10,
   "metadata": {},
   "outputs": [],
   "source": [
    "# def clean_df(df, columns_list):\n",
    "#     for col in columns_list:\n",
    "#         df[col] = df_str_to_literal(df, col)\n",
    "#     return None"
   ]
  },
  {
   "cell_type": "code",
   "execution_count": 11,
   "metadata": {},
   "outputs": [],
   "source": [
    "# clean_df(toy_data, ['ingredients', 'directions', 'NER'])"
   ]
  },
  {
   "cell_type": "code",
   "execution_count": 12,
   "metadata": {},
   "outputs": [],
   "source": [
    "# toy_data.head()"
   ]
  },
  {
   "cell_type": "code",
   "execution_count": 13,
   "metadata": {},
   "outputs": [],
   "source": [
    "# toy_data['bag_of_words'] = ''\n",
    "# columns_list = ['title', 'ingredients', 'directions']\n",
    "# for col in columns_list:\n",
    "#     if col == 'title':\n",
    "#         toy_data['bag_of_words'] += toy_data[col] + ' '\n",
    "#     if col == 'ingredients':\n",
    "#         toy_data['bag_of_words'] += toy_data[col].apply(' '.join) + ' '\n",
    "#     if col == 'directions':\n",
    "#         toy_data['bag_of_words'] += toy_data[col].apply(' '.join)\n",
    "# toy_data.head()"
   ]
  },
  {
   "cell_type": "code",
   "execution_count": 14,
   "metadata": {},
   "outputs": [],
   "source": [
    "# bow_toy_data = toy_data[['title','bag_of_words']]\n",
    "# bow_toy_data.head()"
   ]
  },
  {
   "cell_type": "code",
   "execution_count": 15,
   "metadata": {},
   "outputs": [],
   "source": [
    "# documents = bow_toy_data.bag_of_words"
   ]
  },
  {
   "cell_type": "code",
   "execution_count": 16,
   "metadata": {},
   "outputs": [],
   "source": [
    "# def clean_document(document):\n",
    "#     '''\n",
    "#     Takes in a string.\n",
    "#     Returns cleaned string.\n",
    "#     '''\n",
    "#     # lowercase the strings\n",
    "#     doc_lower = document.lower() \n",
    "\n",
    "#     #tokenize\n",
    "#     tokens = word_tokenize(doc_lower) \n",
    "    \n",
    "#     # remove punctuation\n",
    "#     punc = set(string.punctuation)\n",
    "#     tokens_no_punc = [word for word in tokens if word not in punc]\n",
    "   \n",
    "#     # remove stopwords\n",
    "#     s_words = set(stopwords.words('english'))\n",
    "#     s_words_list = ['tablespoon', 'tbsp', 'teaspoon', 'tsp', 'cup', 'oz', 'lb', 'c.']\n",
    "#     for word in s_words_list:\n",
    "#         s_words.add(word)\n",
    "#     tokens_no_sw = [word for word in tokens_no_punc if word not in s_words]\n",
    "    \n",
    "#     # stem the words to get rid of multiple forms of the same word\n",
    "#     porter = PS()\n",
    "#     tokens_stemmed = [porter.stem(word) for word in tokens_no_sw]\n",
    "    \n",
    "#     # join all words into one string\n",
    "#     cleaned_doc = ' '.join(tokens_stemmed)\n",
    "    \n",
    "#     return cleaned_doc"
   ]
  },
  {
   "cell_type": "code",
   "execution_count": 17,
   "metadata": {},
   "outputs": [],
   "source": [
    "# bow_toy_data['cleaned_bow'] = toy_data['bag_of_words'].apply(clean_document)\n",
    "# bow_toy_data"
   ]
  },
  {
   "cell_type": "code",
   "execution_count": 18,
   "metadata": {},
   "outputs": [],
   "source": [
    "# docs_cleaned = bow_toy_data['cleaned_bow']"
   ]
  },
  {
   "cell_type": "code",
   "execution_count": 19,
   "metadata": {},
   "outputs": [],
   "source": [
    "lda = joblib.load('./models/lda_model_6_tid.joblib')\n",
    "tf_vectorizer = joblib.load('./models/vec_6_tid.joblib')"
   ]
  },
  {
   "cell_type": "code",
   "execution_count": 20,
   "metadata": {},
   "outputs": [],
   "source": [
    "with open('./flask_app/df.pkl', 'rb') as f:\n",
    "    df = pickle.load(f)"
   ]
  },
  {
   "cell_type": "code",
   "execution_count": 54,
   "metadata": {},
   "outputs": [
    {
     "data": {
      "text/plain": [
       "['./models/vec_6_tid_pickle4.joblib']"
      ]
     },
     "execution_count": 54,
     "metadata": {},
     "output_type": "execute_result"
    }
   ],
   "source": [
    "joblib.dump(lda, './models/lda_model_6_tid_pickle4.joblib', protocol=4)\n",
    "joblib.dump(tf_vectorizer, './models/vec_6_tid_pickle4.joblib', protocol=4)"
   ]
  },
  {
   "cell_type": "code",
   "execution_count": 21,
   "metadata": {},
   "outputs": [],
   "source": [
    "docs = df['cleaned_bow']"
   ]
  },
  {
   "cell_type": "code",
   "execution_count": 22,
   "metadata": {},
   "outputs": [],
   "source": [
    "tf = tf_vectorizer.fit_transform(docs)"
   ]
  },
  {
   "cell_type": "code",
   "execution_count": 23,
   "metadata": {},
   "outputs": [],
   "source": [
    "# lda.perplexity(tf)"
   ]
  },
  {
   "cell_type": "code",
   "execution_count": 24,
   "metadata": {},
   "outputs": [],
   "source": [
    "probs = lda.transform(tf)"
   ]
  },
  {
   "cell_type": "code",
   "execution_count": 25,
   "metadata": {},
   "outputs": [],
   "source": [
    "def get_keyword_idxs(keyword, recipes):\n",
    "    idx_arr = np.array(recipes.index)\n",
    "    keyword_recipes = recipes[recipes.str.contains(keyword, case=False, regex=False)]\n",
    "    keyword_samples = np.random.choice(keyword_recipes.index, size=min(len(keyword_recipes), 50), replace=False)\n",
    "    keyword_idxs = []\n",
    "    for sample_idx in keyword_samples:\n",
    "        keyword_idx = int(np.where(idx_arr == sample_idx)[0])\n",
    "        keyword_idxs.append(keyword_idx)\n",
    "    return keyword_idxs"
   ]
  },
  {
   "cell_type": "code",
   "execution_count": 26,
   "metadata": {},
   "outputs": [],
   "source": [
    "def get_sample_recipes(keyword, recipes):\n",
    "    keyword_idxs = get_keyword_idxs(keyword, recipes)\n",
    "    print(f'Recipe samples for {keyword}')\n",
    "    return np.array(recipes)[keyword_idxs]"
   ]
  },
  {
   "cell_type": "code",
   "execution_count": 44,
   "metadata": {},
   "outputs": [],
   "source": [
    "def closest_recipes(keyword, recipes, probs, n_recipes=10):\n",
    "    keyword_idxs = get_keyword_idxs(keyword, recipes)\n",
    "    \n",
    "    d={}\n",
    "    for idx in keyword_idxs:\n",
    "        sims = cosine_distances(probs[idx].reshape(1, -1), probs).argsort()[0]\n",
    "        for sim in sims[1:n_recipes+1]:\n",
    "            if sim not in d:\n",
    "                d[sim] = 1\n",
    "            else:\n",
    "                d[sim] += 1\n",
    "                \n",
    "    rec_idxs = [k for k, v in sorted(d.items(), key=lambda item: item[1])][:-n_recipes:-1]\n",
    "    \n",
    "    recipe_recs = np.array(recipes)[rec_idxs]\n",
    "    \n",
    "    reference_recipes = np.array(recipes)[keyword_idxs]\n",
    "    \n",
    "    return recipe_recs, rec_idxs, reference_recipes, keyword_idxs"
   ]
  },
  {
   "cell_type": "code",
   "execution_count": 40,
   "metadata": {},
   "outputs": [],
   "source": [
    "recipes = df.title"
   ]
  },
  {
   "cell_type": "code",
   "execution_count": 45,
   "metadata": {},
   "outputs": [
    {
     "name": "stdout",
     "output_type": "stream",
     "text": [
      "Top 10 recipes for \"pizza\":\n",
      "['Barbecue Oysters' 'Beef And Kidney Pie' 'Pizzicate Pizzas' 'Easy Pizza'\n",
      " \"Lee'S Spaghetti Sauce(Makes 4 To 6 Servings)  \" 'Pizza Crackers'\n",
      " 'Strudel Dough' 'Fast pizza' 'Puffed Pastry Pizza']\n",
      "\n",
      "Based on recipe samples:\n",
      "['Elbow Mac Pepperoni Pizza' 'Pizza puff' 'Taco Pizza Dip'\n",
      " 'Pizza Casserole' \"Prissy'S Pizza Dust\"\n",
      " 'Tuna, Roast Pepper And Pesto Pizzas' 'Pizza Dough' 'Pizza Hot Dish'\n",
      " 'Pizza Pinwheels' 'Pepperoni Pizza Nachos' 'Vegetable Pizza'\n",
      " 'Fruit Pizza' 'Ny Style Pizza With Arugula, Sausage And Cheese #Ragu'\n",
      " 'Vegetable And Goat Cheese Pizza' 'Pizza Casserole' 'Mini Pizzas'\n",
      " 'Blt Pizza' 'Deep Dish Taco Pizza' 'Fruit Pizza' 'Caramel Brownie Pizza'\n",
      " 'Mexican Pizzas' 'Grilled Bbq Cheddar Chicken Pizza'\n",
      " 'Zucchini And Roquefort Pizza' 'Veal Chops Pizzaiolo'\n",
      " 'Double Crust Pizza Casserole' 'Spinach And Mushroom Pizza' 'Pizza Bites'\n",
      " 'Lava Pizza Dip' 'Breakfast Pizza'\n",
      " 'Gorgonzola and Arugula Pizza with Caramelized Onions'\n",
      " \"Pyro's Bar & Grill french bread pizza\" 'Upside-Down Pizza'\n",
      " 'The Secret To Great Pizza Is Finally Revealed ' 'Pizza Dip'\n",
      " 'Low Calorie Pizza' 'Deep-Dish Spinach Pizza'\n",
      " \"Eating Well'S Whole Wheat Pizza Dough\" 'Zucchini Pizza Squares'\n",
      " 'German Pizza' 'Steak Bacon Blue Pizza' 'Mexican Pizza'\n",
      " 'Pizza With Figs, Bacon And Baby Spinach'\n",
      " 'Aubergine (Eggplant) And Potato Pizza' 'Bacon & Tomato Pizza'\n",
      " 'Mediterranean Pesto Pizza' 'Quick And Easy Pizzas Kids Love'\n",
      " 'Pizza Hot Dish Casserole' 'RITZ Pepperoni & Veggie \"Pizza\"'\n",
      " 'Pepihuates Naan-Mexitastic Pizza' 'Grilled Asparagus Pizza']\n"
     ]
    }
   ],
   "source": [
    "keyword = 'pizza'\n",
    "n_recipes = 10\n",
    "recipe_recs, rec_idxs, reference_recipes, keyword_idxs = closest_recipes(keyword, recipes, probs, n_recipes=n_recipes)\n",
    "print(f'Top {n_recipes} recipes for \"{keyword}\":')\n",
    "print(recipe_recs)\n",
    "print('')\n",
    "print(f'Based on recipe samples:')\n",
    "print(reference_recipes)"
   ]
  },
  {
   "cell_type": "code",
   "execution_count": 32,
   "metadata": {},
   "outputs": [],
   "source": [
    "# bow_toy_data['link'] = toy_data['link']\n",
    "# bow_toy_data.head()"
   ]
  },
  {
   "cell_type": "code",
   "execution_count": 33,
   "metadata": {},
   "outputs": [],
   "source": [
    "# pd.to_pickle(bow_toy_data, 'df.pkl')"
   ]
  },
  {
   "cell_type": "code",
   "execution_count": 46,
   "metadata": {},
   "outputs": [
    {
     "data": {
      "text/plain": [
       "[70123, 150710, 157480, 95384, 116032, 54604, 56900, 151716, 126860]"
      ]
     },
     "execution_count": 46,
     "metadata": {},
     "output_type": "execute_result"
    }
   ],
   "source": [
    "rec_idxs"
   ]
  },
  {
   "cell_type": "code",
   "execution_count": 35,
   "metadata": {},
   "outputs": [
    {
     "data": {
      "text/plain": [
       "929910     www.allrecipes.com/recipe/11222/hildas-icebox-...\n",
       "570299       www.cookbooks.com/Recipe-Details.aspx?id=408480\n",
       "1490809    www.tasteofhome.com/recipes/sweet-n-sour-appet...\n",
       "2070153    allrecipes.com/recipe/quick-wine-and-cheese-puff/\n",
       "1933048    www.food.com/recipe/chicken-salad-with-almonds...\n",
       "                                 ...                        \n",
       "696044       www.cookbooks.com/Recipe-Details.aspx?id=343227\n",
       "1970706       www.food.com/recipe/holiday-cookie-pops-132710\n",
       "425889       www.cookbooks.com/Recipe-Details.aspx?id=921975\n",
       "1869068      www.food.com/recipe/7-layer-sombrero-dip-248426\n",
       "1664393        www.food.com/recipe/red-beans-and-rice-166700\n",
       "Name: link, Length: 223114, dtype: object"
      ]
     },
     "execution_count": 35,
     "metadata": {},
     "output_type": "execute_result"
    }
   ],
   "source": [
    "links = df.link\n",
    "links"
   ]
  },
  {
   "cell_type": "code",
   "execution_count": 48,
   "metadata": {},
   "outputs": [
    {
     "data": {
      "text/plain": [
       "array(['www.cookbooks.com/Recipe-Details.aspx?id=718200',\n",
       "       'www.food.com/recipe/beef-and-kidney-pie-3073',\n",
       "       'www.cookbooks.com/Recipe-Details.aspx?id=629025',\n",
       "       'www.cookbooks.com/Recipe-Details.aspx?id=989946',\n",
       "       'www.cookbooks.com/Recipe-Details.aspx?id=97149',\n",
       "       'www.cookbooks.com/Recipe-Details.aspx?id=295519',\n",
       "       'www.epicurious.com/recipes/food/views/strudel-dough-390234',\n",
       "       'cookpad.com/us/recipes/345337-fast-pizza',\n",
       "       'www.yummly.com/recipe/Puffed-Pastry-Pizza-631970'], dtype=object)"
      ]
     },
     "execution_count": 48,
     "metadata": {},
     "output_type": "execute_result"
    }
   ],
   "source": [
    "rec_links = np.array(links)[rec_idxs]\n",
    "rec_links"
   ]
  },
  {
   "cell_type": "code",
   "execution_count": 53,
   "metadata": {},
   "outputs": [
    {
     "data": {
      "text/html": [
       "<div>\n",
       "<style scoped>\n",
       "    .dataframe tbody tr th:only-of-type {\n",
       "        vertical-align: middle;\n",
       "    }\n",
       "\n",
       "    .dataframe tbody tr th {\n",
       "        vertical-align: top;\n",
       "    }\n",
       "\n",
       "    .dataframe thead th {\n",
       "        text-align: right;\n",
       "    }\n",
       "</style>\n",
       "<table border=\"1\" class=\"dataframe\">\n",
       "  <thead>\n",
       "    <tr style=\"text-align: right;\">\n",
       "      <th></th>\n",
       "      <th>Recipe</th>\n",
       "      <th>Link</th>\n",
       "    </tr>\n",
       "  </thead>\n",
       "  <tbody>\n",
       "    <tr>\n",
       "      <th>0</th>\n",
       "      <td>Barbecue Oysters</td>\n",
       "      <td>www.cookbooks.com/Recipe-Details.aspx?id=718200</td>\n",
       "    </tr>\n",
       "    <tr>\n",
       "      <th>1</th>\n",
       "      <td>Beef And Kidney Pie</td>\n",
       "      <td>www.food.com/recipe/beef-and-kidney-pie-3073</td>\n",
       "    </tr>\n",
       "    <tr>\n",
       "      <th>2</th>\n",
       "      <td>Pizzicate Pizzas</td>\n",
       "      <td>www.cookbooks.com/Recipe-Details.aspx?id=629025</td>\n",
       "    </tr>\n",
       "    <tr>\n",
       "      <th>3</th>\n",
       "      <td>Easy Pizza</td>\n",
       "      <td>www.cookbooks.com/Recipe-Details.aspx?id=989946</td>\n",
       "    </tr>\n",
       "    <tr>\n",
       "      <th>4</th>\n",
       "      <td>Lee'S Spaghetti Sauce(Makes 4 To 6 Servings)</td>\n",
       "      <td>www.cookbooks.com/Recipe-Details.aspx?id=97149</td>\n",
       "    </tr>\n",
       "    <tr>\n",
       "      <th>5</th>\n",
       "      <td>Pizza Crackers</td>\n",
       "      <td>www.cookbooks.com/Recipe-Details.aspx?id=295519</td>\n",
       "    </tr>\n",
       "    <tr>\n",
       "      <th>6</th>\n",
       "      <td>Strudel Dough</td>\n",
       "      <td>www.epicurious.com/recipes/food/views/strudel-...</td>\n",
       "    </tr>\n",
       "    <tr>\n",
       "      <th>7</th>\n",
       "      <td>Fast pizza</td>\n",
       "      <td>cookpad.com/us/recipes/345337-fast-pizza</td>\n",
       "    </tr>\n",
       "    <tr>\n",
       "      <th>8</th>\n",
       "      <td>Puffed Pastry Pizza</td>\n",
       "      <td>www.yummly.com/recipe/Puffed-Pastry-Pizza-631970</td>\n",
       "    </tr>\n",
       "  </tbody>\n",
       "</table>\n",
       "</div>"
      ],
      "text/plain": [
       "                                           Recipe  \\\n",
       "0                                Barbecue Oysters   \n",
       "1                             Beef And Kidney Pie   \n",
       "2                                Pizzicate Pizzas   \n",
       "3                                      Easy Pizza   \n",
       "4  Lee'S Spaghetti Sauce(Makes 4 To 6 Servings)     \n",
       "5                                  Pizza Crackers   \n",
       "6                                   Strudel Dough   \n",
       "7                                      Fast pizza   \n",
       "8                             Puffed Pastry Pizza   \n",
       "\n",
       "                                                Link  \n",
       "0    www.cookbooks.com/Recipe-Details.aspx?id=718200  \n",
       "1       www.food.com/recipe/beef-and-kidney-pie-3073  \n",
       "2    www.cookbooks.com/Recipe-Details.aspx?id=629025  \n",
       "3    www.cookbooks.com/Recipe-Details.aspx?id=989946  \n",
       "4     www.cookbooks.com/Recipe-Details.aspx?id=97149  \n",
       "5    www.cookbooks.com/Recipe-Details.aspx?id=295519  \n",
       "6  www.epicurious.com/recipes/food/views/strudel-...  \n",
       "7           cookpad.com/us/recipes/345337-fast-pizza  \n",
       "8   www.yummly.com/recipe/Puffed-Pastry-Pizza-631970  "
      ]
     },
     "execution_count": 53,
     "metadata": {},
     "output_type": "execute_result"
    }
   ],
   "source": [
    "results = {'Recipe': recipe_recs, 'Link': rec_links}\n",
    "results_df = pd.DataFrame(results)\n",
    "results_df"
   ]
  },
  {
   "cell_type": "code",
   "execution_count": null,
   "metadata": {},
   "outputs": [],
   "source": []
  },
  {
   "cell_type": "code",
   "execution_count": null,
   "metadata": {},
   "outputs": [],
   "source": []
  }
 ],
 "metadata": {
  "kernelspec": {
   "display_name": "Python 3",
   "language": "python",
   "name": "python3"
  },
  "language_info": {
   "codemirror_mode": {
    "name": "ipython",
    "version": 3
   },
   "file_extension": ".py",
   "mimetype": "text/x-python",
   "name": "python",
   "nbconvert_exporter": "python",
   "pygments_lexer": "ipython3",
   "version": "3.7.7"
  }
 },
 "nbformat": 4,
 "nbformat_minor": 4
}
