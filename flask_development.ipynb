{
 "cells": [
  {
   "cell_type": "code",
   "execution_count": 1,
   "metadata": {},
   "outputs": [
    {
     "name": "stderr",
     "output_type": "stream",
     "text": [
      "[nltk_data] Downloading package stopwords to /home/jovyan/nltk_data...\n",
      "[nltk_data]   Package stopwords is already up-to-date!\n",
      "[nltk_data] Downloading package punkt to /home/jovyan/nltk_data...\n",
      "[nltk_data]   Package punkt is already up-to-date!\n"
     ]
    }
   ],
   "source": [
    "import pandas as pd\n",
    "import numpy as np\n",
    "import networkx as nx\n",
    "import matplotlib.pyplot as plt\n",
    "\n",
    "from ast import literal_eval\n",
    "\n",
    "from urllib.parse import urlparse\n",
    "\n",
    "from sklearn.feature_extraction.text import CountVectorizer, TfidfVectorizer\n",
    "from sklearn.decomposition import LatentDirichletAllocation\n",
    "from sklearn.metrics.pairwise import cosine_similarity, cosine_distances\n",
    "from sklearn.metrics import jaccard_score\n",
    "from sklearn.cluster import KMeans\n",
    "from sklearn.metrics import silhouette_score\n",
    "from sklearn.model_selection import train_test_split, RandomizedSearchCV\n",
    "\n",
    "import string\n",
    "import nltk\n",
    "nltk.download('stopwords')\n",
    "nltk.download('punkt')\n",
    "from nltk.corpus import stopwords\n",
    "from nltk.tokenize import word_tokenize\n",
    "from nltk.stem.porter import PorterStemmer as PS\n",
    "\n",
    "import joblib\n",
    "\n",
    "import pprint\n",
    "\n",
    "import pickle"
   ]
  },
  {
   "cell_type": "code",
   "execution_count": 2,
   "metadata": {},
   "outputs": [],
   "source": [
    "# data = pd.read_csv('dataset/full_dataset.csv')\n",
    "# data = pd.read_csv('../dataset/full_dataset.csv')"
   ]
  },
  {
   "cell_type": "code",
   "execution_count": 3,
   "metadata": {},
   "outputs": [],
   "source": [
    "# toy_data = data.sample(frac=0.1, replace=False)\n",
    "# toy_data.head(10)"
   ]
  },
  {
   "cell_type": "code",
   "execution_count": 4,
   "metadata": {},
   "outputs": [],
   "source": [
    "# toy_data.info()"
   ]
  },
  {
   "cell_type": "code",
   "execution_count": 5,
   "metadata": {},
   "outputs": [],
   "source": [
    "# def literal_return(val):\n",
    "#     try:\n",
    "#         return literal_eval(val)\n",
    "#     except (ValueError, SyntaxError) as e:\n",
    "#         return val\n",
    "\n",
    "# def df_str_to_literal(df, column_name):\n",
    "#     df[column_name] = df[column_name].apply(literal_return)\n",
    "#     return df[column_name]"
   ]
  },
  {
   "cell_type": "code",
   "execution_count": 6,
   "metadata": {},
   "outputs": [],
   "source": [
    "# def clean_df(df, columns_list):\n",
    "#     for col in columns_list:\n",
    "#         df[col] = df_str_to_literal(df, col)\n",
    "#     return None"
   ]
  },
  {
   "cell_type": "code",
   "execution_count": 7,
   "metadata": {},
   "outputs": [],
   "source": [
    "# clean_df(toy_data, ['ingredients', 'directions', 'NER'])"
   ]
  },
  {
   "cell_type": "code",
   "execution_count": 8,
   "metadata": {},
   "outputs": [],
   "source": [
    "# toy_data.head()"
   ]
  },
  {
   "cell_type": "code",
   "execution_count": 9,
   "metadata": {},
   "outputs": [],
   "source": [
    "# toy_data['bag_of_words'] = ''\n",
    "# columns_list = ['title', 'ingredients', 'directions']\n",
    "# for col in columns_list:\n",
    "#     if col == 'title':\n",
    "#         toy_data['bag_of_words'] += toy_data[col] + ' '\n",
    "#     if col == 'ingredients':\n",
    "#         toy_data['bag_of_words'] += toy_data[col].apply(' '.join) + ' '\n",
    "#     if col == 'directions':\n",
    "#         toy_data['bag_of_words'] += toy_data[col].apply(' '.join)\n",
    "# toy_data.head()"
   ]
  },
  {
   "cell_type": "code",
   "execution_count": 10,
   "metadata": {},
   "outputs": [],
   "source": [
    "# bow_toy_data = toy_data[['title','bag_of_words']]\n",
    "# bow_toy_data.head()"
   ]
  },
  {
   "cell_type": "code",
   "execution_count": 11,
   "metadata": {},
   "outputs": [],
   "source": [
    "# documents = bow_toy_data.bag_of_words"
   ]
  },
  {
   "cell_type": "code",
   "execution_count": 12,
   "metadata": {},
   "outputs": [],
   "source": [
    "# def clean_document(document):\n",
    "#     '''\n",
    "#     Takes in a string.\n",
    "#     Returns cleaned string.\n",
    "#     '''\n",
    "#     # lowercase the strings\n",
    "#     doc_lower = document.lower() \n",
    "\n",
    "#     #tokenize\n",
    "#     tokens = word_tokenize(doc_lower) \n",
    "    \n",
    "#     # remove punctuation\n",
    "#     punc = set(string.punctuation)\n",
    "#     tokens_no_punc = [word for word in tokens if word not in punc]\n",
    "   \n",
    "#     # remove stopwords\n",
    "#     s_words = set(stopwords.words('english'))\n",
    "#     s_words_list = ['tablespoon', 'tbsp', 'teaspoon', 'tsp', 'cup', 'oz', 'lb', 'c.']\n",
    "#     for word in s_words_list:\n",
    "#         s_words.add(word)\n",
    "#     tokens_no_sw = [word for word in tokens_no_punc if word not in s_words]\n",
    "    \n",
    "#     # stem the words to get rid of multiple forms of the same word\n",
    "#     porter = PS()\n",
    "#     tokens_stemmed = [porter.stem(word) for word in tokens_no_sw]\n",
    "    \n",
    "#     # join all words into one string\n",
    "#     cleaned_doc = ' '.join(tokens_stemmed)\n",
    "    \n",
    "#     return cleaned_doc"
   ]
  },
  {
   "cell_type": "code",
   "execution_count": 13,
   "metadata": {},
   "outputs": [],
   "source": [
    "# bow_toy_data['cleaned_bow'] = toy_data['bag_of_words'].apply(clean_document)\n",
    "# bow_toy_data"
   ]
  },
  {
   "cell_type": "code",
   "execution_count": 14,
   "metadata": {},
   "outputs": [],
   "source": [
    "# docs_cleaned = bow_toy_data['cleaned_bow']"
   ]
  },
  {
   "cell_type": "code",
   "execution_count": 15,
   "metadata": {},
   "outputs": [],
   "source": [
    "lda = joblib.load('./models/lda_model_6_tid_pickle4.joblib')\n",
    "tf_vectorizer = joblib.load('./models/vec_6_tid_pickle4.joblib')"
   ]
  },
  {
   "cell_type": "code",
   "execution_count": 16,
   "metadata": {},
   "outputs": [],
   "source": [
    "with open('./flask_app/df.pkl', 'rb') as f:\n",
    "    df = pickle.load(f)"
   ]
  },
  {
   "cell_type": "code",
   "execution_count": 17,
   "metadata": {},
   "outputs": [],
   "source": [
    "docs = df['cleaned_bow']"
   ]
  },
  {
   "cell_type": "code",
   "execution_count": 18,
   "metadata": {},
   "outputs": [],
   "source": [
    "tf = tf_vectorizer.fit_transform(docs)"
   ]
  },
  {
   "cell_type": "code",
   "execution_count": 19,
   "metadata": {},
   "outputs": [],
   "source": [
    "# lda.perplexity(tf)"
   ]
  },
  {
   "cell_type": "code",
   "execution_count": 20,
   "metadata": {},
   "outputs": [],
   "source": [
    "probs = lda.transform(tf)"
   ]
  },
  {
   "cell_type": "code",
   "execution_count": 21,
   "metadata": {},
   "outputs": [],
   "source": [
    "def get_keyword_idxs(keyword, idx_arr, recipes):\n",
    "    keyword_recipes = recipes[recipes.str.contains(keyword, case=False, regex=False)]\n",
    "    keyword_samples = np.random.choice(keyword_recipes.index, size=min(len(keyword_recipes), 50), replace=False)\n",
    "    keyword_idxs = []\n",
    "    for sample_idx in keyword_samples:\n",
    "        keyword_idx = int(np.where(idx_arr == sample_idx)[0])\n",
    "        keyword_idxs.append(keyword_idx)\n",
    "    return keyword_idxs"
   ]
  },
  {
   "cell_type": "code",
   "execution_count": 22,
   "metadata": {},
   "outputs": [],
   "source": [
    "# def get_sample_recipes(keyword, recipes):\n",
    "#     keyword_idxs = get_keyword_idxs(keyword, recipes)\n",
    "#     print(f'Recipe samples for {keyword}')\n",
    "#     return np.array(recipes)[keyword_idxs]"
   ]
  },
  {
   "cell_type": "code",
   "execution_count": 23,
   "metadata": {},
   "outputs": [],
   "source": [
    "def closest_recipes(keyword, idx_arr, recipes, probs, n_recipes=10):\n",
    "    keyword_idxs = get_keyword_idxs(keyword, idx_arr, recipes)\n",
    "    \n",
    "    d={}\n",
    "    for idx in keyword_idxs:\n",
    "        sims = cosine_distances(probs[idx].reshape(1, -1), probs).argsort()[0]\n",
    "        for sim in sims[1:n_recipes+1]:\n",
    "            if sim not in d:\n",
    "                d[sim] = 1\n",
    "            else:\n",
    "                d[sim] += 1\n",
    "                \n",
    "    rec_idxs = [k for k, v in sorted(d.items(), key=lambda item: item[1])][:-n_recipes:-1]\n",
    "    recipe_recs = np.array(recipes)[rec_idxs]\n",
    "    reference_recipes = np.array(recipes)[keyword_idxs]\n",
    "    \n",
    "    return recipe_recs, rec_idxs, reference_recipes, keyword_idxs"
   ]
  },
  {
   "cell_type": "code",
   "execution_count": 24,
   "metadata": {},
   "outputs": [],
   "source": [
    "def get_results_df(recipe_recs, links, rec_idxs):\n",
    "    rec_links = np.array(links)[rec_idxs]\n",
    "    results = {'Recipe': recipe_recs, 'Link': rec_links}\n",
    "    results_df = pd.DataFrame(results)\n",
    "    return results_df"
   ]
  },
  {
   "cell_type": "code",
   "execution_count": 36,
   "metadata": {},
   "outputs": [],
   "source": [
    "def results(keyword=''):\n",
    "    if keyword == '':\n",
    "        return 'You must enter a keyword.'\n",
    "    recipe_recs, rec_idxs, reference_recipes, keyword_idxs = closest_recipes(keyword, idx_arr, recipes, probs)\n",
    "    if len(recipe_recs) < 1:\n",
    "        return 'Keyword not found.'\n",
    "    results_df = get_results_df(recipe_recs, links, rec_idxs)\n",
    "    return results_df"
   ]
  },
  {
   "cell_type": "code",
   "execution_count": 37,
   "metadata": {},
   "outputs": [],
   "source": [
    "recipes = df['title']"
   ]
  },
  {
   "cell_type": "code",
   "execution_count": 38,
   "metadata": {},
   "outputs": [],
   "source": [
    "idx_arr = np.array(recipes.index)"
   ]
  },
  {
   "cell_type": "code",
   "execution_count": 39,
   "metadata": {},
   "outputs": [],
   "source": [
    "links = df['link']"
   ]
  },
  {
   "cell_type": "code",
   "execution_count": 40,
   "metadata": {},
   "outputs": [],
   "source": [
    "keyword = 'asbestos'"
   ]
  },
  {
   "cell_type": "code",
   "execution_count": 41,
   "metadata": {},
   "outputs": [],
   "source": [
    "results_df = results(keyword)"
   ]
  },
  {
   "cell_type": "code",
   "execution_count": 42,
   "metadata": {},
   "outputs": [
    {
     "data": {
      "text/plain": [
       "'Keyword not found.'"
      ]
     },
     "execution_count": 42,
     "metadata": {},
     "output_type": "execute_result"
    }
   ],
   "source": [
    "results_df"
   ]
  },
  {
   "cell_type": "code",
   "execution_count": null,
   "metadata": {},
   "outputs": [],
   "source": [
    "# keyword = 'pizza'\n",
    "# n_recipes = 10\n",
    "# recipe_recs, rec_idxs, reference_recipes, keyword_idxs = closest_recipes(keyword, recipes, probs, n_recipes=n_recipes)\n",
    "# print(f'Top {n_recipes} recipes for \"{keyword}\":')\n",
    "# print(recipe_recs)\n",
    "# print('')\n",
    "# print(f'Based on recipe samples:')\n",
    "# print(reference_recipes)"
   ]
  },
  {
   "cell_type": "code",
   "execution_count": null,
   "metadata": {},
   "outputs": [],
   "source": [
    "# bow_toy_data['link'] = toy_data['link']\n",
    "# bow_toy_data.head()"
   ]
  },
  {
   "cell_type": "code",
   "execution_count": null,
   "metadata": {},
   "outputs": [],
   "source": [
    "# pd.to_pickle(bow_toy_data, 'df.pkl')"
   ]
  },
  {
   "cell_type": "code",
   "execution_count": null,
   "metadata": {},
   "outputs": [],
   "source": []
  },
  {
   "cell_type": "code",
   "execution_count": null,
   "metadata": {},
   "outputs": [],
   "source": []
  }
 ],
 "metadata": {
  "kernelspec": {
   "display_name": "Python 3",
   "language": "python",
   "name": "python3"
  },
  "language_info": {
   "codemirror_mode": {
    "name": "ipython",
    "version": 3
   },
   "file_extension": ".py",
   "mimetype": "text/x-python",
   "name": "python",
   "nbconvert_exporter": "python",
   "pygments_lexer": "ipython3",
   "version": "3.8.6"
  }
 },
 "nbformat": 4,
 "nbformat_minor": 4
}
