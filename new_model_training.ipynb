{
 "cells": [
  {
   "cell_type": "code",
   "execution_count": 23,
   "metadata": {},
   "outputs": [],
   "source": [
    "import pickle\n",
    "import pandas as pd\n",
    "import numpy as np\n",
    "from sklearn.metrics.pairwise import cosine_distances\n",
    "import joblib\n",
    "from sklearn.feature_extraction.text import CountVectorizer\n",
    "from sklearn.decomposition import LatentDirichletAllocation\n",
    "from sklearn.model_selection import train_test_split\n",
    "import matplotlib.pyplot as plt"
   ]
  },
  {
   "cell_type": "code",
   "execution_count": 24,
   "metadata": {},
   "outputs": [],
   "source": [
    "with open('./dataframes/full_data_clean_df_pickle4.pkl', 'rb') as f:\n",
    "    df = pickle.load(f)"
   ]
  },
  {
   "cell_type": "code",
   "execution_count": 25,
   "metadata": {},
   "outputs": [],
   "source": [
    "docs_train, docs_test = train_test_split(df, stratify=df['site'], train_size=250000)"
   ]
  },
  {
   "cell_type": "code",
   "execution_count": 26,
   "metadata": {},
   "outputs": [
    {
     "data": {
      "text/html": [
       "<div>\n",
       "<style scoped>\n",
       "    .dataframe tbody tr th:only-of-type {\n",
       "        vertical-align: middle;\n",
       "    }\n",
       "\n",
       "    .dataframe tbody tr th {\n",
       "        vertical-align: top;\n",
       "    }\n",
       "\n",
       "    .dataframe thead th {\n",
       "        text-align: right;\n",
       "    }\n",
       "</style>\n",
       "<table border=\"1\" class=\"dataframe\">\n",
       "  <thead>\n",
       "    <tr style=\"text-align: right;\">\n",
       "      <th></th>\n",
       "      <th>Unnamed: 0</th>\n",
       "      <th>title</th>\n",
       "      <th>NER</th>\n",
       "      <th>site</th>\n",
       "      <th>urls</th>\n",
       "      <th>bag_of_words</th>\n",
       "      <th>cleaned_bow</th>\n",
       "    </tr>\n",
       "  </thead>\n",
       "  <tbody>\n",
       "    <tr>\n",
       "      <th>566922</th>\n",
       "      <td>566922</td>\n",
       "      <td>Condensed Tomato Soup</td>\n",
       "      <td>[tomatoes, chicken broth, heavy cream]</td>\n",
       "      <td>www.cookbooks.com</td>\n",
       "      <td>http://www.cookbooks.com/Recipe-Details.aspx?i...</td>\n",
       "      <td>Condensed Tomato Soup 1 large can of crushed t...</td>\n",
       "      <td>condens tomato soup 1 larg crush tomato 4 chic...</td>\n",
       "    </tr>\n",
       "    <tr>\n",
       "      <th>240073</th>\n",
       "      <td>240073</td>\n",
       "      <td>Vegetable Clam Chowder(Low-Fat)</td>\n",
       "      <td>[clams, bay leaves, oregano, onion, low-fat ch...</td>\n",
       "      <td>www.cookbooks.com</td>\n",
       "      <td>http://www.cookbooks.com/Recipe-Details.aspx?i...</td>\n",
       "      <td>Vegetable Clam Chowder(Low-Fat)   2 cans clams...</td>\n",
       "      <td>veget clam chowder low-fat 2 can clam 2 bay le...</td>\n",
       "    </tr>\n",
       "    <tr>\n",
       "      <th>599686</th>\n",
       "      <td>599686</td>\n",
       "      <td>Party Potatoes</td>\n",
       "      <td>[white potatoes, salt, sour cream, Cheddar che...</td>\n",
       "      <td>www.cookbooks.com</td>\n",
       "      <td>http://www.cookbooks.com/Recipe-Details.aspx?i...</td>\n",
       "      <td>Party Potatoes 4 to 5 large white potatoes, bo...</td>\n",
       "      <td>parti potato 4 5 larg white potato boil jacket...</td>\n",
       "    </tr>\n",
       "    <tr>\n",
       "      <th>122349</th>\n",
       "      <td>122349</td>\n",
       "      <td>Dirty Rice</td>\n",
       "      <td>[ground chuck, rice, onion soup, cream of chic...</td>\n",
       "      <td>www.cookbooks.com</td>\n",
       "      <td>http://www.cookbooks.com/Recipe-Details.aspx?i...</td>\n",
       "      <td>Dirty Rice 1 lb. ground chuck 1 c. uncooked ri...</td>\n",
       "      <td>dirti rice 1 ground chuck 1 uncook rice 1 onio...</td>\n",
       "    </tr>\n",
       "    <tr>\n",
       "      <th>782954</th>\n",
       "      <td>782954</td>\n",
       "      <td>\"Herman\" Starter</td>\n",
       "      <td>[flour, sugar, yeast, salt, warm water]</td>\n",
       "      <td>www.cookbooks.com</td>\n",
       "      <td>http://www.cookbooks.com/Recipe-Details.aspx?i...</td>\n",
       "      <td>\"Herman\" Starter 2 c. flour 3 Tbsp. sugar 1 en...</td>\n",
       "      <td>`` herman '' starter 2 flour 3 sugar 1 envelop...</td>\n",
       "    </tr>\n",
       "  </tbody>\n",
       "</table>\n",
       "</div>"
      ],
      "text/plain": [
       "        Unnamed: 0                              title  \\\n",
       "566922      566922              Condensed Tomato Soup   \n",
       "240073      240073  Vegetable Clam Chowder(Low-Fat)     \n",
       "599686      599686                     Party Potatoes   \n",
       "122349      122349                         Dirty Rice   \n",
       "782954      782954                   \"Herman\" Starter   \n",
       "\n",
       "                                                      NER               site  \\\n",
       "566922             [tomatoes, chicken broth, heavy cream]  www.cookbooks.com   \n",
       "240073  [clams, bay leaves, oregano, onion, low-fat ch...  www.cookbooks.com   \n",
       "599686  [white potatoes, salt, sour cream, Cheddar che...  www.cookbooks.com   \n",
       "122349  [ground chuck, rice, onion soup, cream of chic...  www.cookbooks.com   \n",
       "782954            [flour, sugar, yeast, salt, warm water]  www.cookbooks.com   \n",
       "\n",
       "                                                     urls  \\\n",
       "566922  http://www.cookbooks.com/Recipe-Details.aspx?i...   \n",
       "240073  http://www.cookbooks.com/Recipe-Details.aspx?i...   \n",
       "599686  http://www.cookbooks.com/Recipe-Details.aspx?i...   \n",
       "122349  http://www.cookbooks.com/Recipe-Details.aspx?i...   \n",
       "782954  http://www.cookbooks.com/Recipe-Details.aspx?i...   \n",
       "\n",
       "                                             bag_of_words  \\\n",
       "566922  Condensed Tomato Soup 1 large can of crushed t...   \n",
       "240073  Vegetable Clam Chowder(Low-Fat)   2 cans clams...   \n",
       "599686  Party Potatoes 4 to 5 large white potatoes, bo...   \n",
       "122349  Dirty Rice 1 lb. ground chuck 1 c. uncooked ri...   \n",
       "782954  \"Herman\" Starter 2 c. flour 3 Tbsp. sugar 1 en...   \n",
       "\n",
       "                                              cleaned_bow  \n",
       "566922  condens tomato soup 1 larg crush tomato 4 chic...  \n",
       "240073  veget clam chowder low-fat 2 can clam 2 bay le...  \n",
       "599686  parti potato 4 5 larg white potato boil jacket...  \n",
       "122349  dirti rice 1 ground chuck 1 uncook rice 1 onio...  \n",
       "782954  `` herman '' starter 2 flour 3 sugar 1 envelop...  "
      ]
     },
     "execution_count": 26,
     "metadata": {},
     "output_type": "execute_result"
    }
   ],
   "source": [
    "docs_train.head()"
   ]
  },
  {
   "cell_type": "code",
   "execution_count": null,
   "metadata": {},
   "outputs": [],
   "source": [
    "from model_comparisions import get_counts, counts_horizontal_bar"
   ]
  },
  {
   "cell_type": "code",
   "execution_count": null,
   "metadata": {},
   "outputs": [],
   "source": [
    "website_counts = get_counts(df, 'site')\n",
    "website_counts"
   ]
  },
  {
   "cell_type": "code",
   "execution_count": null,
   "metadata": {},
   "outputs": [],
   "source": [
    "fig, ax = plt.subplots(figsize=(18,10))\n",
    "ax.set_xlabel('Recipe Count', fontsize = 24)\n",
    "ax.set_title('Counts of Recipes by Website', fontsize = 24)\n",
    "\n",
    "counts_horizontal_bar(website_counts, 'counts', 'site', 0, 900000, 60000, ax)"
   ]
  },
  {
   "cell_type": "code",
   "execution_count": 27,
   "metadata": {},
   "outputs": [],
   "source": [
    "docs_train.to_pickle('./dataframes/250k_new_df_pickle_4.pkl', protocol=4)"
   ]
  },
  {
   "cell_type": "code",
   "execution_count": 28,
   "metadata": {},
   "outputs": [],
   "source": [
    "docs_cleaned = docs_train['cleaned_bow']"
   ]
  },
  {
   "cell_type": "code",
   "execution_count": 29,
   "metadata": {},
   "outputs": [],
   "source": [
    "vec = CountVectorizer(max_df=0.85, \n",
    "                      min_df=10,\n",
    "                      ngram_range=(1,3),\n",
    "                      max_features=1000)\n",
    "\n",
    "tf = vec.fit_transform(docs_cleaned)"
   ]
  },
  {
   "cell_type": "code",
   "execution_count": 30,
   "metadata": {},
   "outputs": [
    {
     "data": {
      "text/plain": [
       "['./models/250k_new_vec_pickle_4.joblib']"
      ]
     },
     "execution_count": 30,
     "metadata": {},
     "output_type": "execute_result"
    }
   ],
   "source": [
    "joblib.dump(vec, './models/250k_new_vec_pickle_4.joblib', protocol=4)"
   ]
  },
  {
   "cell_type": "code",
   "execution_count": 31,
   "metadata": {},
   "outputs": [
    {
     "data": {
      "text/plain": [
       "LatentDirichletAllocation(batch_size=32, doc_topic_prior=0.9,\n",
       "                          learning_method='online', learning_offset=50,\n",
       "                          n_components=100, n_jobs=-1, topic_word_prior=0.9)"
      ]
     },
     "execution_count": 31,
     "metadata": {},
     "output_type": "execute_result"
    }
   ],
   "source": [
    "num_topics = 100\n",
    "\n",
    "lda = LatentDirichletAllocation(n_components=num_topics,\n",
    "                                learning_method='online',\n",
    "                                learning_offset=50,\n",
    "                                doc_topic_prior=0.9,\n",
    "                                topic_word_prior=0.9,\n",
    "                                batch_size=32,\n",
    "                                n_jobs=-1)\n",
    "lda.fit(tf)"
   ]
  },
  {
   "cell_type": "code",
   "execution_count": 32,
   "metadata": {},
   "outputs": [
    {
     "data": {
      "text/plain": [
       "['./models/250k_new_lda_pickle_4.joblib']"
      ]
     },
     "execution_count": 32,
     "metadata": {},
     "output_type": "execute_result"
    }
   ],
   "source": [
    "joblib.dump(lda, './models/250k_new_lda_pickle_4.joblib',protocol=4)"
   ]
  },
  {
   "cell_type": "code",
   "execution_count": 33,
   "metadata": {},
   "outputs": [
    {
     "data": {
      "text/plain": [
       "-119074268.38571844"
      ]
     },
     "execution_count": 33,
     "metadata": {},
     "output_type": "execute_result"
    }
   ],
   "source": [
    "lda.score(tf)"
   ]
  },
  {
   "cell_type": "code",
   "execution_count": 34,
   "metadata": {},
   "outputs": [
    {
     "data": {
      "text/plain": [
       "402.44675421065614"
      ]
     },
     "execution_count": 34,
     "metadata": {},
     "output_type": "execute_result"
    }
   ],
   "source": [
    "lda.perplexity(tf)"
   ]
  },
  {
   "cell_type": "code",
   "execution_count": null,
   "metadata": {},
   "outputs": [],
   "source": []
  },
  {
   "cell_type": "code",
   "execution_count": null,
   "metadata": {},
   "outputs": [],
   "source": []
  },
  {
   "cell_type": "code",
   "execution_count": null,
   "metadata": {},
   "outputs": [],
   "source": []
  }
 ],
 "metadata": {
  "kernelspec": {
   "display_name": "Python 3",
   "language": "python",
   "name": "python3"
  },
  "language_info": {
   "codemirror_mode": {
    "name": "ipython",
    "version": 3
   },
   "file_extension": ".py",
   "mimetype": "text/x-python",
   "name": "python",
   "nbconvert_exporter": "python",
   "pygments_lexer": "ipython3",
   "version": "3.8.6"
  }
 },
 "nbformat": 4,
 "nbformat_minor": 4
}
